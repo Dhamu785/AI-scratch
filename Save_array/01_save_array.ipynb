{
  "nbformat": 4,
  "nbformat_minor": 0,
  "metadata": {
    "colab": {
      "provenance": [],
      "include_colab_link": true
    },
    "kernelspec": {
      "name": "python3",
      "display_name": "Python 3"
    },
    "language_info": {
      "name": "python"
    }
  },
  "cells": [
    {
      "cell_type": "markdown",
      "metadata": {
        "id": "view-in-github",
        "colab_type": "text"
      },
      "source": [
        "<a href=\"https://colab.research.google.com/github/Dhamu785/AI-scratch/blob/main/Save_array/01_save_array.ipynb\" target=\"_parent\"><img src=\"https://colab.research.google.com/assets/colab-badge.svg\" alt=\"Open In Colab\"/></a>"
      ]
    },
    {
      "cell_type": "code",
      "execution_count": null,
      "metadata": {
        "id": "C7bbO6uZD7yF"
      },
      "outputs": [],
      "source": [
        "import numpy as np\n",
        "import time\n",
        "import datetime\n",
        "import pickle\n",
        "import h5py\n",
        "import hickle as hkl"
      ]
    },
    {
      "cell_type": "code",
      "source": [
        "print(f\"Time = {datetime.datetime.now()}\")\n",
        "time.time()"
      ],
      "metadata": {
        "colab": {
          "base_uri": "https://localhost:8080/"
        },
        "id": "jaEEWDXkET5z",
        "outputId": "d343a366-f230-4a6f-9a64-142d6d886d07"
      },
      "execution_count": null,
      "outputs": [
        {
          "output_type": "stream",
          "name": "stdout",
          "text": [
            "Time = 2023-12-13 17:52:09.602003\n"
          ]
        },
        {
          "output_type": "execute_result",
          "data": {
            "text/plain": [
              "1702489929.6031861"
            ]
          },
          "metadata": {},
          "execution_count": 2
        }
      ]
    },
    {
      "cell_type": "markdown",
      "source": [
        "## **Save and Load .npy file**"
      ],
      "metadata": {
        "id": "A9aJubjhKpve"
      }
    },
    {
      "cell_type": "code",
      "source": [
        "st = time.time()\n",
        "np_load = np.load(\"/content/drive/MyDrive/Image quality enhancement/npy/x/data_1k.npy\")\n",
        "print(f\"Total time to read = {time.time()-st:.2f}\")\n",
        "\n",
        "st = time.time()\n",
        "np.save(\"/content/drive/MyDrive/Image quality enhancement/array_test/1.npy\", np_load)\n",
        "print(f\"Total time to save = {time.time()-st:.2f}\")"
      ],
      "metadata": {
        "colab": {
          "base_uri": "https://localhost:8080/"
        },
        "id": "2JNmrkqBJYlB",
        "outputId": "2f945952-1d58-4b83-a8dc-6cd5da73a4e5"
      },
      "execution_count": null,
      "outputs": [
        {
          "output_type": "stream",
          "name": "stdout",
          "text": [
            "Total time to read = 23.31\n",
            "Total time to save = 11.86\n"
          ]
        }
      ]
    },
    {
      "cell_type": "markdown",
      "source": [
        "## **Save and Load .pkl file - [Stack overflow](https://stackoverflow.com/questions/4530611/saving-and-loading-objects-and-using-pickle)**"
      ],
      "metadata": {
        "id": "ClAnR5OsMoJd"
      }
    },
    {
      "cell_type": "code",
      "source": [
        "st = time.time()\n",
        "pk = open(\"/content/drive/MyDrive/Image quality enhancement/array_test/1.pickle\", \"wb\")\n",
        "pickle.dump(np_load, pk)\n",
        "pk.close()\n",
        "print(f\"Total time to save = {time.time()-st:.2f}\")\n",
        "\n",
        "st = time.time()\n",
        "pkl = open(\"/content/drive/MyDrive/Image quality enhancement/array_test/1.pickle\", \"rb\")\n",
        "pkl_data = pickle.load(pkl)\n",
        "print(f\"Total time to load = {time.time()-st:.2f}\")"
      ],
      "metadata": {
        "colab": {
          "base_uri": "https://localhost:8080/"
        },
        "id": "dMEbt2ZqL8VR",
        "outputId": "9a341f83-2fa2-40a6-bdb9-01a4154ce415"
      },
      "execution_count": null,
      "outputs": [
        {
          "output_type": "stream",
          "name": "stdout",
          "text": [
            "Total time to save = 15.64\n",
            "Total time to save = 5.14\n"
          ]
        }
      ]
    },
    {
      "cell_type": "markdown",
      "source": [
        "## **Save and Load .h5py file - [Stackover flow](https://stackoverflow.com/questions/20928136/input-and-output-numpy-arrays-to-h5py)**"
      ],
      "metadata": {
        "id": "IzoNhfR9PuRd"
      }
    },
    {
      "cell_type": "code",
      "source": [
        "st = time.time()\n",
        "h5f = h5py.File('/content/drive/MyDrive/Image quality enhancement/array_test/2.h5', 'w')\n",
        "h5f.create_dataset('dataset_1_name', data=np_load)\n",
        "h5f.close()\n",
        "print(f\"Total time to save = {time.time()-st:.2f}\")\n",
        "\n",
        "st = time.time()\n",
        "h5f = h5py.File('/content/drive/MyDrive/Image quality enhancement/array_test/2.h5','r')\n",
        "b = h5f['dataset_1_name'][:]\n",
        "h5f.close()\n",
        "print(f\"Total time to load = {time.time()-st:.2f}\")\n"
      ],
      "metadata": {
        "colab": {
          "base_uri": "https://localhost:8080/"
        },
        "id": "L1Ik90WBOndx",
        "outputId": "db509c8c-238c-4850-8f37-1ffcf100dff4"
      },
      "execution_count": null,
      "outputs": [
        {
          "output_type": "stream",
          "name": "stdout",
          "text": [
            "Total time to save = 10.21\n",
            "Total time to load = 6.14\n"
          ]
        }
      ]
    },
    {
      "cell_type": "code",
      "source": [
        "np.unique(b == np_load)"
      ],
      "metadata": {
        "colab": {
          "base_uri": "https://localhost:8080/"
        },
        "id": "z3s6nq58Q-za",
        "outputId": "f5b7ca98-ac7e-46e9-9883-79f9f9cc6d26"
      },
      "execution_count": null,
      "outputs": [
        {
          "output_type": "execute_result",
          "data": {
            "text/plain": [
              "array([ True])"
            ]
          },
          "metadata": {},
          "execution_count": 11
        }
      ]
    },
    {
      "cell_type": "markdown",
      "source": [
        "## **Save and Load .hickle file - [Stackover flow](https://stackoverflow.com/questions/9619199/best-way-to-preserve-numpy-arrays-on-disk)**"
      ],
      "metadata": {
        "id": "j_rtLuLWWDZP"
      }
    },
    {
      "cell_type": "code",
      "source": [
        "st = time.time()\n",
        "# Dump data to file\n",
        "hkl.dump(np_load, '/content/drive/MyDrive/Image quality enhancement/array_test/new_data_file.hkl')\n",
        "print(f\"Total time to save = {time.time()-st:.2f}\")\n",
        "\n",
        "st = time.time()\n",
        "# Load data from file\n",
        "data2 = hkl.load('/content/drive/MyDrive/Image quality enhancement/array_test/new_data_file.hkl')\n",
        "print(f\"Total time to load = {time.time()-st:.2f}\")\n"
      ],
      "metadata": {
        "colab": {
          "base_uri": "https://localhost:8080/"
        },
        "id": "EW5p4bIySa96",
        "outputId": "be7b2aae-6c05-495d-8a3a-0addc1bd2bcc"
      },
      "execution_count": null,
      "outputs": [
        {
          "output_type": "stream",
          "name": "stdout",
          "text": [
            "Total time to save = 14.52\n",
            "Total time to load = 12.68\n"
          ]
        }
      ]
    },
    {
      "cell_type": "markdown",
      "source": [
        "## **END**"
      ],
      "metadata": {
        "id": "fhAQDRn7WeHZ"
      }
    }
  ]
}