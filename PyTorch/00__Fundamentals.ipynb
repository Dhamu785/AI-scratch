{
  "nbformat": 4,
  "nbformat_minor": 0,
  "metadata": {
    "colab": {
      "provenance": [],
      "collapsed_sections": [
        "9mENS_2tl16U",
        "3QS2JkMHzO8A",
        "DjTmOujIzS-V",
        "5bXrF3Gd10Xc",
        "d_icA-4b20yq",
        "OIIsAZqWb6A3",
        "3xbQjzfy-bGy",
        "dNC1ypfnjo09",
        "bT1n6Fd3ILBl",
        "mzbeYzxv4Lmi",
        "UxqjbQSW_wwT",
        "tdr1LqsCQIv2"
      ],
      "toc_visible": true,
      "authorship_tag": "ABX9TyMeYctugJVu+heyjhPZyBHV",
      "include_colab_link": true
    },
    "kernelspec": {
      "name": "python3",
      "display_name": "Python 3"
    },
    "language_info": {
      "name": "python"
    }
  },
  "cells": [
    {
      "cell_type": "markdown",
      "metadata": {
        "id": "view-in-github",
        "colab_type": "text"
      },
      "source": [
        "<a href=\"https://colab.research.google.com/github/Dhamu785/AI-scratch/blob/main/PyTorch/00__Fundamentals.ipynb\" target=\"_parent\"><img src=\"https://colab.research.google.com/assets/colab-badge.svg\" alt=\"Open In Colab\"/></a>"
      ]
    },
    {
      "cell_type": "markdown",
      "source": [
        "## **1. Introduction**"
      ],
      "metadata": {
        "id": "9mENS_2tl16U"
      }
    },
    {
      "cell_type": "code",
      "execution_count": null,
      "metadata": {
        "colab": {
          "base_uri": "https://localhost:8080/"
        },
        "id": "QRm4a0Bhf595",
        "outputId": "3c5d96dd-4fed-4ffe-e2e7-9d4e83605a63"
      },
      "outputs": [
        {
          "output_type": "stream",
          "name": "stdout",
          "text": [
            "/bin/bash: line 1: nvidia-smi: command not found\n"
          ]
        }
      ],
      "source": [
        "!nvidia-smi"
      ]
    },
    {
      "cell_type": "code",
      "source": [
        "%lsmagic"
      ],
      "metadata": {
        "colab": {
          "base_uri": "https://localhost:8080/"
        },
        "id": "G2ZErHkvl8td",
        "outputId": "798dadc9-e7fa-492c-e77e-6375c5fd3005"
      },
      "execution_count": null,
      "outputs": [
        {
          "output_type": "execute_result",
          "data": {
            "text/plain": [
              "Available line magics:\n",
              "%alias  %alias_magic  %autoawait  %autocall  %automagic  %autosave  %bookmark  %cat  %cd  %clear  %colors  %conda  %config  %connect_info  %cp  %debug  %dhist  %dirs  %doctest_mode  %ed  %edit  %env  %gui  %hist  %history  %killbgscripts  %ldir  %less  %lf  %lk  %ll  %load  %load_ext  %loadpy  %logoff  %logon  %logstart  %logstate  %logstop  %ls  %lsmagic  %lx  %macro  %magic  %man  %matplotlib  %mkdir  %more  %mv  %notebook  %page  %pastebin  %pdb  %pdef  %pdoc  %pfile  %pinfo  %pinfo2  %pip  %popd  %pprint  %precision  %prun  %psearch  %psource  %pushd  %pwd  %pycat  %pylab  %qtconsole  %quickref  %recall  %rehashx  %reload_ext  %rep  %rerun  %reset  %reset_selective  %rm  %rmdir  %run  %save  %sc  %set_env  %shell  %store  %sx  %system  %tb  %tensorflow_version  %time  %timeit  %unalias  %unload_ext  %who  %who_ls  %whos  %xdel  %xmode\n",
              "\n",
              "Available cell magics:\n",
              "%%!  %%HTML  %%SVG  %%bash  %%bigquery  %%capture  %%debug  %%file  %%html  %%javascript  %%js  %%latex  %%markdown  %%perl  %%prun  %%pypy  %%python  %%python2  %%python3  %%ruby  %%script  %%sh  %%shell  %%svg  %%sx  %%system  %%time  %%timeit  %%writefile\n",
              "\n",
              "Automagic is ON, % prefix IS NOT needed for line magics."
            ],
            "application/json": {
              "line": {
                "automagic": "AutoMagics",
                "autocall": "AutoMagics",
                "alias_magic": "BasicMagics",
                "lsmagic": "BasicMagics",
                "magic": "BasicMagics",
                "page": "BasicMagics",
                "pprint": "BasicMagics",
                "colors": "BasicMagics",
                "xmode": "BasicMagics",
                "quickref": "BasicMagics",
                "doctest_mode": "BasicMagics",
                "gui": "BasicMagics",
                "precision": "BasicMagics",
                "notebook": "BasicMagics",
                "save": "CodeMagics",
                "pastebin": "CodeMagics",
                "loadpy": "CodeMagics",
                "load": "CodeMagics",
                "edit": "KernelMagics",
                "config": "ConfigMagics",
                "prun": "ExecutionMagics",
                "pdb": "ExecutionMagics",
                "debug": "ExecutionMagics",
                "tb": "ExecutionMagics",
                "run": "ExecutionMagics",
                "timeit": "ExecutionMagics",
                "time": "ExecutionMagics",
                "macro": "ExecutionMagics",
                "load_ext": "ExtensionMagics",
                "unload_ext": "ExtensionMagics",
                "reload_ext": "ExtensionMagics",
                "history": "HistoryMagics",
                "recall": "HistoryMagics",
                "rerun": "HistoryMagics",
                "logstart": "LoggingMagics",
                "logstop": "LoggingMagics",
                "logoff": "LoggingMagics",
                "logon": "LoggingMagics",
                "logstate": "LoggingMagics",
                "pinfo": "NamespaceMagics",
                "pinfo2": "NamespaceMagics",
                "pdef": "NamespaceMagics",
                "pdoc": "NamespaceMagics",
                "psource": "NamespaceMagics",
                "pfile": "NamespaceMagics",
                "psearch": "NamespaceMagics",
                "who_ls": "NamespaceMagics",
                "who": "NamespaceMagics",
                "whos": "NamespaceMagics",
                "reset": "NamespaceMagics",
                "reset_selective": "NamespaceMagics",
                "xdel": "NamespaceMagics",
                "alias": "OSMagics",
                "unalias": "OSMagics",
                "rehashx": "OSMagics",
                "pwd": "OSMagics",
                "cd": "OSMagics",
                "env": "OSMagics",
                "set_env": "OSMagics",
                "pushd": "OSMagics",
                "popd": "OSMagics",
                "dirs": "OSMagics",
                "dhist": "OSMagics",
                "sc": "OSMagics",
                "sx": "OSMagics",
                "system": "OSMagics",
                "bookmark": "OSMagics",
                "pycat": "OSMagics",
                "pip": "Other",
                "conda": "PackagingMagics",
                "matplotlib": "PylabMagics",
                "pylab": "PylabMagics",
                "killbgscripts": "ScriptMagics",
                "autoawait": "AsyncMagics",
                "ed": "Other",
                "hist": "Other",
                "rep": "Other",
                "clear": "KernelMagics",
                "less": "KernelMagics",
                "more": "KernelMagics",
                "man": "KernelMagics",
                "connect_info": "KernelMagics",
                "qtconsole": "KernelMagics",
                "autosave": "KernelMagics",
                "mkdir": "Other",
                "rmdir": "Other",
                "mv": "Other",
                "rm": "Other",
                "cp": "Other",
                "cat": "Other",
                "ls": "Other",
                "ll": "Other",
                "lf": "Other",
                "lk": "Other",
                "ldir": "Other",
                "lx": "Other",
                "store": "StoreMagics",
                "shell": "Other",
                "tensorflow_version": "Other"
              },
              "cell": {
                "js": "DisplayMagics",
                "javascript": "DisplayMagics",
                "latex": "DisplayMagics",
                "svg": "DisplayMagics",
                "html": "DisplayMagics",
                "markdown": "DisplayMagics",
                "prun": "ExecutionMagics",
                "debug": "ExecutionMagics",
                "timeit": "ExecutionMagics",
                "time": "ExecutionMagics",
                "capture": "ExecutionMagics",
                "sx": "OSMagics",
                "system": "OSMagics",
                "!": "OSMagics",
                "writefile": "OSMagics",
                "script": "ScriptMagics",
                "sh": "Other",
                "bash": "Other",
                "perl": "Other",
                "ruby": "Other",
                "python": "Other",
                "python2": "Other",
                "python3": "Other",
                "pypy": "Other",
                "SVG": "Other",
                "HTML": "Other",
                "file": "Other",
                "bigquery": "Other",
                "shell": "Other"
              }
            }
          },
          "metadata": {},
          "execution_count": 2
        }
      ]
    },
    {
      "cell_type": "code",
      "source": [
        "%whos"
      ],
      "metadata": {
        "id": "MD0MfT8A70sz",
        "colab": {
          "base_uri": "https://localhost:8080/"
        },
        "outputId": "4f0912f2-081a-4500-f1fd-49e4006fd5d7"
      },
      "execution_count": null,
      "outputs": [
        {
          "output_type": "stream",
          "name": "stdout",
          "text": [
            "Interactive namespace is empty.\n"
          ]
        }
      ]
    },
    {
      "cell_type": "markdown",
      "source": [
        "## **2. Importing libs**"
      ],
      "metadata": {
        "id": "cdATp0io8WE5"
      }
    },
    {
      "cell_type": "code",
      "source": [
        "import torch\n",
        "import torch as t\n",
        "import numpy as np\n",
        "import matplotlib.pyplot as plt"
      ],
      "metadata": {
        "id": "xfkFYWjT8Znc"
      },
      "execution_count": null,
      "outputs": []
    },
    {
      "cell_type": "code",
      "source": [
        "print(torch.__version__)"
      ],
      "metadata": {
        "colab": {
          "base_uri": "https://localhost:8080/"
        },
        "id": "jJnH9gKE8d1x",
        "outputId": "8b4eb75d-a520-4ce8-a9ff-44d378fb7532"
      },
      "execution_count": null,
      "outputs": [
        {
          "output_type": "stream",
          "name": "stdout",
          "text": [
            "2.3.0+cu121\n"
          ]
        }
      ]
    },
    {
      "cell_type": "code",
      "source": [
        "for i in range(torch.cuda.device_count()):\n",
        "   print(torch.cuda.get_device_properties(i))"
      ],
      "metadata": {
        "id": "0b_-BlkngwUe",
        "colab": {
          "base_uri": "https://localhost:8080/"
        },
        "outputId": "f020f4cd-6371-46de-f981-1413d301215f"
      },
      "execution_count": null,
      "outputs": [
        {
          "output_type": "stream",
          "name": "stdout",
          "text": [
            "_CudaDeviceProperties(name='Tesla T4', major=7, minor=5, total_memory=15102MB, multi_processor_count=40)\n"
          ]
        }
      ]
    },
    {
      "cell_type": "code",
      "source": [
        "torch.cuda.get_arch_list()"
      ],
      "metadata": {
        "colab": {
          "base_uri": "https://localhost:8080/"
        },
        "id": "QzvVATEgiAFQ",
        "outputId": "36262341-aebd-43e2-efb4-690bc80d4566"
      },
      "execution_count": null,
      "outputs": [
        {
          "output_type": "execute_result",
          "data": {
            "text/plain": [
              "['sm_50', 'sm_60', 'sm_70', 'sm_75', 'sm_80', 'sm_86', 'sm_90']"
            ]
          },
          "metadata": {},
          "execution_count": 4
        }
      ]
    },
    {
      "cell_type": "code",
      "source": [
        "device = 'cuda' if t.cuda.is_available() else 'cup' # https://pytorch.org/docs/stable/notes/cuda.html#best-practices\n",
        "device"
      ],
      "metadata": {
        "colab": {
          "base_uri": "https://localhost:8080/",
          "height": 35
        },
        "id": "MasfDKHMfFn2",
        "outputId": "6d047e3e-9301-43cb-db3d-4ae39dbe8150"
      },
      "execution_count": null,
      "outputs": [
        {
          "output_type": "execute_result",
          "data": {
            "text/plain": [
              "'cuda'"
            ],
            "application/vnd.google.colaboratory.intrinsic+json": {
              "type": "string"
            }
          },
          "metadata": {},
          "execution_count": 5
        }
      ]
    },
    {
      "cell_type": "markdown",
      "source": [
        "## **3. Basics**"
      ],
      "metadata": {
        "id": "sw5R-Ak4yXkJ"
      }
    },
    {
      "cell_type": "markdown",
      "source": [
        "### **3.1 Scalar**\n",
        "---"
      ],
      "metadata": {
        "id": "3QS2JkMHzO8A"
      }
    },
    {
      "cell_type": "code",
      "source": [
        "# scalar\n",
        "\n",
        "scalar = torch.tensor(8)\n",
        "scalar"
      ],
      "metadata": {
        "id": "5IegVDuB8gbk",
        "colab": {
          "base_uri": "https://localhost:8080/"
        },
        "outputId": "af4e4689-3a02-446e-d35b-dfc052b2ee72"
      },
      "execution_count": null,
      "outputs": [
        {
          "output_type": "execute_result",
          "data": {
            "text/plain": [
              "tensor(8)"
            ]
          },
          "metadata": {},
          "execution_count": 8
        }
      ]
    },
    {
      "cell_type": "code",
      "source": [
        "# To check the dimension\n",
        "\n",
        "scalar.ndim"
      ],
      "metadata": {
        "colab": {
          "base_uri": "https://localhost:8080/"
        },
        "id": "QtBZhXSSyvOS",
        "outputId": "fc3bc706-1e0a-4a90-953b-e1b28743ca03"
      },
      "execution_count": null,
      "outputs": [
        {
          "output_type": "execute_result",
          "data": {
            "text/plain": [
              "0"
            ]
          },
          "metadata": {},
          "execution_count": 9
        }
      ]
    },
    {
      "cell_type": "code",
      "source": [
        "# To get value\n",
        "\n",
        "scalar.item()"
      ],
      "metadata": {
        "colab": {
          "base_uri": "https://localhost:8080/"
        },
        "id": "wdB2HAziy3-c",
        "outputId": "6222d6b0-7bc7-475a-af1f-6844fd1544f0"
      },
      "execution_count": null,
      "outputs": [
        {
          "output_type": "execute_result",
          "data": {
            "text/plain": [
              "8"
            ]
          },
          "metadata": {},
          "execution_count": 10
        }
      ]
    },
    {
      "cell_type": "markdown",
      "source": [
        "### **3.2 Vector**\n",
        "---"
      ],
      "metadata": {
        "id": "DjTmOujIzS-V"
      }
    },
    {
      "cell_type": "code",
      "source": [
        "vt = torch.tensor([1,2,3])\n",
        "vt"
      ],
      "metadata": {
        "colab": {
          "base_uri": "https://localhost:8080/"
        },
        "id": "7otIQ8BOzCwH",
        "outputId": "a3786cab-6e61-415f-d858-a20db304e3dd"
      },
      "execution_count": null,
      "outputs": [
        {
          "output_type": "execute_result",
          "data": {
            "text/plain": [
              "tensor([1, 2, 3])"
            ]
          },
          "metadata": {},
          "execution_count": 11
        }
      ]
    },
    {
      "cell_type": "code",
      "source": [
        "vt.ndim"
      ],
      "metadata": {
        "colab": {
          "base_uri": "https://localhost:8080/"
        },
        "id": "hAZwpLU1zv-L",
        "outputId": "67f08a9f-834c-4d14-b527-b7ab05569b18"
      },
      "execution_count": null,
      "outputs": [
        {
          "output_type": "execute_result",
          "data": {
            "text/plain": [
              "1"
            ]
          },
          "metadata": {},
          "execution_count": 12
        }
      ]
    },
    {
      "cell_type": "code",
      "source": [
        "vt.shape"
      ],
      "metadata": {
        "colab": {
          "base_uri": "https://localhost:8080/"
        },
        "id": "WKVAJ92Qz_QS",
        "outputId": "317a4db2-68d3-4d80-c0ff-d9a77f093243"
      },
      "execution_count": null,
      "outputs": [
        {
          "output_type": "execute_result",
          "data": {
            "text/plain": [
              "torch.Size([3])"
            ]
          },
          "metadata": {},
          "execution_count": 13
        }
      ]
    },
    {
      "cell_type": "code",
      "source": [
        "for i in vt:\n",
        "    print(i.item())"
      ],
      "metadata": {
        "colab": {
          "base_uri": "https://localhost:8080/"
        },
        "id": "SZ2GznUG04kr",
        "outputId": "25f87f82-8f88-4f7b-841b-5439d0625e02"
      },
      "execution_count": null,
      "outputs": [
        {
          "output_type": "stream",
          "name": "stdout",
          "text": [
            "1\n",
            "2\n",
            "3\n"
          ]
        }
      ]
    },
    {
      "cell_type": "markdown",
      "source": [
        "### **3.4 Matrix**\n",
        "---"
      ],
      "metadata": {
        "id": "5bXrF3Gd10Xc"
      }
    },
    {
      "cell_type": "code",
      "source": [
        "matrix = torch.tensor([[1,2],\n",
        "                       [3,4]])\n",
        "matrix"
      ],
      "metadata": {
        "colab": {
          "base_uri": "https://localhost:8080/"
        },
        "id": "L8KIG4kQ058a",
        "outputId": "93954f6e-0a6f-4e1f-ecff-ecdf9a490d78"
      },
      "execution_count": null,
      "outputs": [
        {
          "output_type": "execute_result",
          "data": {
            "text/plain": [
              "tensor([[1, 2],\n",
              "        [3, 4]])"
            ]
          },
          "metadata": {},
          "execution_count": 15
        }
      ]
    },
    {
      "cell_type": "code",
      "source": [
        "matrix.ndim"
      ],
      "metadata": {
        "colab": {
          "base_uri": "https://localhost:8080/"
        },
        "id": "Sg_9PsYk18w_",
        "outputId": "2424407b-a8e1-4c70-943b-6ca83e4062b6"
      },
      "execution_count": null,
      "outputs": [
        {
          "output_type": "execute_result",
          "data": {
            "text/plain": [
              "2"
            ]
          },
          "metadata": {},
          "execution_count": 16
        }
      ]
    },
    {
      "cell_type": "code",
      "source": [
        "matrix.shape"
      ],
      "metadata": {
        "colab": {
          "base_uri": "https://localhost:8080/"
        },
        "id": "XL3KjJbw1-nz",
        "outputId": "85a12067-b045-495c-9a05-01fd507afccd"
      },
      "execution_count": null,
      "outputs": [
        {
          "output_type": "execute_result",
          "data": {
            "text/plain": [
              "torch.Size([2, 2])"
            ]
          },
          "metadata": {},
          "execution_count": 17
        }
      ]
    },
    {
      "cell_type": "code",
      "source": [
        "matrix[0]"
      ],
      "metadata": {
        "colab": {
          "base_uri": "https://localhost:8080/"
        },
        "id": "NcXKVQEo3U7e",
        "outputId": "45d2e591-33ee-45a5-8fbb-609a137a215a"
      },
      "execution_count": null,
      "outputs": [
        {
          "output_type": "execute_result",
          "data": {
            "text/plain": [
              "tensor([1, 2])"
            ]
          },
          "metadata": {},
          "execution_count": 18
        }
      ]
    },
    {
      "cell_type": "markdown",
      "source": [
        "### **3.5 Tensors**\n",
        "---"
      ],
      "metadata": {
        "id": "d_icA-4b20yq"
      }
    },
    {
      "cell_type": "code",
      "source": [
        "tensor = torch.tensor([[[1,2,3],\n",
        "                        [4,5,6],\n",
        "                        [7,8,9]],\n",
        "                       [[2,4,6],\n",
        "                        [3,6,9],\n",
        "                        [4,8,12]]])\n",
        "\n",
        "tensor"
      ],
      "metadata": {
        "colab": {
          "base_uri": "https://localhost:8080/"
        },
        "id": "tARqKanm2AXb",
        "outputId": "3ace5636-fbd6-42a5-ad23-75c6059b7660"
      },
      "execution_count": null,
      "outputs": [
        {
          "output_type": "execute_result",
          "data": {
            "text/plain": [
              "tensor([[[ 1,  2,  3],\n",
              "         [ 4,  5,  6],\n",
              "         [ 7,  8,  9]],\n",
              "\n",
              "        [[ 2,  4,  6],\n",
              "         [ 3,  6,  9],\n",
              "         [ 4,  8, 12]]])"
            ]
          },
          "metadata": {},
          "execution_count": 19
        }
      ]
    },
    {
      "cell_type": "code",
      "source": [
        "tensor.shape"
      ],
      "metadata": {
        "colab": {
          "base_uri": "https://localhost:8080/"
        },
        "id": "acRMgh1n3K7K",
        "outputId": "c22e2c62-43a9-414e-f75a-c8b9f7f9f576"
      },
      "execution_count": null,
      "outputs": [
        {
          "output_type": "execute_result",
          "data": {
            "text/plain": [
              "torch.Size([2, 3, 3])"
            ]
          },
          "metadata": {},
          "execution_count": 20
        }
      ]
    },
    {
      "cell_type": "code",
      "source": [
        "tensor.ndim"
      ],
      "metadata": {
        "colab": {
          "base_uri": "https://localhost:8080/"
        },
        "id": "T7pRsvdB3MAF",
        "outputId": "065d7da3-58ca-4f97-e56a-3272bc3501a4"
      },
      "execution_count": null,
      "outputs": [
        {
          "output_type": "execute_result",
          "data": {
            "text/plain": [
              "3"
            ]
          },
          "metadata": {},
          "execution_count": 21
        }
      ]
    },
    {
      "cell_type": "code",
      "source": [
        "tensor[1]"
      ],
      "metadata": {
        "colab": {
          "base_uri": "https://localhost:8080/"
        },
        "id": "QXhQbLAy3N0_",
        "outputId": "80ce75b7-860c-4829-960d-1da46176d342"
      },
      "execution_count": null,
      "outputs": [
        {
          "output_type": "execute_result",
          "data": {
            "text/plain": [
              "tensor([[ 2,  4,  6],\n",
              "        [ 3,  6,  9],\n",
              "        [ 4,  8, 12]])"
            ]
          },
          "metadata": {},
          "execution_count": 22
        }
      ]
    },
    {
      "cell_type": "markdown",
      "source": [
        "### **3.6 Random tensors**\n",
        "---"
      ],
      "metadata": {
        "id": "OIIsAZqWb6A3"
      }
    },
    {
      "cell_type": "code",
      "source": [
        "# Random\n",
        "\n",
        "import torch as t\n",
        "import matplotlib.pyplot as plt"
      ],
      "metadata": {
        "id": "PvkNvXJaqB2W"
      },
      "execution_count": null,
      "outputs": []
    },
    {
      "cell_type": "code",
      "source": [
        "rand = t.rand(3,4)\n",
        "rand"
      ],
      "metadata": {
        "colab": {
          "base_uri": "https://localhost:8080/"
        },
        "id": "rRnKlX7kdU2y",
        "outputId": "1866f099-99a9-4ecc-845d-e72fdc8b3f18"
      },
      "execution_count": null,
      "outputs": [
        {
          "output_type": "execute_result",
          "data": {
            "text/plain": [
              "tensor([[0.0718, 0.6593, 0.7283, 0.2463],\n",
              "        [0.8625, 0.6575, 0.1731, 0.2191],\n",
              "        [0.9391, 0.6277, 0.4600, 0.0230]])"
            ]
          },
          "metadata": {},
          "execution_count": 24
        }
      ]
    },
    {
      "cell_type": "code",
      "source": [
        "print(f\"Dimension = {rand.ndim}\")\n",
        "print(f\"Shape = {rand.shape}\")"
      ],
      "metadata": {
        "colab": {
          "base_uri": "https://localhost:8080/"
        },
        "id": "9B3R70XKonnO",
        "outputId": "3f237ce6-0d6d-4d82-a2af-83ecb1328fde"
      },
      "execution_count": null,
      "outputs": [
        {
          "output_type": "stream",
          "name": "stdout",
          "text": [
            "Dimension = 2\n",
            "Shape = torch.Size([3, 4])\n"
          ]
        }
      ]
    },
    {
      "cell_type": "code",
      "source": [
        "num = rand.numpy()\n",
        "num"
      ],
      "metadata": {
        "colab": {
          "base_uri": "https://localhost:8080/"
        },
        "id": "tfhss7AYpYde",
        "outputId": "00fbaae6-d93a-479c-98a2-a96e0c6c9549"
      },
      "execution_count": null,
      "outputs": [
        {
          "output_type": "execute_result",
          "data": {
            "text/plain": [
              "array([[0.07176936, 0.6592862 , 0.7283292 , 0.24634784],\n",
              "       [0.8624714 , 0.65751284, 0.17310584, 0.21905875],\n",
              "       [0.93913794, 0.62766206, 0.45997548, 0.02296591]], dtype=float32)"
            ]
          },
          "metadata": {},
          "execution_count": 26
        }
      ]
    },
    {
      "cell_type": "code",
      "source": [
        "t.from_numpy(num)"
      ],
      "metadata": {
        "colab": {
          "base_uri": "https://localhost:8080/"
        },
        "id": "Rg_o4fQCpmZ6",
        "outputId": "0b657fe3-e0aa-4ec9-87e8-e75ec21372f1"
      },
      "execution_count": null,
      "outputs": [
        {
          "output_type": "execute_result",
          "data": {
            "text/plain": [
              "tensor([[0.0718, 0.6593, 0.7283, 0.2463],\n",
              "        [0.8625, 0.6575, 0.1731, 0.2191],\n",
              "        [0.9391, 0.6277, 0.4600, 0.0230]])"
            ]
          },
          "metadata": {},
          "execution_count": 27
        }
      ]
    },
    {
      "cell_type": "code",
      "source": [
        "plt.figure(figsize=(12,12))\n",
        "for i in range(1,5):\n",
        "    img = t.rand(size=(28,28,3))\n",
        "    plt.subplot(1,4,i)\n",
        "    plt.imshow(img)\n",
        "    plt.axis('off')\n",
        "plt.show()"
      ],
      "metadata": {
        "colab": {
          "base_uri": "https://localhost:8080/",
          "height": 239
        },
        "id": "CCMNdrQ5p_9-",
        "outputId": "e2eb3c2a-8720-4608-d2d3-25cf388290e7"
      },
      "execution_count": null,
      "outputs": [
        {
          "output_type": "display_data",
          "data": {
            "text/plain": [
              "<Figure size 1200x1200 with 4 Axes>"
            ],
            "image/png": "[encoded data removed]"
          },
          "metadata": {}
        }
      ]
    },
    {
      "cell_type": "code",
      "source": [
        "# ZEROS\n",
        "\n",
        "zro = t.zeros(4,20)\n",
        "zro"
      ],
      "metadata": {
        "colab": {
          "base_uri": "https://localhost:8080/"
        },
        "id": "UNXyV1c5q99m",
        "outputId": "99cf96fe-e301-4be1-acc8-db45085ccf38"
      },
      "execution_count": null,
      "outputs": [
        {
          "output_type": "execute_result",
          "data": {
            "text/plain": [
              "tensor([[0., 0., 0., 0., 0., 0., 0., 0., 0., 0., 0., 0., 0., 0., 0., 0., 0., 0., 0., 0.],\n",
              "        [0., 0., 0., 0., 0., 0., 0., 0., 0., 0., 0., 0., 0., 0., 0., 0., 0., 0., 0., 0.],\n",
              "        [0., 0., 0., 0., 0., 0., 0., 0., 0., 0., 0., 0., 0., 0., 0., 0., 0., 0., 0., 0.],\n",
              "        [0., 0., 0., 0., 0., 0., 0., 0., 0., 0., 0., 0., 0., 0., 0., 0., 0., 0., 0., 0.]])"
            ]
          },
          "metadata": {},
          "execution_count": 29
        }
      ]
    },
    {
      "cell_type": "code",
      "source": [
        "# ONES\n",
        "\n",
        "ons = t.ones(4,4)\n",
        "ons"
      ],
      "metadata": {
        "colab": {
          "base_uri": "https://localhost:8080/"
        },
        "id": "vLy7TiAcXKfk",
        "outputId": "0b698ce5-84aa-42b3-b599-1cad396388c8"
      },
      "execution_count": null,
      "outputs": [
        {
          "output_type": "execute_result",
          "data": {
            "text/plain": [
              "tensor([[1., 1., 1., 1.],\n",
              "        [1., 1., 1., 1.],\n",
              "        [1., 1., 1., 1.],\n",
              "        [1., 1., 1., 1.]])"
            ]
          },
          "metadata": {},
          "execution_count": 30
        }
      ]
    },
    {
      "cell_type": "code",
      "source": [
        "print(f\"Data type = {zro.dtype}\")\n",
        "print(f\"Data type = {ons.dtype}\")\n",
        "print(f\"Data type = {rand.dtype}\")"
      ],
      "metadata": {
        "colab": {
          "base_uri": "https://localhost:8080/"
        },
        "id": "xXjI5q8TXPmj",
        "outputId": "6999fd6c-ad6d-49b0-d620-dfd63efaaa5e"
      },
      "execution_count": null,
      "outputs": [
        {
          "output_type": "stream",
          "name": "stdout",
          "text": [
            "Data type = torch.float32\n",
            "Data type = torch.float32\n",
            "Data type = torch.float32\n"
          ]
        }
      ]
    },
    {
      "cell_type": "code",
      "source": [
        "#RANGE OF TENSORS\n",
        "\n",
        "print(f\"Range of data = {t.arange(1,11)}\")\n",
        "print(f\"Range of step data = {t.arange(1,11,3)}\")\n",
        "print(f\"Data type = {t.arange(1,11).dtype}\")"
      ],
      "metadata": {
        "colab": {
          "base_uri": "https://localhost:8080/"
        },
        "id": "5IKkgFH7X-bu",
        "outputId": "71f0bb63-31ac-4520-f69b-8665d2cd3f6a"
      },
      "execution_count": null,
      "outputs": [
        {
          "output_type": "stream",
          "name": "stdout",
          "text": [
            "Range of data = tensor([ 1,  2,  3,  4,  5,  6,  7,  8,  9, 10])\n",
            "Range of step data = tensor([ 1,  4,  7, 10])\n",
            "Data type = torch.int64\n"
          ]
        }
      ]
    },
    {
      "cell_type": "code",
      "source": [
        "#LIKE\n",
        "\n",
        "print(f\"zeros like = {t.zeros_like(rand)}\")\n",
        "print(f\"ones like = {t.ones_like(rand)}\")"
      ],
      "metadata": {
        "colab": {
          "base_uri": "https://localhost:8080/"
        },
        "id": "ZubfsvJVZCKG",
        "outputId": "955f052f-149b-476e-f796-3cce64a39b42"
      },
      "execution_count": null,
      "outputs": [
        {
          "output_type": "stream",
          "name": "stdout",
          "text": [
            "zeros like = tensor([[0., 0., 0., 0.],\n",
            "        [0., 0., 0., 0.],\n",
            "        [0., 0., 0., 0.]])\n",
            "ones like = tensor([[1., 1., 1., 1.],\n",
            "        [1., 1., 1., 1.],\n",
            "        [1., 1., 1., 1.]])\n"
          ]
        }
      ]
    },
    {
      "cell_type": "code",
      "source": [
        "t.zeros_like(t.arange(1,11))"
      ],
      "metadata": {
        "colab": {
          "base_uri": "https://localhost:8080/"
        },
        "id": "fXjhvzgraXPO",
        "outputId": "d5dc9cdd-1f18-439a-9431-2f4a756b01dc"
      },
      "execution_count": null,
      "outputs": [
        {
          "output_type": "execute_result",
          "data": {
            "text/plain": [
              "tensor([0, 0, 0, 0, 0, 0, 0, 0, 0, 0])"
            ]
          },
          "metadata": {},
          "execution_count": 34
        }
      ]
    },
    {
      "cell_type": "code",
      "source": [
        "# Tensor data types\n",
        "\n",
        "# - Check shape\n",
        "# - Check tensor location on which device (cpu or gpu)\n",
        "# - Check datatype\n",
        "\n",
        "data = t.tensor([1,2,3],dtype=t.float64, device=None, requires_grad=False)\n",
        "print(f\"DataType = {data}\")"
      ],
      "metadata": {
        "colab": {
          "base_uri": "https://localhost:8080/"
        },
        "id": "gqQLThlyah26",
        "outputId": "f6391038-fdd7-468c-cada-9723b2b3d4fe"
      },
      "execution_count": null,
      "outputs": [
        {
          "output_type": "stream",
          "name": "stdout",
          "text": [
            "DataType = tensor([1., 2., 3.], dtype=torch.float64)\n"
          ]
        }
      ]
    },
    {
      "cell_type": "code",
      "source": [
        "data.type(t.float16)"
      ],
      "metadata": {
        "colab": {
          "base_uri": "https://localhost:8080/"
        },
        "id": "OMCiHi_xv5PD",
        "outputId": "b2267beb-9df3-4362-ec2c-7a9f861eb166"
      },
      "execution_count": null,
      "outputs": [
        {
          "output_type": "execute_result",
          "data": {
            "text/plain": [
              "tensor([1., 2., 3.], dtype=torch.float16)"
            ]
          },
          "metadata": {},
          "execution_count": 36
        }
      ]
    },
    {
      "cell_type": "code",
      "source": [
        "data.device"
      ],
      "metadata": {
        "colab": {
          "base_uri": "https://localhost:8080/"
        },
        "id": "PjxyK8jVwzYR",
        "outputId": "44c1a9a4-7711-4b60-91f8-74b45a67dd1c"
      },
      "execution_count": null,
      "outputs": [
        {
          "output_type": "execute_result",
          "data": {
            "text/plain": [
              "device(type='cpu')"
            ]
          },
          "metadata": {},
          "execution_count": 37
        }
      ]
    },
    {
      "cell_type": "code",
      "source": [
        "# Informations of tensor\n",
        "\n",
        "print(f\"Datatype = {data.dtype}\")\n",
        "print(f\"Shape-1 = {data.shape}\")\n",
        "print(f\"Shape-2 = {data.size()}\")\n",
        "print(f\"Device = {data.device}\")"
      ],
      "metadata": {
        "colab": {
          "base_uri": "https://localhost:8080/"
        },
        "id": "kzkyhSqy8e19",
        "outputId": "80b14f08-49ba-4f4c-85b9-24f22ab02149"
      },
      "execution_count": null,
      "outputs": [
        {
          "output_type": "stream",
          "name": "stdout",
          "text": [
            "Datatype = torch.float64\n",
            "Shape-1 = torch.Size([3])\n",
            "Shape-2 = torch.Size([3])\n",
            "Device = cpu\n"
          ]
        }
      ]
    },
    {
      "cell_type": "markdown",
      "source": [
        "### **3.7 Tensor manipulation**\n",
        "---"
      ],
      "metadata": {
        "id": "3xbQjzfy-bGy"
      }
    },
    {
      "cell_type": "code",
      "source": [
        "# Tensor operationa\n",
        "# Addition   Subtraction   Multiplication   Division   Matrix_multiplication\n",
        "\n",
        "t1 = t.tensor([1,2,3,4])\n",
        "\n",
        "print(f\"Addition = {t1 + 10}\")\n",
        "print(f\"Suntraction = {t1 - 10}\")\n",
        "print(f\"Division = {t1 / 10}\")\n",
        "print(f\"Multiplication = {t1 * 10}\")"
      ],
      "metadata": {
        "id": "Ta66JE-x98Ta",
        "colab": {
          "base_uri": "https://localhost:8080/"
        },
        "outputId": "0f1004d7-e1b7-4c03-8b26-c682e7477dc4"
      },
      "execution_count": null,
      "outputs": [
        {
          "output_type": "stream",
          "name": "stdout",
          "text": [
            "Addition = tensor([11, 12, 13, 14])\n",
            "Suntraction = tensor([-9, -8, -7, -6])\n",
            "Division = tensor([0.1000, 0.2000, 0.3000, 0.4000])\n",
            "Multiplication = tensor([10, 20, 30, 40])\n"
          ]
        }
      ]
    },
    {
      "cell_type": "code",
      "source": [
        "print(f\"Addition = {t.add(t1,10)}\")\n",
        "print(f\"Suntraction = {t.sub(t1,10)}\")\n",
        "print(f\"Division = {t.div(t1,10)}\")\n",
        "print(f\"Multiplication = {t.mul(t1,10)}\")"
      ],
      "metadata": {
        "colab": {
          "base_uri": "https://localhost:8080/"
        },
        "id": "XFpIS2PyiFse",
        "outputId": "732d46a5-2c04-4673-a199-e4ae2c6d32b8"
      },
      "execution_count": null,
      "outputs": [
        {
          "output_type": "stream",
          "name": "stdout",
          "text": [
            "Addition = tensor([11, 12, 13, 14])\n",
            "Suntraction = tensor([-9, -8, -7, -6])\n",
            "Division = tensor([0.1000, 0.2000, 0.3000, 0.4000])\n",
            "Multiplication = tensor([10, 20, 30, 40])\n"
          ]
        }
      ]
    },
    {
      "cell_type": "markdown",
      "source": [
        "### **3.8 Matrix multiplication - [web](http://matrixmultiplication.xyz/)**\n",
        "---"
      ],
      "metadata": {
        "id": "dNC1ypfnjo09"
      }
    },
    {
      "cell_type": "code",
      "source": [
        "# normal multiplication\n",
        "\n",
        "print(f\"{t1 = }\")\n",
        "print(f\"{t1 * t1 = }\")"
      ],
      "metadata": {
        "colab": {
          "base_uri": "https://localhost:8080/"
        },
        "id": "mLwQeUmQjMd8",
        "outputId": "9c81216c-195b-4d8c-a1d1-a3004ebf8a8e"
      },
      "execution_count": null,
      "outputs": [
        {
          "output_type": "stream",
          "name": "stdout",
          "text": [
            "t1 = tensor([1, 2, 3, 4])\n",
            "t1 * t1 = tensor([ 1,  4,  9, 16])\n"
          ]
        }
      ]
    },
    {
      "cell_type": "code",
      "source": [
        "# MM type-1\n",
        "\n",
        "print(f\"{t.matmul(t1, t1) = } \")"
      ],
      "metadata": {
        "colab": {
          "base_uri": "https://localhost:8080/"
        },
        "id": "BGBY0M2tpgm4",
        "outputId": "b0b743be-2f1a-498e-d9a4-53ee1c2ef8e0"
      },
      "execution_count": null,
      "outputs": [
        {
          "output_type": "stream",
          "name": "stdout",
          "text": [
            "t.matmul(t1, t1) = tensor(30) \n"
          ]
        }
      ]
    },
    {
      "cell_type": "code",
      "source": [
        "# @-used for matrix multiplication type-2\n",
        "\n",
        "print(f\"{t1 @ t1 = }\")"
      ],
      "metadata": {
        "colab": {
          "base_uri": "https://localhost:8080/"
        },
        "id": "XgzEphmr2phl",
        "outputId": "73253dde-a3a2-4cb5-8c0d-da921d773c54"
      },
      "execution_count": null,
      "outputs": [
        {
          "output_type": "stream",
          "name": "stdout",
          "text": [
            "t1 @ t1 = tensor(30)\n"
          ]
        }
      ]
    },
    {
      "cell_type": "code",
      "source": [
        "# type-3\n",
        "\n",
        "t2 = t.tensor([[1,2],[3,4],[5,6]])\n",
        "t3 = t.tensor([[7,8,1],[9,10, 11]])\n",
        "\n",
        "print(f\"{t.mm(t2,t3) = }\")"
      ],
      "metadata": {
        "colab": {
          "base_uri": "https://localhost:8080/"
        },
        "id": "LpHzgTUMCRQR",
        "outputId": "0af42e51-9cce-4720-f2f5-057eac78442f"
      },
      "execution_count": null,
      "outputs": [
        {
          "output_type": "stream",
          "name": "stdout",
          "text": [
            "t.mm(t2,t3) = tensor([[ 25,  28,  23],\n",
            "        [ 57,  64,  47],\n",
            "        [ 89, 100,  71]])\n"
          ]
        }
      ]
    },
    {
      "cell_type": "code",
      "source": [
        "# Transpose\n",
        "\n",
        "t2 = t.tensor([[1,2],[3,4],[5,6]])\n",
        "t3 = t.tensor([[1,2],[3,4],[5,6]])\n",
        "\n",
        "print(f\"{t.mm(t3.T, t2) = }\")"
      ],
      "metadata": {
        "colab": {
          "base_uri": "https://localhost:8080/"
        },
        "id": "clzx6sMWEFKl",
        "outputId": "2eba4010-cea9-4919-bb34-919fb00a5bca"
      },
      "execution_count": null,
      "outputs": [
        {
          "output_type": "stream",
          "name": "stdout",
          "text": [
            "t.mm(t3.T, t2) = tensor([[35, 44],\n",
            "        [44, 56]])\n"
          ]
        }
      ]
    },
    {
      "cell_type": "code",
      "source": [
        "%%time\n",
        "\n",
        "val = 0\n",
        "for i in range(len(t1)):\n",
        "    val += t1[i] * t1[i]\n",
        "\n",
        "print(val)"
      ],
      "metadata": {
        "colab": {
          "base_uri": "https://localhost:8080/"
        },
        "id": "d59P_Wj9p6G_",
        "outputId": "e731727d-c62e-4518-ba3e-4c2167d67343"
      },
      "execution_count": null,
      "outputs": [
        {
          "output_type": "stream",
          "name": "stdout",
          "text": [
            "tensor(30)\n",
            "CPU times: user 2.24 ms, sys: 0 ns, total: 2.24 ms\n",
            "Wall time: 5.57 ms\n"
          ]
        }
      ]
    },
    {
      "cell_type": "code",
      "source": [
        "%%time\n",
        "\n",
        "print(f\"{t.matmul(t1, t1) = } \")"
      ],
      "metadata": {
        "colab": {
          "base_uri": "https://localhost:8080/"
        },
        "id": "Jzjx8PRBrLrH",
        "outputId": "345d4ef6-06c1-4399-8863-1b5fad508cb3"
      },
      "execution_count": null,
      "outputs": [
        {
          "output_type": "stream",
          "name": "stdout",
          "text": [
            "t.matmul(t1, t1) = tensor(30) \n",
            "CPU times: user 1.95 ms, sys: 0 ns, total: 1.95 ms\n",
            "Wall time: 7.52 ms\n"
          ]
        }
      ]
    },
    {
      "cell_type": "markdown",
      "source": [
        "### **3.9 Min, Max, Mean and Sum - [dTypes](https://pytorch.org/docs/stable/tensors.html)**\n",
        "---"
      ],
      "metadata": {
        "id": "bT1n6Fd3ILBl"
      }
    },
    {
      "cell_type": "code",
      "source": [
        "a = t.arange(1,100,10)\n",
        "\n",
        "print(f\"{a.min() = }\")\n",
        "print(f\"{a.max() = }\")\n",
        "print(f\"{a.type(t.float32).mean() = }\")\n",
        "print(f\"{a.sum() = }\", end='\\n\\n')\n",
        "\n",
        "print(f\"{t.max(a) = }\")\n",
        "print(f\"{t.max(a) = }\")\n",
        "print(f\"{t.mean(a.type(t.float32)) = }\")\n",
        "print(f\"{t.sum(a) = }\")\n"
      ],
      "metadata": {
        "id": "J4yuB2PIIn6a",
        "colab": {
          "base_uri": "https://localhost:8080/"
        },
        "outputId": "d038a6af-5d66-4d29-c123-bce2f5b38084"
      },
      "execution_count": null,
      "outputs": [
        {
          "output_type": "stream",
          "name": "stdout",
          "text": [
            "a.min() = tensor(1)\n",
            "a.max() = tensor(91)\n",
            "a.type(t.float32).mean() = tensor(46.)\n",
            "a.sum() = tensor(460)\n",
            "\n",
            "t.max(a) = tensor(91)\n",
            "t.max(a) = tensor(91)\n",
            "t.mean(a.type(t.float32)) = tensor(46.)\n",
            "t.sum(a) = tensor(460)\n"
          ]
        }
      ]
    },
    {
      "cell_type": "code",
      "source": [
        "# Positional min max values\n",
        "\n",
        "print(f\"{t.argmin(a) = }\")\n",
        "print(f\"{t.argmax(a) = }\")"
      ],
      "metadata": {
        "colab": {
          "base_uri": "https://localhost:8080/"
        },
        "id": "WwpI9-qRbDJU",
        "outputId": "f0a8976f-2020-4319-ce0c-37746d999140"
      },
      "execution_count": null,
      "outputs": [
        {
          "output_type": "stream",
          "name": "stdout",
          "text": [
            "t.argmin(a) = tensor(0)\n",
            "t.argmax(a) = tensor(9)\n"
          ]
        }
      ]
    },
    {
      "cell_type": "markdown",
      "source": [
        "### **3.10 reshaping, view and stacking**\n",
        "\n",
        "\n",
        "---\n",
        "\n"
      ],
      "metadata": {
        "id": "mzbeYzxv4Lmi"
      }
    },
    {
      "cell_type": "code",
      "source": [
        "# Reshaping\n",
        "\n",
        "x = t.arange(1,10)\n",
        "print(x, x.shape, x.dtype)\n",
        "print(x.reshape(3,3))"
      ],
      "metadata": {
        "colab": {
          "base_uri": "https://localhost:8080/"
        },
        "id": "pYgguR0He0fz",
        "outputId": "417c704f-4d8f-4c09-8359-9f34b63c0450"
      },
      "execution_count": null,
      "outputs": [
        {
          "output_type": "stream",
          "name": "stdout",
          "text": [
            "tensor([1, 2, 3, 4, 5, 6, 7, 8, 9]) torch.Size([9]) torch.int64\n",
            "tensor([[1, 2, 3],\n",
            "        [4, 5, 6],\n",
            "        [7, 8, 9]])\n"
          ]
        }
      ]
    },
    {
      "cell_type": "code",
      "source": [
        "# View - It changes the view of the tensor. But, it shares the same memory\n",
        "\n",
        "print(\"Before chaging = \", x)\n",
        "z = x.view(1,9)\n",
        "z[0,0] = 90\n",
        "\n",
        "print(\"After changing = \", x, z)"
      ],
      "metadata": {
        "colab": {
          "base_uri": "https://localhost:8080/"
        },
        "id": "kws5DP6m6Gfp",
        "outputId": "1b48a0b5-9c93-4658-8484-e813290222de"
      },
      "execution_count": null,
      "outputs": [
        {
          "output_type": "stream",
          "name": "stdout",
          "text": [
            "Before chaging =  tensor([90,  2,  3,  4,  5,  6,  7,  8,  9])\n",
            "After changing =  tensor([90,  2,  3,  4,  5,  6,  7,  8,  9]) tensor([[90,  2,  3,  4,  5,  6,  7,  8,  9]])\n"
          ]
        }
      ]
    },
    {
      "cell_type": "code",
      "source": [
        "# Stacking\n",
        "\n",
        "t.stack((x,x), 0) # 0-vertical stacking"
      ],
      "metadata": {
        "colab": {
          "base_uri": "https://localhost:8080/"
        },
        "id": "R98u21Hy7oEB",
        "outputId": "2667d61e-d9e1-4586-b256-f8e814b80afb"
      },
      "execution_count": null,
      "outputs": [
        {
          "output_type": "execute_result",
          "data": {
            "text/plain": [
              "tensor([[90,  2,  3,  4,  5,  6,  7,  8,  9],\n",
              "        [90,  2,  3,  4,  5,  6,  7,  8,  9]])"
            ]
          },
          "metadata": {},
          "execution_count": 118
        }
      ]
    },
    {
      "cell_type": "code",
      "source": [
        "t.stack((x,x), 1) # 1-Horizontal stacking"
      ],
      "metadata": {
        "colab": {
          "base_uri": "https://localhost:8080/"
        },
        "id": "0X7wMsWg9kLP",
        "outputId": "dfaf982e-bb90-49e1-b48d-31792574b445"
      },
      "execution_count": null,
      "outputs": [
        {
          "output_type": "execute_result",
          "data": {
            "text/plain": [
              "tensor([[90, 90],\n",
              "        [ 2,  2],\n",
              "        [ 3,  3],\n",
              "        [ 4,  4],\n",
              "        [ 5,  5],\n",
              "        [ 6,  6],\n",
              "        [ 7,  7],\n",
              "        [ 8,  8],\n",
              "        [ 9,  9]])"
            ]
          },
          "metadata": {},
          "execution_count": 119
        }
      ]
    },
    {
      "cell_type": "code",
      "source": [
        "t.stack((x,x), -1)"
      ],
      "metadata": {
        "colab": {
          "base_uri": "https://localhost:8080/"
        },
        "id": "Y6AaxlAg9nfI",
        "outputId": "335de91e-b465-4bc3-ef38-9e5b98ce9ae1"
      },
      "execution_count": null,
      "outputs": [
        {
          "output_type": "execute_result",
          "data": {
            "text/plain": [
              "tensor([[90, 90],\n",
              "        [ 2,  2],\n",
              "        [ 3,  3],\n",
              "        [ 4,  4],\n",
              "        [ 5,  5],\n",
              "        [ 6,  6],\n",
              "        [ 7,  7],\n",
              "        [ 8,  8],\n",
              "        [ 9,  9]])"
            ]
          },
          "metadata": {},
          "execution_count": 120
        }
      ]
    },
    {
      "cell_type": "code",
      "source": [
        "z = z.reshape(3,-1,3)\n",
        "z"
      ],
      "metadata": {
        "colab": {
          "base_uri": "https://localhost:8080/"
        },
        "id": "_xqPXIffCl01",
        "outputId": "0e3f62ba-14de-4208-8914-41304fad5e7c"
      },
      "execution_count": null,
      "outputs": [
        {
          "output_type": "execute_result",
          "data": {
            "text/plain": [
              "tensor([[[90,  2,  3]],\n",
              "\n",
              "        [[ 4,  5,  6]],\n",
              "\n",
              "        [[ 7,  8,  9]]])"
            ]
          },
          "metadata": {},
          "execution_count": 121
        }
      ]
    },
    {
      "cell_type": "code",
      "source": [
        "t.stack((z,z),0)"
      ],
      "metadata": {
        "colab": {
          "base_uri": "https://localhost:8080/"
        },
        "id": "1hYJ12JmHqhl",
        "outputId": "6909d14c-aecd-4dbb-fd50-04c5be53b6dc"
      },
      "execution_count": null,
      "outputs": [
        {
          "output_type": "execute_result",
          "data": {
            "text/plain": [
              "tensor([[[[90,  2,  3]],\n",
              "\n",
              "         [[ 4,  5,  6]],\n",
              "\n",
              "         [[ 7,  8,  9]]],\n",
              "\n",
              "\n",
              "        [[[90,  2,  3]],\n",
              "\n",
              "         [[ 4,  5,  6]],\n",
              "\n",
              "         [[ 7,  8,  9]]]])"
            ]
          },
          "metadata": {},
          "execution_count": 122
        }
      ]
    },
    {
      "cell_type": "code",
      "source": [
        "t.stack((z,z),1)"
      ],
      "metadata": {
        "colab": {
          "base_uri": "https://localhost:8080/"
        },
        "id": "JzelJ0QiH9i-",
        "outputId": "3f717de9-2403-46e0-a651-e9b7df38a91d"
      },
      "execution_count": null,
      "outputs": [
        {
          "output_type": "execute_result",
          "data": {
            "text/plain": [
              "tensor([[[[90,  2,  3]],\n",
              "\n",
              "         [[90,  2,  3]]],\n",
              "\n",
              "\n",
              "        [[[ 4,  5,  6]],\n",
              "\n",
              "         [[ 4,  5,  6]]],\n",
              "\n",
              "\n",
              "        [[[ 7,  8,  9]],\n",
              "\n",
              "         [[ 7,  8,  9]]]])"
            ]
          },
          "metadata": {},
          "execution_count": 123
        }
      ]
    },
    {
      "cell_type": "code",
      "source": [
        "t.stack((z,z),2)"
      ],
      "metadata": {
        "colab": {
          "base_uri": "https://localhost:8080/"
        },
        "id": "1yCDB8yKIDQQ",
        "outputId": "02d7ff6e-dc24-42d6-a155-53661634d31c"
      },
      "execution_count": null,
      "outputs": [
        {
          "output_type": "execute_result",
          "data": {
            "text/plain": [
              "tensor([[[[90,  2,  3],\n",
              "          [90,  2,  3]]],\n",
              "\n",
              "\n",
              "        [[[ 4,  5,  6],\n",
              "          [ 4,  5,  6]]],\n",
              "\n",
              "\n",
              "        [[[ 7,  8,  9],\n",
              "          [ 7,  8,  9]]]])"
            ]
          },
          "metadata": {},
          "execution_count": 124
        }
      ]
    },
    {
      "cell_type": "code",
      "source": [
        "# HStack\n",
        "\n",
        "t.hstack((x,x))"
      ],
      "metadata": {
        "colab": {
          "base_uri": "https://localhost:8080/"
        },
        "id": "My6QyOGu-Ax6",
        "outputId": "77987fae-78d4-4d13-8e64-99d141a63c83"
      },
      "execution_count": null,
      "outputs": [
        {
          "output_type": "execute_result",
          "data": {
            "text/plain": [
              "tensor([90,  2,  3,  4,  5,  6,  7,  8,  9, 90,  2,  3,  4,  5,  6,  7,  8,  9])"
            ]
          },
          "metadata": {},
          "execution_count": 82
        }
      ]
    },
    {
      "cell_type": "code",
      "source": [
        "# VStack\n",
        "\n",
        "t.vstack((x,x))"
      ],
      "metadata": {
        "colab": {
          "base_uri": "https://localhost:8080/"
        },
        "id": "pQaOWsCm_B2m",
        "outputId": "32c63d35-4a00-427b-9cc2-5bb85f50c260"
      },
      "execution_count": null,
      "outputs": [
        {
          "output_type": "execute_result",
          "data": {
            "text/plain": [
              "tensor([[90,  2,  3,  4,  5,  6,  7,  8,  9],\n",
              "        [90,  2,  3,  4,  5,  6,  7,  8,  9]])"
            ]
          },
          "metadata": {},
          "execution_count": 83
        }
      ]
    },
    {
      "cell_type": "markdown",
      "source": [
        "### **3.11 Squeezing, unsqueezing and permuting**\n",
        "\n",
        "---\n"
      ],
      "metadata": {
        "id": "UxqjbQSW_wwT"
      }
    },
    {
      "cell_type": "code",
      "source": [
        "# squeeze\n",
        "\n",
        "y = t.arange(1,10)\n",
        "y = y.reshape((1,3,3,1))\n",
        "\n",
        "y, y.shape, t.squeeze(y), y.squeeze().shape  # t.squeeze() or y.squeeze()"
      ],
      "metadata": {
        "colab": {
          "base_uri": "https://localhost:8080/"
        },
        "id": "jXnggUMc_tLh",
        "outputId": "f4f9ab80-31c4-420d-a47f-153291143481"
      },
      "execution_count": null,
      "outputs": [
        {
          "output_type": "execute_result",
          "data": {
            "text/plain": [
              "(tensor([[[[1],\n",
              "           [2],\n",
              "           [3]],\n",
              " \n",
              "          [[4],\n",
              "           [5],\n",
              "           [6]],\n",
              " \n",
              "          [[7],\n",
              "           [8],\n",
              "           [9]]]]),\n",
              " torch.Size([1, 3, 3, 1]),\n",
              " tensor([[1, 2, 3],\n",
              "         [4, 5, 6],\n",
              "         [7, 8, 9]]),\n",
              " torch.Size([3, 3]))"
            ]
          },
          "metadata": {},
          "execution_count": 107
        }
      ]
    },
    {
      "cell_type": "code",
      "source": [
        "y.squeeze(-1)"
      ],
      "metadata": {
        "colab": {
          "base_uri": "https://localhost:8080/"
        },
        "id": "xQjccToJDlb_",
        "outputId": "cd7cf3e9-f398-484e-bba2-653c0c819312"
      },
      "execution_count": null,
      "outputs": [
        {
          "output_type": "execute_result",
          "data": {
            "text/plain": [
              "tensor([[[1, 2, 3],\n",
              "         [4, 5, 6],\n",
              "         [7, 8, 9]]])"
            ]
          },
          "metadata": {},
          "execution_count": 108
        }
      ]
    },
    {
      "cell_type": "code",
      "source": [
        "# unsqueeze\n",
        "\n",
        "y = y.reshape((-1,9))\n",
        "\n",
        "print(\"Previous = \", y, \" => \", y.shape)\n",
        "print(\"After = \", y.unsqueeze(1), \" => \", y.unsqueeze(1).shape)"
      ],
      "metadata": {
        "colab": {
          "base_uri": "https://localhost:8080/"
        },
        "id": "2-s6rsPHBHdm",
        "outputId": "7f339c60-6260-4c5b-cc9a-390b22cbbf60"
      },
      "execution_count": null,
      "outputs": [
        {
          "output_type": "stream",
          "name": "stdout",
          "text": [
            "Previous =  tensor([[1, 2, 3, 4, 5, 6, 7, 8, 9]])  =>  torch.Size([1, 9])\n",
            "After =  tensor([[[1, 2, 3, 4, 5, 6, 7, 8, 9]]])  =>  torch.Size([1, 1, 9])\n"
          ]
        }
      ]
    },
    {
      "cell_type": "code",
      "source": [
        "# Permute\n",
        "# index of original dimension, it is only as view main tensor gets affeccted if the value changed in this permute\n",
        "\n",
        "img = t.rand((4,4,3))\n",
        "img, img.shape, img.dtype"
      ],
      "metadata": {
        "colab": {
          "base_uri": "https://localhost:8080/"
        },
        "id": "cknAAlKhIItV",
        "outputId": "cab638a3-e201-4f86-d73e-7baeba7d2378"
      },
      "execution_count": null,
      "outputs": [
        {
          "output_type": "execute_result",
          "data": {
            "text/plain": [
              "(tensor([[[0.4684, 0.4725, 0.3760],\n",
              "          [0.9654, 0.3664, 0.1747],\n",
              "          [0.9458, 0.1603, 0.6712],\n",
              "          [0.9141, 0.1378, 0.0125]],\n",
              " \n",
              "         [[0.4734, 0.2597, 0.1162],\n",
              "          [0.9843, 0.8887, 0.9013],\n",
              "          [0.0503, 0.6741, 0.0915],\n",
              "          [0.5257, 0.7351, 0.9976]],\n",
              " \n",
              "         [[0.6469, 0.8251, 0.9404],\n",
              "          [0.1099, 0.8625, 0.6623],\n",
              "          [0.3509, 0.6548, 0.8585],\n",
              "          [0.3384, 0.8917, 0.5987]],\n",
              " \n",
              "         [[0.2836, 0.6390, 0.3034],\n",
              "          [0.8576, 0.3801, 0.0176],\n",
              "          [0.9675, 0.8340, 0.8432],\n",
              "          [0.3637, 0.3479, 0.7023]]]),\n",
              " torch.Size([4, 4, 3]),\n",
              " torch.float32)"
            ]
          },
          "metadata": {},
          "execution_count": 135
        }
      ]
    },
    {
      "cell_type": "code",
      "source": [
        "img.permute(2,1,0), img.permute(2,1,0).shape"
      ],
      "metadata": {
        "colab": {
          "base_uri": "https://localhost:8080/"
        },
        "id": "pQVyJJrLLz8Y",
        "outputId": "b591af94-485f-480d-9770-0f153a438198"
      },
      "execution_count": null,
      "outputs": [
        {
          "output_type": "execute_result",
          "data": {
            "text/plain": [
              "(tensor([[[0.4684, 0.4734, 0.6469, 0.2836],\n",
              "          [0.9654, 0.9843, 0.1099, 0.8576],\n",
              "          [0.9458, 0.0503, 0.3509, 0.9675],\n",
              "          [0.9141, 0.5257, 0.3384, 0.3637]],\n",
              " \n",
              "         [[0.4725, 0.2597, 0.8251, 0.6390],\n",
              "          [0.3664, 0.8887, 0.8625, 0.3801],\n",
              "          [0.1603, 0.6741, 0.6548, 0.8340],\n",
              "          [0.1378, 0.7351, 0.8917, 0.3479]],\n",
              " \n",
              "         [[0.3760, 0.1162, 0.9404, 0.3034],\n",
              "          [0.1747, 0.9013, 0.6623, 0.0176],\n",
              "          [0.6712, 0.0915, 0.8585, 0.8432],\n",
              "          [0.0125, 0.9976, 0.5987, 0.7023]]]),\n",
              " torch.Size([3, 4, 4]))"
            ]
          },
          "metadata": {},
          "execution_count": 136
        }
      ]
    },
    {
      "cell_type": "markdown",
      "source": [
        "### **3.12 Indexing**\n",
        "---"
      ],
      "metadata": {
        "id": "tdr1LqsCQIv2"
      }
    },
    {
      "cell_type": "code",
      "source": [
        "p = t.rand((6,6))\n",
        "p, p.shape"
      ],
      "metadata": {
        "colab": {
          "base_uri": "https://localhost:8080/"
        },
        "id": "G9wV0YFyL9V3",
        "outputId": "a79c65ce-62b4-4569-85f4-9db222005086"
      },
      "execution_count": null,
      "outputs": [
        {
          "output_type": "execute_result",
          "data": {
            "text/plain": [
              "(tensor([[0.4930, 0.8477, 0.7625, 0.4681, 0.0116, 0.7177],\n",
              "         [0.1970, 0.8652, 0.2500, 0.7191, 0.1316, 0.7537],\n",
              "         [0.4365, 0.6203, 0.1908, 0.5078, 0.2734, 0.6976],\n",
              "         [0.5016, 0.3412, 0.0037, 0.5848, 0.0769, 0.2277],\n",
              "         [0.5835, 0.7777, 0.7807, 0.2269, 0.7648, 0.2376],\n",
              "         [0.6631, 0.3416, 0.0781, 0.3490, 0.6365, 0.1477]]),\n",
              " torch.Size([6, 6]))"
            ]
          },
          "metadata": {},
          "execution_count": 138
        }
      ]
    },
    {
      "cell_type": "code",
      "source": [
        "p[1:4,1:4]"
      ],
      "metadata": {
        "colab": {
          "base_uri": "https://localhost:8080/"
        },
        "id": "tLEVmblWTeuY",
        "outputId": "30b2727d-5f79-4921-efb1-3d23da2e3f9b"
      },
      "execution_count": null,
      "outputs": [
        {
          "output_type": "execute_result",
          "data": {
            "text/plain": [
              "tensor([[0.8652, 0.2500, 0.7191],\n",
              "        [0.6203, 0.1908, 0.5078],\n",
              "        [0.3412, 0.0037, 0.5848]])"
            ]
          },
          "metadata": {},
          "execution_count": 139
        }
      ]
    },
    {
      "cell_type": "markdown",
      "source": [
        "## **4. NumPy and PyTorch tensor**"
      ],
      "metadata": {
        "id": "qstZnGplWOp_"
      }
    },
    {
      "cell_type": "code",
      "source": [
        "import torch as t\n",
        "import numpy as np"
      ],
      "metadata": {
        "id": "5Wr2GtfGTpr-"
      },
      "execution_count": null,
      "outputs": []
    },
    {
      "cell_type": "code",
      "source": [
        "# numpy default dtype = float64\n",
        "# torch default dtype = float32\n",
        "\n",
        "array = np.arange(1,10, dtype=np.float32)\n",
        "tensor = t.from_numpy(array)\n",
        "\n",
        "array, tensor"
      ],
      "metadata": {
        "colab": {
          "base_uri": "https://localhost:8080/"
        },
        "id": "QSCYz6ByWZOL",
        "outputId": "0f02231a-304f-4045-b555-9b833414dba0"
      },
      "execution_count": null,
      "outputs": [
        {
          "output_type": "execute_result",
          "data": {
            "text/plain": [
              "(array([1., 2., 3., 4., 5., 6., 7., 8., 9.], dtype=float32),\n",
              " tensor([1., 2., 3., 4., 5., 6., 7., 8., 9.]))"
            ]
          },
          "metadata": {},
          "execution_count": 147
        }
      ]
    },
    {
      "cell_type": "code",
      "source": [
        "array.dtype, tensor.dtype"
      ],
      "metadata": {
        "colab": {
          "base_uri": "https://localhost:8080/"
        },
        "id": "s7O-9jvGWpbL",
        "outputId": "d247726e-dad0-4576-c8d6-1cd660661123"
      },
      "execution_count": null,
      "outputs": [
        {
          "output_type": "execute_result",
          "data": {
            "text/plain": [
              "(dtype('float32'), torch.float32)"
            ]
          },
          "metadata": {},
          "execution_count": 148
        }
      ]
    },
    {
      "cell_type": "code",
      "source": [
        "array1 = tensor.numpy()\n",
        "array1"
      ],
      "metadata": {
        "colab": {
          "base_uri": "https://localhost:8080/"
        },
        "id": "uDX5Toh6WtmW",
        "outputId": "0fcfc315-6f4f-490a-aac0-5be0af5be2c9"
      },
      "execution_count": null,
      "outputs": [
        {
          "output_type": "execute_result",
          "data": {
            "text/plain": [
              "array([1., 2., 3., 4., 5., 6., 7., 8., 9.], dtype=float32)"
            ]
          },
          "metadata": {},
          "execution_count": 149
        }
      ]
    },
    {
      "cell_type": "markdown",
      "source": [
        "## **5. Reproduceability**"
      ],
      "metadata": {
        "id": "5O2igEvza_vh"
      }
    },
    {
      "cell_type": "code",
      "source": [
        "random_tensor_A = t.rand((3,4))\n",
        "random_tensor_B = t.rand((3,4))\n",
        "\n",
        "print(random_tensor_A)\n",
        "print(random_tensor_B)"
      ],
      "metadata": {
        "colab": {
          "base_uri": "https://localhost:8080/"
        },
        "id": "zvXb_FtHW2lx",
        "outputId": "4ae10215-4851-4054-c58d-723c0ab3cf37"
      },
      "execution_count": null,
      "outputs": [
        {
          "output_type": "stream",
          "name": "stdout",
          "text": [
            "tensor([[0.6211, 0.2505, 0.0840, 0.0735],\n",
            "        [0.8267, 0.2078, 0.8294, 0.6970],\n",
            "        [0.5434, 0.7587, 0.7308, 0.2271]])\n",
            "tensor([[0.3769, 0.9027, 0.8224, 0.0141],\n",
            "        [0.7901, 0.5367, 0.8789, 0.1566],\n",
            "        [0.5365, 0.8220, 0.4518, 0.7550]])\n"
          ]
        }
      ]
    },
    {
      "cell_type": "code",
      "source": [
        "RANDOM_SEED = 42\n",
        "t.manual_seed(RANDOM_SEED)\n",
        "random_tensor_C = t.rand((3,4))\n",
        "t.manual_seed(RANDOM_SEED)\n",
        "random_tensor_D = t.rand((3,4))\n",
        "\n",
        "print(random_tensor_C)\n",
        "print(random_tensor_D)\n",
        "print(random_tensor_C == random_tensor_D)"
      ],
      "metadata": {
        "colab": {
          "base_uri": "https://localhost:8080/"
        },
        "id": "Zh1HPWQebPE-",
        "outputId": "551105c9-b955-4926-d2a9-72881b22bcec"
      },
      "execution_count": null,
      "outputs": [
        {
          "output_type": "stream",
          "name": "stdout",
          "text": [
            "tensor([[0.8823, 0.9150, 0.3829, 0.9593],\n",
            "        [0.3904, 0.6009, 0.2566, 0.7936],\n",
            "        [0.9408, 0.1332, 0.9346, 0.5936]])\n",
            "tensor([[0.8823, 0.9150, 0.3829, 0.9593],\n",
            "        [0.3904, 0.6009, 0.2566, 0.7936],\n",
            "        [0.9408, 0.1332, 0.9346, 0.5936]])\n",
            "tensor([[True, True, True, True],\n",
            "        [True, True, True, True],\n",
            "        [True, True, True, True]])\n"
          ]
        }
      ]
    },
    {
      "cell_type": "markdown",
      "source": [
        "## **6. Use GPU**"
      ],
      "metadata": {
        "id": "Tq18KaKyEgyU"
      }
    },
    {
      "cell_type": "code",
      "source": [
        "# by default tensors set to cpu\n",
        "\n",
        "t1 = t.tensor([1,2,3,4])\n",
        "print(t1, t1.device)"
      ],
      "metadata": {
        "id": "7B6baITLbcbS",
        "colab": {
          "base_uri": "https://localhost:8080/"
        },
        "outputId": "32b3c069-0222-4e9c-898d-fbd83e91a983"
      },
      "execution_count": null,
      "outputs": [
        {
          "output_type": "stream",
          "name": "stdout",
          "text": [
            "tensor([1, 2, 3, 4]) cpu\n"
          ]
        }
      ]
    },
    {
      "cell_type": "code",
      "source": [
        "#. changed the tensor from cpu to gpu\n",
        "\n",
        "t2 = t.tensor([1,2,3,4], device=device)\n",
        "print(t2, t2.device)"
      ],
      "metadata": {
        "colab": {
          "base_uri": "https://localhost:8080/"
        },
        "id": "HKEWprFAGD12",
        "outputId": "1401c420-275e-45a3-ceb6-6355d9a7f4d5"
      },
      "execution_count": null,
      "outputs": [
        {
          "output_type": "stream",
          "name": "stdout",
          "text": [
            "tensor([1, 2, 3, 4], device='cuda:0') cuda:0\n"
          ]
        }
      ]
    },
    {
      "cell_type": "code",
      "source": [
        "# moving tensors\n",
        "\n",
        "print(t1.to(device).device)    # from cpu to gpu\n",
        "\n",
        "print(t2.to('cpu').device)     # from gpu to cpu type-1\n",
        "print(t2.cpu().device)         # Type-2"
      ],
      "metadata": {
        "colab": {
          "base_uri": "https://localhost:8080/"
        },
        "id": "-3g2dCgoGNN3",
        "outputId": "70014afc-f961-4568-fecb-15d062fcc247"
      },
      "execution_count": null,
      "outputs": [
        {
          "output_type": "stream",
          "name": "stdout",
          "text": [
            "cuda:0\n",
            "cpu\n",
            "cpu\n"
          ]
        }
      ]
    },
    {
      "cell_type": "markdown",
      "source": [
        "### **6.1 How use of GPU saves time**"
      ],
      "metadata": {
        "id": "Qe3nl9c-JGrG"
      }
    },
    {
      "cell_type": "code",
      "source": [
        "t3 = t.rand((128,128), device=device)\n",
        "t4 = t.rand((128,128), device=device)\n",
        "\n",
        "print(t3.shape, t3.device, t4.shape, t4.device)"
      ],
      "metadata": {
        "colab": {
          "base_uri": "https://localhost:8080/"
        },
        "id": "AvHVUW3lGwU8",
        "outputId": "17387254-1536-4eb1-b1f0-1ab60e0adcd0"
      },
      "execution_count": null,
      "outputs": [
        {
          "output_type": "stream",
          "name": "stdout",
          "text": [
            "torch.Size([128, 128]) cuda:0 torch.Size([128, 128]) cuda:0\n"
          ]
        }
      ]
    },
    {
      "cell_type": "code",
      "source": [
        "%%timeit\n",
        "t.mm(t3, t4)"
      ],
      "metadata": {
        "colab": {
          "base_uri": "https://localhost:8080/"
        },
        "id": "LWOPTxYCIbOw",
        "outputId": "da9042b7-b0b5-43b6-ff1a-1c3baa079126"
      },
      "execution_count": null,
      "outputs": [
        {
          "output_type": "stream",
          "name": "stdout",
          "text": [
            "13 µs ± 1.61 µs per loop (mean ± std. dev. of 7 runs, 100000 loops each)\n"
          ]
        }
      ]
    },
    {
      "cell_type": "code",
      "source": [
        "t5 = t.rand((128,128), device='cpu')\n",
        "t6 = t.rand((128,128), device='cpu')\n",
        "\n",
        "print(t5.shape, t5.device, t6.shape, t6.device)"
      ],
      "metadata": {
        "colab": {
          "base_uri": "https://localhost:8080/"
        },
        "id": "i1NjkYFJIfM8",
        "outputId": "1fed5654-f119-4421-c824-ba6d283251ff"
      },
      "execution_count": null,
      "outputs": [
        {
          "output_type": "stream",
          "name": "stdout",
          "text": [
            "torch.Size([128, 128]) cpu torch.Size([128, 128]) cpu\n"
          ]
        }
      ]
    },
    {
      "cell_type": "code",
      "source": [
        "%%timeit\n",
        "t.mm(t5, t6)"
      ],
      "metadata": {
        "colab": {
          "base_uri": "https://localhost:8080/"
        },
        "id": "s35EBEIcI5wQ",
        "outputId": "a7e74e28-2f58-4cba-afce-9a81185d7b3f"
      },
      "execution_count": null,
      "outputs": [
        {
          "output_type": "stream",
          "name": "stdout",
          "text": [
            "38.6 µs ± 10.3 µs per loop (mean ± std. dev. of 7 runs, 10000 loops each)\n"
          ]
        }
      ]
    },
    {
      "cell_type": "markdown",
      "source": [
        "## **7. Practice**"
      ],
      "metadata": {
        "id": "s_F1rMxNJ7yo"
      }
    },
    {
      "cell_type": "code",
      "source": [
        "t.rand((1,7))"
      ],
      "metadata": {
        "colab": {
          "base_uri": "https://localhost:8080/"
        },
        "id": "yI8_o19QI9n_",
        "outputId": "c906ca3a-454e-48d3-f4ca-19fd4ab3b4ae"
      },
      "execution_count": null,
      "outputs": [
        {
          "output_type": "execute_result",
          "data": {
            "text/plain": [
              "tensor([[0.0945, 0.3978, 0.8130, 0.5686, 0.0808, 0.8295, 0.8527]])"
            ]
          },
          "metadata": {},
          "execution_count": 20
        }
      ]
    },
    {
      "cell_type": "code",
      "source": [
        "t.rand((1,7)).T.shape"
      ],
      "metadata": {
        "colab": {
          "base_uri": "https://localhost:8080/"
        },
        "id": "qjx08n10JwNs",
        "outputId": "ea7fe7eb-044f-4ad7-fb6f-419c48ea43a2"
      },
      "execution_count": null,
      "outputs": [
        {
          "output_type": "execute_result",
          "data": {
            "text/plain": [
              "torch.Size([7, 1])"
            ]
          },
          "metadata": {},
          "execution_count": 22
        }
      ]
    },
    {
      "cell_type": "code",
      "source": [
        "import time"
      ],
      "metadata": {
        "id": "LTm-sjUdJx5s"
      },
      "execution_count": 5,
      "outputs": []
    },
    {
      "cell_type": "code",
      "source": [
        "%time\n",
        "\n",
        "a=\"stack overflow\"\n",
        "time.sleep(5)\n",
        "print(a)"
      ],
      "metadata": {
        "colab": {
          "base_uri": "https://localhost:8080/"
        },
        "id": "6kV055AGRTtM",
        "outputId": "6f5f97ca-ab1b-4e20-fcbe-baabf860a492"
      },
      "execution_count": 6,
      "outputs": [
        {
          "output_type": "stream",
          "name": "stdout",
          "text": [
            "CPU times: user 3 µs, sys: 0 ns, total: 3 µs\n",
            "Wall time: 7.39 µs\n",
            "stack overflow\n"
          ]
        }
      ]
    },
    {
      "cell_type": "code",
      "source": [
        "%%time\n",
        "\n",
        "a=\"stack overflow\"\n",
        "time.sleep(5)\n",
        "print(a)"
      ],
      "metadata": {
        "colab": {
          "base_uri": "https://localhost:8080/"
        },
        "id": "KR8ps4LFRXoh",
        "outputId": "84ec51f4-b1bf-4259-fbe2-dbcca9c11f97"
      },
      "execution_count": 7,
      "outputs": [
        {
          "output_type": "stream",
          "name": "stdout",
          "text": [
            "stack overflow\n",
            "CPU times: user 27.1 ms, sys: 3.85 ms, total: 31 ms\n",
            "Wall time: 5.01 s\n"
          ]
        }
      ]
    },
    {
      "cell_type": "code",
      "source": [],
      "metadata": {
        "id": "vBNGxc0HRcN_"
      },
      "execution_count": null,
      "outputs": []
    }
  ]
}