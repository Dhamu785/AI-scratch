{
  "nbformat": 4,
  "nbformat_minor": 0,
  "metadata": {
    "colab": {
      "provenance": [],
      "toc_visible": true,
      "gpuType": "T4",
      "mount_file_id": "1O_lnuiQq2Hl0ckNCsUj9plS5oj9jAiD3",
      "authorship_tag": "ABX9TyO2LWJ8kYC8D/ykRnRO+ZYx",
      "include_colab_link": true
    },
    "kernelspec": {
      "name": "python3",
      "display_name": "Python 3"
    },
    "language_info": {
      "name": "python"
    },
    "accelerator": "GPU"
  },
  "cells": [
    {
      "cell_type": "markdown",
      "metadata": {
        "id": "view-in-github",
        "colab_type": "text"
      },
      "source": [
        "<a href=\"https://colab.research.google.com/github/Dhamu785/AI-scratch/blob/main/PyTorch/01_workflow.ipynb\" target=\"_parent\"><img src=\"https://colab.research.google.com/assets/colab-badge.svg\" alt=\"Open In Colab\"/></a>"
      ]
    },
    {
      "cell_type": "markdown",
      "source": [
        "### **Types of data**\n",
        "Type-1 | Type-2 | Type-3\n",
        "---|---|---|\n",
        "Numerical | Image | Video\n",
        "Text | Audio | DNA"
      ],
      "metadata": {
        "id": "AHXkjlruhGIi"
      }
    },
    {
      "cell_type": "markdown",
      "source": [
        "## **1. Import libaries**"
      ],
      "metadata": {
        "id": "Tq_jv41eFxaE"
      }
    },
    {
      "cell_type": "code",
      "execution_count": 1,
      "metadata": {
        "id": "L0K7drEDDnvH"
      },
      "outputs": [],
      "source": [
        "import torch as t\n",
        "import numpy as np\n",
        "import matplotlib.pyplot as plt\n",
        "from torch import nn\n",
        "import pandas as pd\n",
        "import os"
      ]
    },
    {
      "cell_type": "code",
      "source": [
        "!nvidia-smi"
      ],
      "metadata": {
        "colab": {
          "base_uri": "https://localhost:8080/"
        },
        "id": "21D2oQuLF8ZG",
        "outputId": "cd40c7ea-6116-4e00-b605-46930733325d"
      },
      "execution_count": 2,
      "outputs": [
        {
          "output_type": "stream",
          "name": "stdout",
          "text": [
            "Sat Jun 29 20:45:39 2024       \n",
            "+---------------------------------------------------------------------------------------+\n",
            "| NVIDIA-SMI 535.104.05             Driver Version: 535.104.05   CUDA Version: 12.2     |\n",
            "|-----------------------------------------+----------------------+----------------------+\n",
            "| GPU  Name                 Persistence-M | Bus-Id        Disp.A | Volatile Uncorr. ECC |\n",
            "| Fan  Temp   Perf          Pwr:Usage/Cap |         Memory-Usage | GPU-Util  Compute M. |\n",
            "|                                         |                      |               MIG M. |\n",
            "|=========================================+======================+======================|\n",
            "|   0  Tesla T4                       Off | 00000000:00:04.0 Off |                    0 |\n",
            "| N/A   73C    P8              11W /  70W |      0MiB / 15360MiB |      0%      Default |\n",
            "|                                         |                      |                  N/A |\n",
            "+-----------------------------------------+----------------------+----------------------+\n",
            "                                                                                         \n",
            "+---------------------------------------------------------------------------------------+\n",
            "| Processes:                                                                            |\n",
            "|  GPU   GI   CI        PID   Type   Process name                            GPU Memory |\n",
            "|        ID   ID                                                             Usage      |\n",
            "|=======================================================================================|\n",
            "|  No running processes found                                                           |\n",
            "+---------------------------------------------------------------------------------------+\n"
          ]
        }
      ]
    },
    {
      "cell_type": "markdown",
      "source": [
        "## **2. Create dataset**"
      ],
      "metadata": {
        "id": "qAv_JyZ9GAh8"
      }
    },
    {
      "cell_type": "code",
      "source": [
        "start = 0\n",
        "stop = 1\n",
        "step = 0.02\n",
        "\n",
        "weight = 0.3\n",
        "bias = 0.7\n",
        "\n",
        "X = t.arange(start, stop, step)\n",
        "X"
      ],
      "metadata": {
        "colab": {
          "base_uri": "https://localhost:8080/"
        },
        "id": "xARZ3z4DF-7c",
        "outputId": "a713a31a-9083-4844-999c-507a27c8c89e"
      },
      "execution_count": 3,
      "outputs": [
        {
          "output_type": "execute_result",
          "data": {
            "text/plain": [
              "tensor([0.0000, 0.0200, 0.0400, 0.0600, 0.0800, 0.1000, 0.1200, 0.1400, 0.1600,\n",
              "        0.1800, 0.2000, 0.2200, 0.2400, 0.2600, 0.2800, 0.3000, 0.3200, 0.3400,\n",
              "        0.3600, 0.3800, 0.4000, 0.4200, 0.4400, 0.4600, 0.4800, 0.5000, 0.5200,\n",
              "        0.5400, 0.5600, 0.5800, 0.6000, 0.6200, 0.6400, 0.6600, 0.6800, 0.7000,\n",
              "        0.7200, 0.7400, 0.7600, 0.7800, 0.8000, 0.8200, 0.8400, 0.8600, 0.8800,\n",
              "        0.9000, 0.9200, 0.9400, 0.9600, 0.9800])"
            ]
          },
          "metadata": {},
          "execution_count": 3
        }
      ]
    },
    {
      "cell_type": "code",
      "source": [
        "X = X.unsqueeze(1)\n",
        "y = weight * X + bias\n",
        "# my_y = weight * X + (weight+0.6) * X + bias\n",
        "y[:5]"
      ],
      "metadata": {
        "colab": {
          "base_uri": "https://localhost:8080/"
        },
        "id": "8BdubgbcGOgY",
        "outputId": "de4d08ce-a06b-44e2-fd20-c8e490820368"
      },
      "execution_count": 4,
      "outputs": [
        {
          "output_type": "execute_result",
          "data": {
            "text/plain": [
              "tensor([[0.7000],\n",
              "        [0.7060],\n",
              "        [0.7120],\n",
              "        [0.7180],\n",
              "        [0.7240]])"
            ]
          },
          "metadata": {},
          "execution_count": 4
        }
      ]
    },
    {
      "cell_type": "markdown",
      "source": [
        "## **3. Train test split**"
      ],
      "metadata": {
        "id": "YjpN6-kL8zu7"
      }
    },
    {
      "cell_type": "code",
      "source": [
        "train_data = 0.8*len(X)\n",
        "test_data = 0.2*len(X)\n",
        "\n",
        "print(f'Total data in train and test data = {train_data, test_data}')\n",
        "x_train = X[:int(train_data)]\n",
        "x_test = X[int(train_data):]\n",
        "\n",
        "y_train = y[:int(train_data)]\n",
        "y_test = y[int(train_data):]\n",
        "print(len(x_train), len(x_test), len(y_train), len(y_test))"
      ],
      "metadata": {
        "colab": {
          "base_uri": "https://localhost:8080/"
        },
        "id": "r7bfhocUGTi9",
        "outputId": "ec790e8d-90ee-4146-b1bd-26c315c51f4d"
      },
      "execution_count": 5,
      "outputs": [
        {
          "output_type": "stream",
          "name": "stdout",
          "text": [
            "Total data in train and test data = (40.0, 10.0)\n",
            "40 10 40 10\n"
          ]
        }
      ]
    },
    {
      "cell_type": "markdown",
      "source": [
        "## **4. Plot the data**"
      ],
      "metadata": {
        "id": "G5zwTA7FGSjB"
      }
    },
    {
      "cell_type": "code",
      "source": [
        "def view_data(train_data = x_train, train_label = y_train, test_data = x_test, test_label = y_test, prediction=None):\n",
        "    plt.style.use('fivethirtyeight')\n",
        "    plt.figure(figsize=(12,4))\n",
        "    plt.subplot(1,2,1)\n",
        "    plt.scatter(train_data, train_label, c='r', s=8, label='Train data')\n",
        "    plt.scatter(test_data, test_label, s=8, c='g', label='Test data')\n",
        "    plt.title(\"Actual\")\n",
        "    if prediction != None:\n",
        "        plt.subplot(1,2,2)\n",
        "        plt.scatter(train_data, train_label, c='r', s=4, label='Train data')\n",
        "        plt.scatter(test_data, test_label, s=8, c='g', label='Test data')\n",
        "        plt.scatter(test_data, prediction, s=8, c='b', label='predictions')\n",
        "        plt.title('With predictions')\n",
        "    plt.legend(prop={'size':10})\n",
        "    plt.show()\n",
        "\n",
        "view_data()"
      ],
      "metadata": {
        "id": "04HFJVPX9equ",
        "colab": {
          "base_uri": "https://localhost:8080/",
          "height": 415
        },
        "outputId": "34d45279-8e7a-419b-d0a8-3575de92287e"
      },
      "execution_count": 6,
      "outputs": [
        {
          "output_type": "display_data",
          "data": {
            "text/plain": [
              "<Figure size 1200x400 with 1 Axes>"
            ],
            "image/png": "[encoded data removed]"
          },
          "metadata": {}
        }
      ]
    },
    {
      "cell_type": "markdown",
      "source": [
        "## **5. Creating the model class**\n",
        "- [\"Super\" - use case in constructor](https://stackoverflow.com/a/41384524/15980054)"
      ],
      "metadata": {
        "id": "_ljT33n2WJfX"
      }
    },
    {
      "cell_type": "code",
      "source": [
        "class A:\n",
        "     def __init__(self):\n",
        "         print(\"I'm from A\")\n",
        "\n",
        "class B(A):\n",
        "    def __init__(self):\n",
        "        print(\"I'm from B\")\n",
        "        super().__init__()\n",
        "\n",
        "class C(A):\n",
        "    def __init__(self):\n",
        "        print(\"I'm from C\")\n",
        "        super().__init__()\n",
        "\n",
        "class D(B):\n",
        "    def __init__(self):\n",
        "        print(\"I'm from D\")\n",
        "        B.__init__(self)\n",
        "        # super().__init__()\n",
        "\n",
        "d = D()"
      ],
      "metadata": {
        "colab": {
          "base_uri": "https://localhost:8080/"
        },
        "id": "oS48NpBxc5-L",
        "outputId": "f61e3117-8979-4da1-8824-a43e04d1f2ac"
      },
      "execution_count": 7,
      "outputs": [
        {
          "output_type": "stream",
          "name": "stdout",
          "text": [
            "I'm from D\n",
            "I'm from B\n",
            "I'm from A\n"
          ]
        }
      ]
    },
    {
      "cell_type": "code",
      "source": [
        "# Model class\n",
        "\n",
        "class linear_regression(nn.Module):\n",
        "    def __init__(self):\n",
        "        super().__init__()\n",
        "        self.weights = nn.Parameter(t.randn(1, dtype=t.float, requires_grad=True))\n",
        "        self.bias = nn.Parameter(t.randn(1, dtype=t.float32, requires_grad=True))\n",
        "\n",
        "    def forward(self, x:t.Tensor) -> t.Tensor:\n",
        "        return self.weights * x + self.bias"
      ],
      "metadata": {
        "id": "a2kJnuNgTLbH"
      },
      "execution_count": 8,
      "outputs": []
    },
    {
      "cell_type": "markdown",
      "source": [
        "### **5.1 Exploring the parameters in the created model**"
      ],
      "metadata": {
        "id": "nqMXdSx8wcr6"
      }
    },
    {
      "cell_type": "code",
      "source": [
        "t.manual_seed(42)\n",
        "\n",
        "model_0 = linear_regression()"
      ],
      "metadata": {
        "id": "5awR08adfRgE"
      },
      "execution_count": 9,
      "outputs": []
    },
    {
      "cell_type": "code",
      "source": [
        "list(model_0.parameters())"
      ],
      "metadata": {
        "colab": {
          "base_uri": "https://localhost:8080/"
        },
        "id": "LopYRLp-feCJ",
        "outputId": "6b60e05d-8a50-4f82-903f-64c5bf10e04c"
      },
      "execution_count": 10,
      "outputs": [
        {
          "output_type": "execute_result",
          "data": {
            "text/plain": [
              "[Parameter containing:\n",
              " tensor([0.3367], requires_grad=True),\n",
              " Parameter containing:\n",
              " tensor([0.1288], requires_grad=True)]"
            ]
          },
          "metadata": {},
          "execution_count": 10
        }
      ]
    },
    {
      "cell_type": "code",
      "source": [
        "model_0.state_dict()"
      ],
      "metadata": {
        "colab": {
          "base_uri": "https://localhost:8080/"
        },
        "id": "K-_VPypNwwRK",
        "outputId": "118ab22e-1bf4-4a6f-bcbc-c79034fddad0"
      },
      "execution_count": 11,
      "outputs": [
        {
          "output_type": "execute_result",
          "data": {
            "text/plain": [
              "OrderedDict([('weights', tensor([0.3367])), ('bias', tensor([0.1288]))])"
            ]
          },
          "metadata": {},
          "execution_count": 11
        }
      ]
    },
    {
      "cell_type": "markdown",
      "source": [
        "### **5.2 Model prediction without training**"
      ],
      "metadata": {
        "id": "qRgqOG16spic"
      }
    },
    {
      "cell_type": "code",
      "source": [
        "with t.inference_mode():\n",
        "    y_pred = model_0(x_test)\n",
        "\n",
        "y_pred"
      ],
      "metadata": {
        "id": "X5Cg946by_uP",
        "colab": {
          "base_uri": "https://localhost:8080/"
        },
        "outputId": "e0b7538e-619d-475f-8dc1-ea7d01fc402b"
      },
      "execution_count": 12,
      "outputs": [
        {
          "output_type": "execute_result",
          "data": {
            "text/plain": [
              "tensor([[0.3982],\n",
              "        [0.4049],\n",
              "        [0.4116],\n",
              "        [0.4184],\n",
              "        [0.4251],\n",
              "        [0.4318],\n",
              "        [0.4386],\n",
              "        [0.4453],\n",
              "        [0.4520],\n",
              "        [0.4588]])"
            ]
          },
          "metadata": {},
          "execution_count": 12
        }
      ]
    },
    {
      "cell_type": "code",
      "source": [
        "view_data(prediction=y_pred)"
      ],
      "metadata": {
        "colab": {
          "base_uri": "https://localhost:8080/",
          "height": 403
        },
        "id": "kmhDv1D-s4-e",
        "outputId": "e7b709bd-a3ce-49b5-fa1b-0da3b6914560"
      },
      "execution_count": 13,
      "outputs": [
        {
          "output_type": "display_data",
          "data": {
            "text/plain": [
              "<Figure size 1200x400 with 2 Axes>"
            ],
            "image/png": "[encoded data removed]"
          },
          "metadata": {}
        }
      ]
    },
    {
      "cell_type": "markdown",
      "source": [
        "### **5.3 Model training loop**"
      ],
      "metadata": {
        "id": "CzNL3i5R2Zu3"
      }
    },
    {
      "cell_type": "code",
      "source": [
        "# setting up the loss function and optimizer\n",
        "\n",
        "loss = nn.L1Loss() # MAE\n",
        "opt = t.optim.SGD(params=model_0.parameters(), lr=0.01)"
      ],
      "metadata": {
        "id": "Lhvvu7-ctx_N"
      },
      "execution_count": 14,
      "outputs": []
    },
    {
      "cell_type": "code",
      "source": [
        "print(f\"Actual : {weight = } , {bias = }\")\n",
        "print(f\"Random : {model_0.state_dict() = }\")"
      ],
      "metadata": {
        "colab": {
          "base_uri": "https://localhost:8080/"
        },
        "id": "bQgwpiXH6oBA",
        "outputId": "cb34039f-c66a-47ce-e187-ce40774112f4"
      },
      "execution_count": 15,
      "outputs": [
        {
          "output_type": "stream",
          "name": "stdout",
          "text": [
            "Actual : weight = 0.3 , bias = 0.7\n",
            "Random : model_0.state_dict() = OrderedDict([('weights', tensor([0.3367])), ('bias', tensor([0.1288]))])\n"
          ]
        }
      ]
    },
    {
      "cell_type": "code",
      "source": [
        "# 1. Forward pass\n",
        "# 2. calculate loss\n",
        "# 3. Zero-grad\n",
        "# 4. Back propagation\n",
        "# 5. Optimazation\n",
        "\n",
        "track = {\"epoch\": [], \"train_loss\":[], \"test_loss\":[], \"weight\":[], \"bias\":[]}\n",
        "\n",
        "def train_mdl(epochs=10):\n",
        "    for epoch in range(epochs):\n",
        "        model_0.train()\n",
        "        y_pred = model_0(x_train)\n",
        "        los = loss(y_train, y_pred)\n",
        "        opt.zero_grad()\n",
        "        los.backward()\n",
        "        opt.step()\n",
        "        model_0.eval()\n",
        "        with t.inference_mode():\n",
        "            test_loss = loss(y_test, model_0(x_test))\n",
        "\n",
        "        track['epoch'].append(epoch)\n",
        "        track[\"train_loss\"].append(round(float(los), 4))\n",
        "        track[\"test_loss\"].append(round(float(test_loss), 4))\n",
        "        track[\"weight\"].append(round(float(model_0.state_dict()['weights']), 4))\n",
        "        track[\"bias\"].append(round(float(model_0.state_dict()['bias']), 4))\n",
        "\n",
        "        if epoch % 10 == 0:\n",
        "            print(f\"Epoch = {epoch}, {los = }, {test_loss = }, Weight = {model_0.state_dict()['weights']}, Bias = {model_0.state_dict()['bias']}\")\n"
      ],
      "metadata": {
        "id": "Qrmwnap7wqhu"
      },
      "execution_count": 16,
      "outputs": []
    },
    {
      "cell_type": "code",
      "source": [
        "train_mdl(100)"
      ],
      "metadata": {
        "colab": {
          "base_uri": "https://localhost:8080/"
        },
        "id": "kZ0ooYag6L2q",
        "outputId": "d9cc325f-a31a-4826-c10d-595c69963455"
      },
      "execution_count": 17,
      "outputs": [
        {
          "output_type": "stream",
          "name": "stdout",
          "text": [
            "Epoch = 0, los = tensor(0.5569, grad_fn=<MeanBackward0>), test_loss = tensor(0.5251), Weight = tensor([0.3406]), Bias = tensor([0.1388])\n",
            "Epoch = 10, los = tensor(0.4417, grad_fn=<MeanBackward0>), test_loss = tensor(0.3904), Weight = tensor([0.3796]), Bias = tensor([0.2388])\n",
            "Epoch = 20, los = tensor(0.3265, grad_fn=<MeanBackward0>), test_loss = tensor(0.2556), Weight = tensor([0.4186]), Bias = tensor([0.3388])\n",
            "Epoch = 30, los = tensor(0.2113, grad_fn=<MeanBackward0>), test_loss = tensor(0.1209), Weight = tensor([0.4576]), Bias = tensor([0.4388])\n",
            "Epoch = 40, los = tensor(0.0960, grad_fn=<MeanBackward0>), test_loss = tensor(0.0146), Weight = tensor([0.4966]), Bias = tensor([0.5388])\n",
            "Epoch = 50, los = tensor(0.0452, grad_fn=<MeanBackward0>), test_loss = tensor(0.0818), Weight = tensor([0.5073]), Bias = tensor([0.5973])\n",
            "Epoch = 60, los = tensor(0.0398, grad_fn=<MeanBackward0>), test_loss = tensor(0.0888), Weight = tensor([0.4950]), Bias = tensor([0.6153])\n",
            "Epoch = 70, los = tensor(0.0363, grad_fn=<MeanBackward0>), test_loss = tensor(0.0840), Weight = tensor([0.4788]), Bias = tensor([0.6248])\n",
            "Epoch = 80, los = tensor(0.0329, grad_fn=<MeanBackward0>), test_loss = tensor(0.0764), Weight = tensor([0.4619]), Bias = tensor([0.6323])\n",
            "Epoch = 90, los = tensor(0.0294, grad_fn=<MeanBackward0>), test_loss = tensor(0.0681), Weight = tensor([0.4447]), Bias = tensor([0.6393])\n"
          ]
        }
      ]
    },
    {
      "cell_type": "code",
      "source": [
        "with t.inference_mode():\n",
        "    y_pred = model_0(x_test)\n",
        "\n",
        "view_data(prediction=y_pred)"
      ],
      "metadata": {
        "colab": {
          "base_uri": "https://localhost:8080/",
          "height": 403
        },
        "id": "_iPtJTPE-iLX",
        "outputId": "b36edf50-146f-4df8-8736-9b8f2ce701d8"
      },
      "execution_count": 18,
      "outputs": [
        {
          "output_type": "display_data",
          "data": {
            "text/plain": [
              "<Figure size 1200x400 with 2 Axes>"
            ],
            "image/png": "[encoded data removed]"
          },
          "metadata": {}
        }
      ]
    },
    {
      "cell_type": "code",
      "source": [
        "df = pd.DataFrame(track)\n",
        "df.head()"
      ],
      "metadata": {
        "id": "m5muD45v-1dA",
        "colab": {
          "base_uri": "https://localhost:8080/",
          "height": 206
        },
        "outputId": "f490aef7-1f60-4a6a-d1e5-e0f2399279fe"
      },
      "execution_count": 19,
      "outputs": [
        {
          "output_type": "execute_result",
          "data": {
            "text/plain": [
              "   epoch  train_loss  test_loss  weight    bias\n",
              "0      0      0.5569     0.5251  0.3406  0.1388\n",
              "1      1      0.5454     0.5116  0.3445  0.1488\n",
              "2      2      0.5338     0.4981  0.3484  0.1588\n",
              "3      3      0.5223     0.4847  0.3523  0.1688\n",
              "4      4      0.5108     0.4712  0.3562  0.1788"
            ],
            "text/html": [
              "\n",
              "  <div id=\"df-004330d8-cc61-4dcb-ad55-4c29437746cd\" class=\"colab-df-container\">\n",
              "    <div>\n",
              "<style scoped>\n",
              "    .dataframe tbody tr th:only-of-type {\n",
              "        vertical-align: middle;\n",
              "    }\n",
              "\n",
              "    .dataframe tbody tr th {\n",
              "        vertical-align: top;\n",
              "    }\n",
              "\n",
              "    .dataframe thead th {\n",
              "        text-align: right;\n",
              "    }\n",
              "</style>\n",
              "<table border=\"1\" class=\"dataframe\">\n",
              "  <thead>\n",
              "    <tr style=\"text-align: right;\">\n",
              "      <th></th>\n",
              "      <th>epoch</th>\n",
              "      <th>train_loss</th>\n",
              "      <th>test_loss</th>\n",
              "      <th>weight</th>\n",
              "      <th>bias</th>\n",
              "    </tr>\n",
              "  </thead>\n",
              "  <tbody>\n",
              "    <tr>\n",
              "      <th>0</th>\n",
              "      <td>0</td>\n",
              "      <td>0.5569</td>\n",
              "      <td>0.5251</td>\n",
              "      <td>0.3406</td>\n",
              "      <td>0.1388</td>\n",
              "    </tr>\n",
              "    <tr>\n",
              "      <th>1</th>\n",
              "      <td>1</td>\n",
              "      <td>0.5454</td>\n",
              "      <td>0.5116</td>\n",
              "      <td>0.3445</td>\n",
              "      <td>0.1488</td>\n",
              "    </tr>\n",
              "    <tr>\n",
              "      <th>2</th>\n",
              "      <td>2</td>\n",
              "      <td>0.5338</td>\n",
              "      <td>0.4981</td>\n",
              "      <td>0.3484</td>\n",
              "      <td>0.1588</td>\n",
              "    </tr>\n",
              "    <tr>\n",
              "      <th>3</th>\n",
              "      <td>3</td>\n",
              "      <td>0.5223</td>\n",
              "      <td>0.4847</td>\n",
              "      <td>0.3523</td>\n",
              "      <td>0.1688</td>\n",
              "    </tr>\n",
              "    <tr>\n",
              "      <th>4</th>\n",
              "      <td>4</td>\n",
              "      <td>0.5108</td>\n",
              "      <td>0.4712</td>\n",
              "      <td>0.3562</td>\n",
              "      <td>0.1788</td>\n",
              "    </tr>\n",
              "  </tbody>\n",
              "</table>\n",
              "</div>\n",
              "    <div class=\"colab-df-buttons\">\n",
              "\n",
              "  <div class=\"colab-df-container\">\n",
              "    <button class=\"colab-df-convert\" onclick=\"convertToInteractive('df-004330d8-cc61-4dcb-ad55-4c29437746cd')\"\n",
              "            title=\"Convert this dataframe to an interactive table.\"\n",
              "            style=\"display:none;\">\n",
              "\n",
              "  <svg xmlns=\"http://www.w3.org/2000/svg\" height=\"24px\" viewBox=\"0 -960 960 960\">\n",
              "    <path d=\"M120-120v-720h720v720H120Zm60-500h600v-160H180v160Zm220 220h160v-160H400v160Zm0 220h160v-160H400v160ZM180-400h160v-160H180v160Zm440 0h160v-160H620v160ZM180-180h160v-160H180v160Zm440 0h160v-160H620v160Z\"/>\n",
              "  </svg>\n",
              "    </button>\n",
              "\n",
              "  <style>\n",
              "    .colab-df-container {\n",
              "      display:flex;\n",
              "      gap: 12px;\n",
              "    }\n",
              "\n",
              "    .colab-df-convert {\n",
              "      background-color: #E8F0FE;\n",
              "      border: none;\n",
              "      border-radius: 50%;\n",
              "      cursor: pointer;\n",
              "      display: none;\n",
              "      fill: #1967D2;\n",
              "      height: 32px;\n",
              "      padding: 0 0 0 0;\n",
              "      width: 32px;\n",
              "    }\n",
              "\n",
              "    .colab-df-convert:hover {\n",
              "      background-color: #E2EBFA;\n",
              "      box-shadow: 0px 1px 2px rgba(60, 64, 67, 0.3), 0px 1px 3px 1px rgba(60, 64, 67, 0.15);\n",
              "      fill: #174EA6;\n",
              "    }\n",
              "\n",
              "    .colab-df-buttons div {\n",
              "      margin-bottom: 4px;\n",
              "    }\n",
              "\n",
              "    [theme=dark] .colab-df-convert {\n",
              "      background-color: #3B4455;\n",
              "      fill: #D2E3FC;\n",
              "    }\n",
              "\n",
              "    [theme=dark] .colab-df-convert:hover {\n",
              "      background-color: #434B5C;\n",
              "      box-shadow: 0px 1px 3px 1px rgba(0, 0, 0, 0.15);\n",
              "      filter: drop-shadow(0px 1px 2px rgba(0, 0, 0, 0.3));\n",
              "      fill: #FFFFFF;\n",
              "    }\n",
              "  </style>\n",
              "\n",
              "    <script>\n",
              "      const buttonEl =\n",
              "        document.querySelector('#df-004330d8-cc61-4dcb-ad55-4c29437746cd button.colab-df-convert');\n",
              "      buttonEl.style.display =\n",
              "        google.colab.kernel.accessAllowed ? 'block' : 'none';\n",
              "\n",
              "      async function convertToInteractive(key) {\n",
              "        const element = document.querySelector('#df-004330d8-cc61-4dcb-ad55-4c29437746cd');\n",
              "        const dataTable =\n",
              "          await google.colab.kernel.invokeFunction('convertToInteractive',\n",
              "                                                    [key], {});\n",
              "        if (!dataTable) return;\n",
              "\n",
              "        const docLinkHtml = 'Like what you see? Visit the ' +\n",
              "          '<a target=\"_blank\" href=https://colab.research.google.com/notebooks/data_table.ipynb>data table notebook</a>'\n",
              "          + ' to learn more about interactive tables.';\n",
              "        element.innerHTML = '';\n",
              "        dataTable['output_type'] = 'display_data';\n",
              "        await google.colab.output.renderOutput(dataTable, element);\n",
              "        const docLink = document.createElement('div');\n",
              "        docLink.innerHTML = docLinkHtml;\n",
              "        element.appendChild(docLink);\n",
              "      }\n",
              "    </script>\n",
              "  </div>\n",
              "\n",
              "\n",
              "<div id=\"df-9efca21a-480f-46d8-ac38-53d7354508a4\">\n",
              "  <button class=\"colab-df-quickchart\" onclick=\"quickchart('df-9efca21a-480f-46d8-ac38-53d7354508a4')\"\n",
              "            title=\"Suggest charts\"\n",
              "            style=\"display:none;\">\n",
              "\n",
              "<svg xmlns=\"http://www.w3.org/2000/svg\" height=\"24px\"viewBox=\"0 0 24 24\"\n",
              "     width=\"24px\">\n",
              "    <g>\n",
              "        <path d=\"M19 3H5c-1.1 0-2 .9-2 2v14c0 1.1.9 2 2 2h14c1.1 0 2-.9 2-2V5c0-1.1-.9-2-2-2zM9 17H7v-7h2v7zm4 0h-2V7h2v10zm4 0h-2v-4h2v4z\"/>\n",
              "    </g>\n",
              "</svg>\n",
              "  </button>\n",
              "\n",
              "<style>\n",
              "  .colab-df-quickchart {\n",
              "      --bg-color: #E8F0FE;\n",
              "      --fill-color: #1967D2;\n",
              "      --hover-bg-color: #E2EBFA;\n",
              "      --hover-fill-color: #174EA6;\n",
              "      --disabled-fill-color: #AAA;\n",
              "      --disabled-bg-color: #DDD;\n",
              "  }\n",
              "\n",
              "  [theme=dark] .colab-df-quickchart {\n",
              "      --bg-color: #3B4455;\n",
              "      --fill-color: #D2E3FC;\n",
              "      --hover-bg-color: #434B5C;\n",
              "      --hover-fill-color: #FFFFFF;\n",
              "      --disabled-bg-color: #3B4455;\n",
              "      --disabled-fill-color: #666;\n",
              "  }\n",
              "\n",
              "  .colab-df-quickchart {\n",
              "    background-color: var(--bg-color);\n",
              "    border: none;\n",
              "    border-radius: 50%;\n",
              "    cursor: pointer;\n",
              "    display: none;\n",
              "    fill: var(--fill-color);\n",
              "    height: 32px;\n",
              "    padding: 0;\n",
              "    width: 32px;\n",
              "  }\n",
              "\n",
              "  .colab-df-quickchart:hover {\n",
              "    background-color: var(--hover-bg-color);\n",
              "    box-shadow: 0 1px 2px rgba(60, 64, 67, 0.3), 0 1px 3px 1px rgba(60, 64, 67, 0.15);\n",
              "    fill: var(--button-hover-fill-color);\n",
              "  }\n",
              "\n",
              "  .colab-df-quickchart-complete:disabled,\n",
              "  .colab-df-quickchart-complete:disabled:hover {\n",
              "    background-color: var(--disabled-bg-color);\n",
              "    fill: var(--disabled-fill-color);\n",
              "    box-shadow: none;\n",
              "  }\n",
              "\n",
              "  .colab-df-spinner {\n",
              "    border: 2px solid var(--fill-color);\n",
              "    border-color: transparent;\n",
              "    border-bottom-color: var(--fill-color);\n",
              "    animation:\n",
              "      spin 1s steps(1) infinite;\n",
              "  }\n",
              "\n",
              "  @keyframes spin {\n",
              "    0% {\n",
              "      border-color: transparent;\n",
              "      border-bottom-color: var(--fill-color);\n",
              "      border-left-color: var(--fill-color);\n",
              "    }\n",
              "    20% {\n",
              "      border-color: transparent;\n",
              "      border-left-color: var(--fill-color);\n",
              "      border-top-color: var(--fill-color);\n",
              "    }\n",
              "    30% {\n",
              "      border-color: transparent;\n",
              "      border-left-color: var(--fill-color);\n",
              "      border-top-color: var(--fill-color);\n",
              "      border-right-color: var(--fill-color);\n",
              "    }\n",
              "    40% {\n",
              "      border-color: transparent;\n",
              "      border-right-color: var(--fill-color);\n",
              "      border-top-color: var(--fill-color);\n",
              "    }\n",
              "    60% {\n",
              "      border-color: transparent;\n",
              "      border-right-color: var(--fill-color);\n",
              "    }\n",
              "    80% {\n",
              "      border-color: transparent;\n",
              "      border-right-color: var(--fill-color);\n",
              "      border-bottom-color: var(--fill-color);\n",
              "    }\n",
              "    90% {\n",
              "      border-color: transparent;\n",
              "      border-bottom-color: var(--fill-color);\n",
              "    }\n",
              "  }\n",
              "</style>\n",
              "\n",
              "  <script>\n",
              "    async function quickchart(key) {\n",
              "      const quickchartButtonEl =\n",
              "        document.querySelector('#' + key + ' button');\n",
              "      quickchartButtonEl.disabled = true;  // To prevent multiple clicks.\n",
              "      quickchartButtonEl.classList.add('colab-df-spinner');\n",
              "      try {\n",
              "        const charts = await google.colab.kernel.invokeFunction(\n",
              "            'suggestCharts', [key], {});\n",
              "      } catch (error) {\n",
              "        console.error('Error during call to suggestCharts:', error);\n",
              "      }\n",
              "      quickchartButtonEl.classList.remove('colab-df-spinner');\n",
              "      quickchartButtonEl.classList.add('colab-df-quickchart-complete');\n",
              "    }\n",
              "    (() => {\n",
              "      let quickchartButtonEl =\n",
              "        document.querySelector('#df-9efca21a-480f-46d8-ac38-53d7354508a4 button');\n",
              "      quickchartButtonEl.style.display =\n",
              "        google.colab.kernel.accessAllowed ? 'block' : 'none';\n",
              "    })();\n",
              "  </script>\n",
              "</div>\n",
              "\n",
              "    </div>\n",
              "  </div>\n"
            ],
            "application/vnd.google.colaboratory.intrinsic+json": {
              "type": "dataframe",
              "variable_name": "df",
              "summary": "{\n  \"name\": \"df\",\n  \"rows\": 100,\n  \"fields\": [\n    {\n      \"column\": \"epoch\",\n      \"properties\": {\n        \"dtype\": \"number\",\n        \"std\": 29,\n        \"min\": 0,\n        \"max\": 99,\n        \"num_unique_values\": 100,\n        \"samples\": [\n          83,\n          53,\n          70\n        ],\n        \"semantic_type\": \"\",\n        \"description\": \"\"\n      }\n    },\n    {\n      \"column\": \"train_loss\",\n      \"properties\": {\n        \"dtype\": \"number\",\n        \"std\": 0.16737468876865474,\n        \"min\": 0.0263,\n        \"max\": 0.5569,\n        \"num_unique_values\": 100,\n        \"samples\": [\n          0.0318,\n          0.043,\n          0.0363\n        ],\n        \"semantic_type\": \"\",\n        \"description\": \"\"\n      }\n    },\n    {\n      \"column\": \"test_loss\",\n      \"properties\": {\n        \"dtype\": \"number\",\n        \"std\": 0.13584036529855345,\n        \"min\": 0.0096,\n        \"max\": 0.5251,\n        \"num_unique_values\": 98,\n        \"samples\": [\n          0.0876,\n          0.0146,\n          0.0636\n        ],\n        \"semantic_type\": \"\",\n        \"description\": \"\"\n      }\n    },\n    {\n      \"column\": \"weight\",\n      \"properties\": {\n        \"dtype\": \"number\",\n        \"std\": 0.04549163425146086,\n        \"min\": 0.3406,\n        \"max\": 0.5084,\n        \"num_unique_values\": 98,\n        \"samples\": [\n          0.4886,\n          0.4966,\n          0.4346\n        ],\n        \"semantic_type\": \"\",\n        \"description\": \"\"\n      }\n    },\n    {\n      \"column\": \"bias\",\n      \"properties\": {\n        \"dtype\": \"number\",\n        \"std\": 0.15886048918863535,\n        \"min\": 0.1388,\n        \"max\": 0.6458,\n        \"num_unique_values\": 100,\n        \"samples\": [\n          0.6343,\n          0.6043,\n          0.6248\n        ],\n        \"semantic_type\": \"\",\n        \"description\": \"\"\n      }\n    }\n  ]\n}"
            }
          },
          "metadata": {},
          "execution_count": 19
        }
      ]
    },
    {
      "cell_type": "markdown",
      "source": [
        "### **5.4 Data visualization**"
      ],
      "metadata": {
        "id": "VsuFVTk76tYm"
      }
    },
    {
      "cell_type": "code",
      "source": [
        "plt.plot(df['epoch'], df['train_loss'], c='r', label=\"Training loss\")\n",
        "plt.plot(df['epoch'], df['test_loss'], c='b', label=\"Test loss\")\n",
        "plt.legend()\n",
        "# plt.yscale(\"log\")\n",
        "plt.show()"
      ],
      "metadata": {
        "colab": {
          "base_uri": "https://localhost:8080/",
          "height": 449
        },
        "id": "NFpaXMvehp-N",
        "outputId": "94580167-3ca9-4a32-8bb3-a6f874a436a2"
      },
      "execution_count": 20,
      "outputs": [
        {
          "output_type": "display_data",
          "data": {
            "text/plain": [
              "<Figure size 640x480 with 1 Axes>"
            ],
            "image/png": "[encoded data removed]"
          },
          "metadata": {}
        }
      ]
    },
    {
      "cell_type": "markdown",
      "source": [
        "## **6. Saving and loading the model**"
      ],
      "metadata": {
        "id": "9tWdHopVP2P_"
      }
    },
    {
      "cell_type": "code",
      "source": [
        "# Save the model\n",
        "\n",
        "path = '/content/drive/MyDrive/Colab Notebooks YouTube tutorials/8.1 PyTorch/01_Daniel Bourke/models'\n",
        "name = '01_workflow.pth'\n",
        "\n",
        "model_path = os.path.join(path,name)\n",
        "t.save(model_0.state_dict(), model_path)\n",
        "\n",
        "print(\"Model saved succesfully...!\")"
      ],
      "metadata": {
        "colab": {
          "base_uri": "https://localhost:8080/"
        },
        "id": "z0tr0KOg9BNs",
        "outputId": "25c86edb-c6a0-4180-f37a-674ab96dabac"
      },
      "execution_count": 22,
      "outputs": [
        {
          "output_type": "stream",
          "name": "stdout",
          "text": [
            "Model saved succesfully...!\n"
          ]
        }
      ]
    },
    {
      "cell_type": "code",
      "source": [
        "# Load model\n",
        "\n",
        "loaded_model_0 = linear_regression()\n",
        "print(f\"Before loading the model = {loaded_model_0.state_dict()}\")\n",
        "\n",
        "loaded_model_0.load_state_dict(t.load(model_path))\n",
        "print(f\"After loading the model = {loaded_model_0.state_dict()}\")"
      ],
      "metadata": {
        "colab": {
          "base_uri": "https://localhost:8080/"
        },
        "id": "mRUSQNMRT7Jx",
        "outputId": "f3e536d8-3ba2-4d55-ead1-ed8f39dfa3e1"
      },
      "execution_count": 23,
      "outputs": [
        {
          "output_type": "stream",
          "name": "stdout",
          "text": [
            "Before loading the model = OrderedDict([('weights', tensor([0.2345])), ('bias', tensor([0.2303]))])\n",
            "After loading the model = OrderedDict([('weights', tensor([0.4294])), ('bias', tensor([0.6458]))])\n"
          ]
        }
      ]
    },
    {
      "cell_type": "code",
      "source": [
        "# Checking the saved and loaded model is performing the same\n",
        "\n",
        "sample_1 = model_0(x_test)\n",
        "sample_2 = loaded_model_0(x_test)\n",
        "\n",
        "sample_1 == sample_2"
      ],
      "metadata": {
        "colab": {
          "base_uri": "https://localhost:8080/"
        },
        "id": "T8-Xh8V3Wv5n",
        "outputId": "584a87b9-9796-4ec6-cb28-e3f7fddf92dd"
      },
      "execution_count": 24,
      "outputs": [
        {
          "output_type": "execute_result",
          "data": {
            "text/plain": [
              "tensor([[True],\n",
              "        [True],\n",
              "        [True],\n",
              "        [True],\n",
              "        [True],\n",
              "        [True],\n",
              "        [True],\n",
              "        [True],\n",
              "        [True],\n",
              "        [True]])"
            ]
          },
          "metadata": {},
          "execution_count": 24
        }
      ]
    },
    {
      "cell_type": "markdown",
      "source": [
        "## **7. Creating Model-2**"
      ],
      "metadata": {
        "id": "7wYFtQRZc6cI"
      }
    },
    {
      "cell_type": "code",
      "source": [
        "# Importing libaries\n",
        "\n",
        "import torch as t\n",
        "from torch import nn\n",
        "import matplotlib.pyplot as plt\n",
        "import os\n",
        "import numpy as np\n",
        "import pandas as pd"
      ],
      "metadata": {
        "id": "rP0PGCsJXv3f"
      },
      "execution_count": 21,
      "outputs": []
    },
    {
      "cell_type": "code",
      "source": [
        "# Setting up the device\n",
        "\n",
        "device = 'cuda' if t.cuda.is_available() else 'cpu'\n",
        "print(f\"{device = }\")"
      ],
      "metadata": {
        "colab": {
          "base_uri": "https://localhost:8080/"
        },
        "id": "dUZJggJHeFTd",
        "outputId": "ef1d5219-d888-4f57-bf5f-ab3c919eeb3a"
      },
      "execution_count": 22,
      "outputs": [
        {
          "output_type": "stream",
          "name": "stdout",
          "text": [
            "device = 'cuda'\n"
          ]
        }
      ]
    },
    {
      "cell_type": "code",
      "source": [
        "# Generating the data\n",
        "\n",
        "weight = 0.42\n",
        "bias = 0.68\n",
        "\n",
        "X = t.arange(0,1,0.02, device=device).unsqueeze(1)\n",
        "y = weight * X + bias\n",
        "\n",
        "train = int(0.8 * len(X))\n",
        "\n",
        "x_tain = X[:train]\n",
        "y_train = y[:train]\n",
        "\n",
        "x_test = X[train:]\n",
        "y_test = y[train:]\n",
        "print(f\"{len(x_train) = }, {len(y_train) = }, {len(x_test) = }, {len(y_test) = }\")"
      ],
      "metadata": {
        "colab": {
          "base_uri": "https://localhost:8080/"
        },
        "id": "Xo5t5whbdPSM",
        "outputId": "1096206b-c514-43d9-f074-e1170062f289"
      },
      "execution_count": 23,
      "outputs": [
        {
          "output_type": "stream",
          "name": "stdout",
          "text": [
            "len(x_train) = 40, len(y_train) = 40, len(x_test) = 10, len(y_test) = 10\n"
          ]
        }
      ]
    },
    {
      "cell_type": "code",
      "source": [
        "x_train.device"
      ],
      "metadata": {
        "colab": {
          "base_uri": "https://localhost:8080/"
        },
        "id": "7WKPwCOrogzW",
        "outputId": "09280e6d-15ad-4c4d-818a-f8a358894521"
      },
      "execution_count": 24,
      "outputs": [
        {
          "output_type": "execute_result",
          "data": {
            "text/plain": [
              "device(type='cpu')"
            ]
          },
          "metadata": {},
          "execution_count": 24
        }
      ]
    },
    {
      "cell_type": "code",
      "source": [
        "# Build the model\n",
        "\n",
        "class LinearRegressionv2(nn.Module):\n",
        "    def __init__(self):\n",
        "        super().__init__()\n",
        "        self.linear_layer = nn.Linear(in_features=1, out_features=1, device=device)\n",
        "\n",
        "    def forward(self, x:t.Tensor) -> t.Tensor:\n",
        "        return self.linear_layer(x)\n",
        "\n",
        "t.manual_seed(42)\n",
        "model_1 = LinearRegressionv2()\n",
        "print(f\"{model_1 = }, {model_1.state_dict()}\")"
      ],
      "metadata": {
        "colab": {
          "base_uri": "https://localhost:8080/"
        },
        "id": "5OMsJ6Bfdff9",
        "outputId": "dcf64ee2-9df7-4454-ff11-7aba9313f04c"
      },
      "execution_count": 25,
      "outputs": [
        {
          "output_type": "stream",
          "name": "stdout",
          "text": [
            "model_1 = LinearRegressionv2(\n",
            "  (linear_layer): Linear(in_features=1, out_features=1, bias=True)\n",
            "), OrderedDict([('linear_layer.weight', tensor([[0.2259]], device='cuda:0')), ('linear_layer.bias', tensor([0.9754], device='cuda:0'))])\n"
          ]
        }
      ]
    },
    {
      "cell_type": "code",
      "source": [
        "# Check the models device\n",
        "\n",
        "next(model_1.parameters()).device"
      ],
      "metadata": {
        "colab": {
          "base_uri": "https://localhost:8080/"
        },
        "id": "21uuA7KxfoBL",
        "outputId": "3166cb44-28d4-4a73-9bd5-1bbadd8bc704"
      },
      "execution_count": 26,
      "outputs": [
        {
          "output_type": "execute_result",
          "data": {
            "text/plain": [
              "device(type='cuda', index=0)"
            ]
          },
          "metadata": {},
          "execution_count": 26
        }
      ]
    },
    {
      "cell_type": "code",
      "source": [
        "model_1.to('cpu')\n",
        "next(model_1.parameters()).device"
      ],
      "metadata": {
        "colab": {
          "base_uri": "https://localhost:8080/"
        },
        "id": "GvKVdhn8ivbw",
        "outputId": "b94ae4a8-72e6-474f-dbb0-8bd32a6f61be"
      },
      "execution_count": 30,
      "outputs": [
        {
          "output_type": "execute_result",
          "data": {
            "text/plain": [
              "device(type='cpu')"
            ]
          },
          "metadata": {},
          "execution_count": 30
        }
      ]
    },
    {
      "cell_type": "code",
      "source": [
        "model_1.to('cuda')\n",
        "next(model_1.parameters()).device"
      ],
      "metadata": {
        "colab": {
          "base_uri": "https://localhost:8080/"
        },
        "id": "v5jFQe92j24r",
        "outputId": "899e658e-e56f-42d7-ed74-077c018981e3"
      },
      "execution_count": 42,
      "outputs": [
        {
          "output_type": "execute_result",
          "data": {
            "text/plain": [
              "device(type='cuda', index=0)"
            ]
          },
          "metadata": {},
          "execution_count": 42
        }
      ]
    },
    {
      "cell_type": "code",
      "source": [
        "# Set loss and optimizers\n",
        "\n",
        "los_fun = nn.L1Loss()\n",
        "optim = t.optim.SGD(params = model_1.parameters(), lr=0.01)"
      ],
      "metadata": {
        "id": "2j_ceMavj6QB"
      },
      "execution_count": 27,
      "outputs": []
    },
    {
      "cell_type": "code",
      "source": [
        "# Setting the training loop\n",
        "\n",
        "x_train = x_train.to(device)\n",
        "x_test = x_test.to(device)\n",
        "y_train = y_train.to(device)\n",
        "y_test = y_test.to(device)\n",
        "\n",
        "def train_loop1(epochs=10):\n",
        "    for epoch in range(epochs):\n",
        "        model_1.train()\n",
        "        pred = model_1(x_train)\n",
        "        ls = los_fun(y_train, pred)\n",
        "        optim.zero_grad()\n",
        "        ls.backward()\n",
        "        optim.step()\n",
        "\n",
        "        model_1.eval()\n",
        "        with t.inference_mode():\n",
        "            y_pred = model_1(x_test)\n",
        "            test_ls = los_fun(y_pred, y_test)\n",
        "\n",
        "        if epoch % 10 == 0:\n",
        "            print(f\"Epochs = {epoch}, Train loss = {ls}, Test loss = {test_ls}\")"
      ],
      "metadata": {
        "id": "eYVBhkU6k41J"
      },
      "execution_count": 28,
      "outputs": []
    },
    {
      "cell_type": "code",
      "source": [
        "train_loop1(100)"
      ],
      "metadata": {
        "colab": {
          "base_uri": "https://localhost:8080/"
        },
        "id": "4H7hBKc3lHP2",
        "outputId": "a96164fa-9dc6-4698-eddc-9393d1024b7c"
      },
      "execution_count": 29,
      "outputs": [
        {
          "output_type": "stream",
          "name": "stdout",
          "text": [
            "Epochs = 0, Train loss = 0.21974597871303558, Test loss = 0.10923486202955246\n",
            "Epochs = 10, Train loss = 0.10453605651855469, Test loss = 0.02547510899603367\n",
            "Epochs = 20, Train loss = 0.05532199144363403, Test loss = 0.09336455166339874\n",
            "Epochs = 30, Train loss = 0.04868365451693535, Test loss = 0.1054038405418396\n",
            "Epochs = 40, Train loss = 0.04500557482242584, Test loss = 0.10264437645673752\n",
            "Epochs = 50, Train loss = 0.04152730852365494, Test loss = 0.09643267095088959\n",
            "Epochs = 60, Train loss = 0.038090940564870834, Test loss = 0.08816034346818924\n",
            "Epochs = 70, Train loss = 0.03465380519628525, Test loss = 0.08057490736246109\n",
            "Epochs = 80, Train loss = 0.031225353479385376, Test loss = 0.07230256497859955\n",
            "Epochs = 90, Train loss = 0.027787311002612114, Test loss = 0.06403019279241562\n"
          ]
        }
      ]
    },
    {
      "cell_type": "code",
      "source": [
        "# Visualize the data\n",
        "model_1.eval()\n",
        "\n",
        "# Make predictions on the test data\n",
        "with t.inference_mode():\n",
        "    y_preds = model_1(x_test)\n",
        "prediction=y_pred.to('cpu').detach()\n",
        "view_data(prediction=prediction)"
      ],
      "metadata": {
        "colab": {
          "base_uri": "https://localhost:8080/",
          "height": 403
        },
        "id": "pZc9jt43rsB4",
        "outputId": "da410d0d-56ef-471f-c09f-a4f2f5153e89"
      },
      "execution_count": 33,
      "outputs": [
        {
          "output_type": "display_data",
          "data": {
            "text/plain": [
              "<Figure size 1200x400 with 2 Axes>"
            ],
            "image/png": "[encoded data removed]"
          },
          "metadata": {}
        }
      ]
    }
  ]
}