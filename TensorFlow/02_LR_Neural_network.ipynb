{
  "nbformat": 4,
  "nbformat_minor": 0,
  "metadata": {
    "colab": {
      "provenance": [],
      "mount_file_id": "1uw1HJi0dd2q3MiyeiKFvrObZYFvGgSmW",
      "authorship_tag": "ABX9TyN27QaC+gv3QmbrG0SVeZWy",
      "include_colab_link": true
    },
    "kernelspec": {
      "name": "python3",
      "display_name": "Python 3"
    },
    "language_info": {
      "name": "python"
    }
  },
  "cells": [
    {
      "cell_type": "markdown",
      "metadata": {
        "id": "view-in-github",
        "colab_type": "text"
      },
      "source": [
        "<a href=\"https://colab.research.google.com/github/Dhamu785/AI-scratch/blob/main/TensorFlow/02_LR_Neural_network.ipynb\" target=\"_parent\"><img src=\"https://colab.research.google.com/assets/colab-badge.svg\" alt=\"Open In Colab\"/></a>"
      ]
    },
    {
      "cell_type": "markdown",
      "source": [
        "## **Importing necessary libaries**"
      ],
      "metadata": {
        "id": "rI3sgj4uF54I"
      }
    },
    {
      "cell_type": "code",
      "execution_count": null,
      "metadata": {
        "id": "xyyAs95O3Vfv"
      },
      "outputs": [],
      "source": [
        "import tensorflow as tf\n",
        "import numpy as np"
      ]
    },
    {
      "cell_type": "code",
      "source": [
        "print(tf.config.list_physical_devices())\n",
        "print(f\"TensorFlow version : {tf.__version__}\")"
      ],
      "metadata": {
        "colab": {
          "base_uri": "https://localhost:8080/"
        },
        "id": "u9spD2loHypZ",
        "outputId": "21fb0629-1e06-47fa-ba0e-36182875658b"
      },
      "execution_count": null,
      "outputs": [
        {
          "output_type": "stream",
          "name": "stdout",
          "text": [
            "[PhysicalDevice(name='/physical_device:CPU:0', device_type='CPU')]\n",
            "TensorFlow version : 2.14.0\n"
          ]
        }
      ]
    },
    {
      "cell_type": "markdown",
      "source": [
        "## **Create data**"
      ],
      "metadata": {
        "id": "CN8yJj-7lMYl"
      }
    },
    {
      "cell_type": "code",
      "source": [
        "X = tf.cast(tf.constant([-7, -4, 2, 5, 9, 10, 14, 15, 17]), tf.float32)\n",
        "y = np.array([-7, -4, 2, 5, 9, 10, 14, 15, 17]) + 10\n",
        "Y = tf.cast(tf.constant(y), tf.float32)\n",
        "\n",
        "X, Y"
      ],
      "metadata": {
        "id": "polnoK-qH4NI",
        "colab": {
          "base_uri": "https://localhost:8080/"
        },
        "outputId": "5a46773e-65b6-41a3-a6b4-897a9c9a09de"
      },
      "execution_count": null,
      "outputs": [
        {
          "output_type": "execute_result",
          "data": {
            "text/plain": [
              "(<tf.Tensor: shape=(9,), dtype=float32, numpy=array([-7., -4.,  2.,  5.,  9., 10., 14., 15., 17.], dtype=float32)>,\n",
              " <tf.Tensor: shape=(9,), dtype=float32, numpy=array([ 3.,  6., 12., 15., 19., 20., 24., 25., 27.], dtype=float32)>)"
            ]
          },
          "metadata": {},
          "execution_count": 3
        }
      ]
    },
    {
      "cell_type": "markdown",
      "source": [
        "## **Create model**"
      ],
      "metadata": {
        "id": "gds7efYxluIl"
      }
    },
    {
      "cell_type": "code",
      "source": [
        "# Creating architecture\n",
        "model = tf.keras.Sequential([\n",
        "    tf.keras.layers.Dense(1, input_shape=(1,))\n",
        "])\n",
        "\n",
        "# Compiling the model\n",
        "model.compile(optimizer=tf.keras.optimizers.SGD(),loss=tf.keras.losses.mae, metrics=['mse'])\n",
        "\n",
        "# Model fitting\n",
        "a=model.fit(X[...,tf.newaxis],Y,epochs=5)"
      ],
      "metadata": {
        "colab": {
          "base_uri": "https://localhost:8080/"
        },
        "id": "zugnNgwClb-J",
        "outputId": "482760f4-e052-4973-bdfa-91922483ae83"
      },
      "execution_count": null,
      "outputs": [
        {
          "output_type": "stream",
          "name": "stdout",
          "text": [
            "Epoch 1/5\n",
            "1/1 [==============================] - 2s 2s/step - loss: 29.5655 - mse: 1194.7473\n",
            "Epoch 2/5\n",
            "1/1 [==============================] - 0s 15ms/step - loss: 28.7119 - mse: 1130.3217\n",
            "Epoch 3/5\n",
            "1/1 [==============================] - 0s 16ms/step - loss: 27.9278 - mse: 1067.7716\n",
            "Epoch 4/5\n",
            "1/1 [==============================] - 0s 11ms/step - loss: 27.2273 - mse: 1012.7210\n",
            "Epoch 5/5\n",
            "1/1 [==============================] - 0s 16ms/step - loss: 26.5268 - mse: 959.2083\n"
          ]
        }
      ]
    },
    {
      "cell_type": "code",
      "source": [
        "tf.expand_dims(X, axis=-1), X[...,tf.newaxis]"
      ],
      "metadata": {
        "colab": {
          "base_uri": "https://localhost:8080/"
        },
        "id": "UpUayKGwp2tv",
        "outputId": "e5372239-3436-40a0-d553-f69ec936bf29"
      },
      "execution_count": null,
      "outputs": [
        {
          "output_type": "execute_result",
          "data": {
            "text/plain": [
              "(<tf.Tensor: shape=(9, 1), dtype=float32, numpy=\n",
              " array([[-7.],\n",
              "        [-4.],\n",
              "        [ 2.],\n",
              "        [ 5.],\n",
              "        [ 9.],\n",
              "        [10.],\n",
              "        [14.],\n",
              "        [15.],\n",
              "        [17.]], dtype=float32)>,\n",
              " <tf.Tensor: shape=(9, 1), dtype=float32, numpy=\n",
              " array([[-7.],\n",
              "        [-4.],\n",
              "        [ 2.],\n",
              "        [ 5.],\n",
              "        [ 9.],\n",
              "        [10.],\n",
              "        [14.],\n",
              "        [15.],\n",
              "        [17.]], dtype=float32)>)"
            ]
          },
          "metadata": {},
          "execution_count": 5
        }
      ]
    },
    {
      "cell_type": "code",
      "source": [
        "model.predict([-10])"
      ],
      "metadata": {
        "colab": {
          "base_uri": "https://localhost:8080/"
        },
        "id": "C01jMh0To7DZ",
        "outputId": "46d31e8c-d123-4e8d-cfad-26654f421466"
      },
      "execution_count": null,
      "outputs": [
        {
          "output_type": "stream",
          "name": "stdout",
          "text": [
            "1/1 [==============================] - 0s 196ms/step\n"
          ]
        },
        {
          "output_type": "execute_result",
          "data": {
            "text/plain": [
              "array([[11.724869]], dtype=float32)"
            ]
          },
          "metadata": {},
          "execution_count": 6
        }
      ]
    },
    {
      "cell_type": "code",
      "source": [
        "model.summary()"
      ],
      "metadata": {
        "colab": {
          "base_uri": "https://localhost:8080/"
        },
        "id": "SXjsbGL1pYXS",
        "outputId": "855352a0-a4be-40c8-babf-e41609ca92aa"
      },
      "execution_count": null,
      "outputs": [
        {
          "output_type": "stream",
          "name": "stdout",
          "text": [
            "Model: \"sequential\"\n",
            "_________________________________________________________________\n",
            " Layer (type)                Output Shape              Param #   \n",
            "=================================================================\n",
            " dense (Dense)               (None, 1)                 2         \n",
            "                                                                 \n",
            "=================================================================\n",
            "Total params: 2 (8.00 Byte)\n",
            "Trainable params: 2 (8.00 Byte)\n",
            "Non-trainable params: 0 (0.00 Byte)\n",
            "_________________________________________________________________\n"
          ]
        }
      ]
    },
    {
      "cell_type": "markdown",
      "source": [
        "## **Improving the model-1**\n",
        "- Increase epochs"
      ],
      "metadata": {
        "id": "qUZYhD6CNZC5"
      }
    },
    {
      "cell_type": "code",
      "source": [
        "model = tf.keras.Sequential([\n",
        "    tf.keras.layers.Dense(1)\n",
        "])\n",
        "\n",
        "model.compile(optimizer = tf.keras.optimizers.SGD(),\n",
        "              loss = \"mae\",\n",
        "              metrics=['mae'])\n",
        "\n",
        "model.fit(X[...,tf.newaxis],Y,epochs=50)"
      ],
      "metadata": {
        "colab": {
          "base_uri": "https://localhost:8080/"
        },
        "id": "Dil12YIxKo3P",
        "outputId": "50d77bfe-759e-4478-8ebe-f9149a494123"
      },
      "execution_count": null,
      "outputs": [
        {
          "output_type": "stream",
          "name": "stdout",
          "text": [
            "Epoch 1/50\n",
            "1/1 [==============================] - 2s 2s/step - loss: 30.6300 - mae: 30.6300\n",
            "Epoch 2/50\n",
            "1/1 [==============================] - 0s 15ms/step - loss: 29.7764 - mae: 29.7764\n",
            "Epoch 3/50\n",
            "1/1 [==============================] - 0s 15ms/step - loss: 28.9228 - mae: 28.9228\n",
            "Epoch 4/50\n",
            "1/1 [==============================] - 0s 17ms/step - loss: 28.1169 - mae: 28.1169\n",
            "Epoch 5/50\n",
            "1/1 [==============================] - 0s 16ms/step - loss: 27.4164 - mae: 27.4164\n",
            "Epoch 6/50\n",
            "1/1 [==============================] - 0s 15ms/step - loss: 26.7159 - mae: 26.7159\n",
            "Epoch 7/50\n",
            "1/1 [==============================] - 0s 16ms/step - loss: 26.0154 - mae: 26.0154\n",
            "Epoch 8/50\n",
            "1/1 [==============================] - 0s 15ms/step - loss: 25.3149 - mae: 25.3149\n",
            "Epoch 9/50\n",
            "1/1 [==============================] - 0s 15ms/step - loss: 24.6144 - mae: 24.6144\n",
            "Epoch 10/50\n",
            "1/1 [==============================] - 0s 15ms/step - loss: 23.9139 - mae: 23.9139\n",
            "Epoch 11/50\n",
            "1/1 [==============================] - 0s 14ms/step - loss: 23.2134 - mae: 23.2134\n",
            "Epoch 12/50\n",
            "1/1 [==============================] - 0s 13ms/step - loss: 22.5129 - mae: 22.5129\n",
            "Epoch 13/50\n",
            "1/1 [==============================] - 0s 17ms/step - loss: 21.8124 - mae: 21.8124\n",
            "Epoch 14/50\n",
            "1/1 [==============================] - 0s 25ms/step - loss: 21.1119 - mae: 21.1119\n",
            "Epoch 15/50\n",
            "1/1 [==============================] - 0s 17ms/step - loss: 20.4114 - mae: 20.4114\n",
            "Epoch 16/50\n",
            "1/1 [==============================] - 0s 13ms/step - loss: 19.7110 - mae: 19.7110\n",
            "Epoch 17/50\n",
            "1/1 [==============================] - 0s 13ms/step - loss: 19.0926 - mae: 19.0926\n",
            "Epoch 18/50\n",
            "1/1 [==============================] - 0s 13ms/step - loss: 18.6233 - mae: 18.6233\n",
            "Epoch 19/50\n",
            "1/1 [==============================] - 0s 15ms/step - loss: 18.1539 - mae: 18.1539\n",
            "Epoch 20/50\n",
            "1/1 [==============================] - 0s 14ms/step - loss: 17.6845 - mae: 17.6845\n",
            "Epoch 21/50\n",
            "1/1 [==============================] - 0s 14ms/step - loss: 17.2151 - mae: 17.2151\n",
            "Epoch 22/50\n",
            "1/1 [==============================] - 0s 22ms/step - loss: 16.7457 - mae: 16.7457\n",
            "Epoch 23/50\n",
            "1/1 [==============================] - 0s 25ms/step - loss: 16.2763 - mae: 16.2763\n",
            "Epoch 24/50\n",
            "1/1 [==============================] - 0s 24ms/step - loss: 15.8070 - mae: 15.8070\n",
            "Epoch 25/50\n",
            "1/1 [==============================] - 0s 17ms/step - loss: 15.3376 - mae: 15.3376\n",
            "Epoch 26/50\n",
            "1/1 [==============================] - 0s 30ms/step - loss: 14.8682 - mae: 14.8682\n",
            "Epoch 27/50\n",
            "1/1 [==============================] - 0s 18ms/step - loss: 14.3988 - mae: 14.3988\n",
            "Epoch 28/50\n",
            "1/1 [==============================] - 0s 12ms/step - loss: 13.9294 - mae: 13.9294\n",
            "Epoch 29/50\n",
            "1/1 [==============================] - 0s 23ms/step - loss: 13.4601 - mae: 13.4601\n",
            "Epoch 30/50\n",
            "1/1 [==============================] - 0s 24ms/step - loss: 12.9907 - mae: 12.9907\n",
            "Epoch 31/50\n",
            "1/1 [==============================] - 0s 17ms/step - loss: 12.5213 - mae: 12.5213\n",
            "Epoch 32/50\n",
            "1/1 [==============================] - 0s 28ms/step - loss: 12.0519 - mae: 12.0519\n",
            "Epoch 33/50\n",
            "1/1 [==============================] - 0s 25ms/step - loss: 11.5825 - mae: 11.5825\n",
            "Epoch 34/50\n",
            "1/1 [==============================] - 0s 20ms/step - loss: 11.1131 - mae: 11.1131\n",
            "Epoch 35/50\n",
            "1/1 [==============================] - 0s 12ms/step - loss: 10.6438 - mae: 10.6438\n",
            "Epoch 36/50\n",
            "1/1 [==============================] - 0s 14ms/step - loss: 10.1744 - mae: 10.1744\n",
            "Epoch 37/50\n",
            "1/1 [==============================] - 0s 14ms/step - loss: 9.7050 - mae: 9.7050\n",
            "Epoch 38/50\n",
            "1/1 [==============================] - 0s 23ms/step - loss: 9.2356 - mae: 9.2356\n",
            "Epoch 39/50\n",
            "1/1 [==============================] - 0s 21ms/step - loss: 8.7662 - mae: 8.7662\n",
            "Epoch 40/50\n",
            "1/1 [==============================] - 0s 19ms/step - loss: 8.2968 - mae: 8.2968\n",
            "Epoch 41/50\n",
            "1/1 [==============================] - 0s 22ms/step - loss: 7.8275 - mae: 7.8275\n",
            "Epoch 42/50\n",
            "1/1 [==============================] - 0s 30ms/step - loss: 7.3581 - mae: 7.3581\n",
            "Epoch 43/50\n",
            "1/1 [==============================] - 0s 26ms/step - loss: 6.8887 - mae: 6.8887\n",
            "Epoch 44/50\n",
            "1/1 [==============================] - 0s 25ms/step - loss: 6.4193 - mae: 6.4193\n",
            "Epoch 45/50\n",
            "1/1 [==============================] - 0s 18ms/step - loss: 5.9499 - mae: 5.9499\n",
            "Epoch 46/50\n",
            "1/1 [==============================] - 0s 15ms/step - loss: 5.6407 - mae: 5.6407\n",
            "Epoch 47/50\n",
            "1/1 [==============================] - 0s 15ms/step - loss: 5.5446 - mae: 5.5446\n",
            "Epoch 48/50\n",
            "1/1 [==============================] - 0s 17ms/step - loss: 5.5426 - mae: 5.5426\n",
            "Epoch 49/50\n",
            "1/1 [==============================] - 0s 22ms/step - loss: 5.5384 - mae: 5.5384\n",
            "Epoch 50/50\n",
            "1/1 [==============================] - 0s 30ms/step - loss: 5.5342 - mae: 5.5342\n"
          ]
        },
        {
          "output_type": "execute_result",
          "data": {
            "text/plain": [
              "<keras.src.callbacks.History at 0x7a04cc586080>"
            ]
          },
          "metadata": {},
          "execution_count": 8
        }
      ]
    },
    {
      "cell_type": "code",
      "source": [
        "model.predict([12.0])"
      ],
      "metadata": {
        "colab": {
          "base_uri": "https://localhost:8080/"
        },
        "id": "8lDWYD5mOP18",
        "outputId": "ed23dd9e-83c3-45d2-b5c5-1ba24b32aa80"
      },
      "execution_count": null,
      "outputs": [
        {
          "output_type": "stream",
          "name": "stdout",
          "text": [
            "1/1 [==============================] - 0s 137ms/step\n"
          ]
        },
        {
          "output_type": "execute_result",
          "data": {
            "text/plain": [
              "array([[20.319685]], dtype=float32)"
            ]
          },
          "metadata": {},
          "execution_count": 9
        }
      ]
    },
    {
      "cell_type": "code",
      "source": [
        "X,Y"
      ],
      "metadata": {
        "colab": {
          "base_uri": "https://localhost:8080/"
        },
        "id": "UXtCjL6ZP3TZ",
        "outputId": "e3b9dc89-19d2-4d92-cc15-378615b0f536"
      },
      "execution_count": null,
      "outputs": [
        {
          "output_type": "execute_result",
          "data": {
            "text/plain": [
              "(<tf.Tensor: shape=(9,), dtype=float32, numpy=array([-7., -4.,  2.,  5.,  9., 10., 14., 15., 17.], dtype=float32)>,\n",
              " <tf.Tensor: shape=(9,), dtype=float32, numpy=array([ 3.,  6., 12., 15., 19., 20., 24., 25., 27.], dtype=float32)>)"
            ]
          },
          "metadata": {},
          "execution_count": 10
        }
      ]
    },
    {
      "cell_type": "markdown",
      "source": [
        "## **Improving the model-2**\n",
        "- Add more hidden layers and neurons"
      ],
      "metadata": {
        "id": "gma3sMvvQFlV"
      }
    },
    {
      "cell_type": "code",
      "source": [
        "model = tf.keras.Sequential([\n",
        "    tf.keras.layers.Dense(100, activation='relu'),\n",
        "    tf.keras.layers.Dense(1)\n",
        "])\n",
        "\n",
        "model.compile(optimizer = tf.keras.optimizers.SGD(),\n",
        "              loss = \"mae\",\n",
        "              metrics=['mae'])\n",
        "\n",
        "model.fit(X[...,tf.newaxis],Y,epochs=50)"
      ],
      "metadata": {
        "colab": {
          "base_uri": "https://localhost:8080/"
        },
        "id": "y_54GWyKQAIh",
        "outputId": "25c47c77-b4c1-4c84-865c-2cb2d9dfe34e"
      },
      "execution_count": null,
      "outputs": [
        {
          "output_type": "stream",
          "name": "stdout",
          "text": [
            "Epoch 1/50\n",
            "1/1 [==============================] - 6s 6s/step - loss: 15.6689 - mae: 15.6689\n",
            "Epoch 2/50\n",
            "1/1 [==============================] - 0s 16ms/step - loss: 14.0507 - mae: 14.0507\n",
            "Epoch 3/50\n",
            "1/1 [==============================] - 0s 23ms/step - loss: 12.3878 - mae: 12.3878\n",
            "Epoch 4/50\n",
            "1/1 [==============================] - 0s 23ms/step - loss: 10.6591 - mae: 10.6591\n",
            "Epoch 5/50\n",
            "1/1 [==============================] - 0s 21ms/step - loss: 8.7993 - mae: 8.7993\n",
            "Epoch 6/50\n",
            "1/1 [==============================] - 0s 15ms/step - loss: 6.7649 - mae: 6.7649\n",
            "Epoch 7/50\n",
            "1/1 [==============================] - 0s 11ms/step - loss: 4.5327 - mae: 4.5327\n",
            "Epoch 8/50\n",
            "1/1 [==============================] - 0s 12ms/step - loss: 3.8909 - mae: 3.8909\n",
            "Epoch 9/50\n",
            "1/1 [==============================] - 0s 12ms/step - loss: 3.6528 - mae: 3.6528\n",
            "Epoch 10/50\n",
            "1/1 [==============================] - 0s 11ms/step - loss: 3.6817 - mae: 3.6817\n",
            "Epoch 11/50\n",
            "1/1 [==============================] - 0s 12ms/step - loss: 3.7726 - mae: 3.7726\n",
            "Epoch 12/50\n",
            "1/1 [==============================] - 0s 21ms/step - loss: 3.5371 - mae: 3.5371\n",
            "Epoch 13/50\n",
            "1/1 [==============================] - 0s 17ms/step - loss: 3.6309 - mae: 3.6309\n",
            "Epoch 14/50\n",
            "1/1 [==============================] - 0s 22ms/step - loss: 3.6558 - mae: 3.6558\n",
            "Epoch 15/50\n",
            "1/1 [==============================] - 0s 24ms/step - loss: 3.4220 - mae: 3.4220\n",
            "Epoch 16/50\n",
            "1/1 [==============================] - 0s 26ms/step - loss: 3.5861 - mae: 3.5861\n",
            "Epoch 17/50\n",
            "1/1 [==============================] - 0s 15ms/step - loss: 3.5392 - mae: 3.5392\n",
            "Epoch 18/50\n",
            "1/1 [==============================] - 0s 17ms/step - loss: 3.3270 - mae: 3.3270\n",
            "Epoch 19/50\n",
            "1/1 [==============================] - 0s 15ms/step - loss: 3.3574 - mae: 3.3574\n",
            "Epoch 20/50\n",
            "1/1 [==============================] - 0s 16ms/step - loss: 3.3555 - mae: 3.3555\n",
            "Epoch 21/50\n",
            "1/1 [==============================] - 0s 15ms/step - loss: 3.4752 - mae: 3.4752\n",
            "Epoch 22/50\n",
            "1/1 [==============================] - 0s 20ms/step - loss: 3.2395 - mae: 3.2395\n",
            "Epoch 23/50\n",
            "1/1 [==============================] - 0s 14ms/step - loss: 3.3063 - mae: 3.3063\n",
            "Epoch 24/50\n",
            "1/1 [==============================] - 0s 18ms/step - loss: 3.3550 - mae: 3.3550\n",
            "Epoch 25/50\n",
            "1/1 [==============================] - 0s 18ms/step - loss: 3.1199 - mae: 3.1199\n",
            "Epoch 26/50\n",
            "1/1 [==============================] - 0s 20ms/step - loss: 3.2695 - mae: 3.2695\n",
            "Epoch 27/50\n",
            "1/1 [==============================] - 0s 39ms/step - loss: 3.2771 - mae: 3.2771\n",
            "Epoch 28/50\n",
            "1/1 [==============================] - 0s 15ms/step - loss: 3.0809 - mae: 3.0809\n",
            "Epoch 29/50\n",
            "1/1 [==============================] - 0s 13ms/step - loss: 3.1579 - mae: 3.1579\n",
            "Epoch 30/50\n",
            "1/1 [==============================] - 0s 22ms/step - loss: 3.1553 - mae: 3.1553\n",
            "Epoch 31/50\n",
            "1/1 [==============================] - 0s 15ms/step - loss: 3.3293 - mae: 3.3293\n",
            "Epoch 32/50\n",
            "1/1 [==============================] - 0s 16ms/step - loss: 3.1209 - mae: 3.1209\n",
            "Epoch 33/50\n",
            "1/1 [==============================] - 0s 14ms/step - loss: 3.1917 - mae: 3.1917\n",
            "Epoch 34/50\n",
            "1/1 [==============================] - 0s 15ms/step - loss: 3.3012 - mae: 3.3012\n",
            "Epoch 35/50\n",
            "1/1 [==============================] - 0s 28ms/step - loss: 3.0940 - mae: 3.0940\n",
            "Epoch 36/50\n",
            "1/1 [==============================] - 0s 21ms/step - loss: 3.2295 - mae: 3.2295\n",
            "Epoch 37/50\n",
            "1/1 [==============================] - 0s 22ms/step - loss: 3.2639 - mae: 3.2639\n",
            "Epoch 38/50\n",
            "1/1 [==============================] - 0s 11ms/step - loss: 3.0607 - mae: 3.0607\n",
            "Epoch 39/50\n",
            "1/1 [==============================] - 0s 18ms/step - loss: 3.2700 - mae: 3.2700\n",
            "Epoch 40/50\n",
            "1/1 [==============================] - 0s 16ms/step - loss: 3.2366 - mae: 3.2366\n",
            "Epoch 41/50\n",
            "1/1 [==============================] - 0s 10ms/step - loss: 3.0574 - mae: 3.0574\n",
            "Epoch 42/50\n",
            "1/1 [==============================] - 0s 18ms/step - loss: 3.1093 - mae: 3.1093\n",
            "Epoch 43/50\n",
            "1/1 [==============================] - 0s 19ms/step - loss: 3.1482 - mae: 3.1482\n",
            "Epoch 44/50\n",
            "1/1 [==============================] - 0s 17ms/step - loss: 3.2896 - mae: 3.2896\n",
            "Epoch 45/50\n",
            "1/1 [==============================] - 0s 22ms/step - loss: 3.0830 - mae: 3.0830\n",
            "Epoch 46/50\n",
            "1/1 [==============================] - 0s 19ms/step - loss: 3.1856 - mae: 3.1856\n",
            "Epoch 47/50\n",
            "1/1 [==============================] - 0s 24ms/step - loss: 3.2532 - mae: 3.2532\n",
            "Epoch 48/50\n",
            "1/1 [==============================] - 0s 11ms/step - loss: 3.0493 - mae: 3.0493\n",
            "Epoch 49/50\n",
            "1/1 [==============================] - 0s 10ms/step - loss: 3.2246 - mae: 3.2246\n",
            "Epoch 50/50\n",
            "1/1 [==============================] - 0s 9ms/step - loss: 3.2268 - mae: 3.2268\n"
          ]
        },
        {
          "output_type": "execute_result",
          "data": {
            "text/plain": [
              "<keras.src.callbacks.History at 0x7a04cceaa9e0>"
            ]
          },
          "metadata": {},
          "execution_count": 11
        }
      ]
    },
    {
      "cell_type": "code",
      "source": [
        "model.predict([17.0])"
      ],
      "metadata": {
        "colab": {
          "base_uri": "https://localhost:8080/"
        },
        "id": "mu0ktZquXU7s",
        "outputId": "ef693910-6ce4-4b1b-cfae-8c5c96cedc3b"
      },
      "execution_count": null,
      "outputs": [
        {
          "output_type": "stream",
          "name": "stdout",
          "text": [
            "1/1 [==============================] - 1s 903ms/step\n"
          ]
        },
        {
          "output_type": "execute_result",
          "data": {
            "text/plain": [
              "array([[28.99698]], dtype=float32)"
            ]
          },
          "metadata": {},
          "execution_count": 12
        }
      ]
    },
    {
      "cell_type": "markdown",
      "source": [
        "## **Model evaluation-Part1**\n",
        "- Visualize data\n",
        "- Visualize architecture\n",
        "- Visualize model weights during training on each epochs\n",
        "- Visualize predictions"
      ],
      "metadata": {
        "id": "POTIwbLTjjg1"
      }
    },
    {
      "cell_type": "code",
      "source": [
        "from sklearn.model_selection import train_test_split\n",
        "import matplotlib.pyplot as plt\n",
        "from tensorflow.keras.utils import plot_model"
      ],
      "metadata": {
        "id": "volrTAJtmok1"
      },
      "execution_count": null,
      "outputs": []
    },
    {
      "cell_type": "code",
      "source": [
        "X = np.arange(-100, 100, 4)\n",
        "Y = X+10\n",
        "X,Y"
      ],
      "metadata": {
        "colab": {
          "base_uri": "https://localhost:8080/"
        },
        "id": "yCFwCRfhl4xl",
        "outputId": "b40b1df7-556f-4fa1-9053-24040221d325"
      },
      "execution_count": null,
      "outputs": [
        {
          "output_type": "execute_result",
          "data": {
            "text/plain": [
              "(array([-100,  -96,  -92,  -88,  -84,  -80,  -76,  -72,  -68,  -64,  -60,\n",
              "         -56,  -52,  -48,  -44,  -40,  -36,  -32,  -28,  -24,  -20,  -16,\n",
              "         -12,   -8,   -4,    0,    4,    8,   12,   16,   20,   24,   28,\n",
              "          32,   36,   40,   44,   48,   52,   56,   60,   64,   68,   72,\n",
              "          76,   80,   84,   88,   92,   96]),\n",
              " array([-90, -86, -82, -78, -74, -70, -66, -62, -58, -54, -50, -46, -42,\n",
              "        -38, -34, -30, -26, -22, -18, -14, -10,  -6,  -2,   2,   6,  10,\n",
              "         14,  18,  22,  26,  30,  34,  38,  42,  46,  50,  54,  58,  62,\n",
              "         66,  70,  74,  78,  82,  86,  90,  94,  98, 102, 106]))"
            ]
          },
          "metadata": {},
          "execution_count": 14
        }
      ]
    },
    {
      "cell_type": "code",
      "source": [
        "x_train,x_test,y_train,y_test = train_test_split(X,Y, test_size=0.20)\n",
        "len(x_train), len(x_test), len(y_test), len(y_train)"
      ],
      "metadata": {
        "colab": {
          "base_uri": "https://localhost:8080/"
        },
        "id": "jnRjccqrjqHU",
        "outputId": "e72f1af8-ec8f-416e-d2b3-d618edf6342b"
      },
      "execution_count": null,
      "outputs": [
        {
          "output_type": "execute_result",
          "data": {
            "text/plain": [
              "(40, 10, 10, 40)"
            ]
          },
          "metadata": {},
          "execution_count": 15
        }
      ]
    },
    {
      "cell_type": "code",
      "source": [
        "X_train = tf.cast(x_train, tf.float32)\n",
        "X_test = tf.cast(x_test, tf.float32)\n",
        "Y_train = tf.cast(y_train, tf.float32)\n",
        "Y_test = tf.cast(y_test, tf.float32)\n",
        "\n",
        "X_train, X_test, Y_train, Y_test"
      ],
      "metadata": {
        "colab": {
          "base_uri": "https://localhost:8080/"
        },
        "id": "GIZ5IivGkrDs",
        "outputId": "58b57a64-26d1-4162-99a3-b576a1de8a36"
      },
      "execution_count": null,
      "outputs": [
        {
          "output_type": "execute_result",
          "data": {
            "text/plain": [
              "(<tf.Tensor: shape=(40,), dtype=float32, numpy=\n",
              " array([  84.,   48.,  -92.,  -72.,  -40.,   92.,   44.,  -84.,  -32.,\n",
              "          -4.,  -28.,  -48.,  -44.,   80.,   56.,  -80., -100.,   20.,\n",
              "          16.,  -96.,  -56.,  -68.,  -36.,   68.,  -16.,  -88.,   76.,\n",
              "         -52.,   60.,  -12.,   40.,  -60.,   52.,   88.,    8.,   24.,\n",
              "          72.,  -20.,   96.,   36.], dtype=float32)>,\n",
              " <tf.Tensor: shape=(10,), dtype=float32, numpy=\n",
              " array([-76., -24.,  12.,   4.,  64.,   0.,  -8.,  28., -64.,  32.],\n",
              "       dtype=float32)>,\n",
              " <tf.Tensor: shape=(40,), dtype=float32, numpy=\n",
              " array([ 94.,  58., -82., -62., -30., 102.,  54., -74., -22.,   6., -18.,\n",
              "        -38., -34.,  90.,  66., -70., -90.,  30.,  26., -86., -46., -58.,\n",
              "        -26.,  78.,  -6., -78.,  86., -42.,  70.,  -2.,  50., -50.,  62.,\n",
              "         98.,  18.,  34.,  82., -10., 106.,  46.], dtype=float32)>,\n",
              " <tf.Tensor: shape=(10,), dtype=float32, numpy=\n",
              " array([-66., -14.,  22.,  14.,  74.,  10.,   2.,  38., -54.,  42.],\n",
              "       dtype=float32)>)"
            ]
          },
          "metadata": {},
          "execution_count": 16
        }
      ]
    },
    {
      "cell_type": "code",
      "source": [
        "plt.figure(figsize=(6,4))\n",
        "plt.scatter(X_train,Y_train, c='r', label='Training data')\n",
        "plt.scatter(X_test,Y_test, c='g', label=\"Test\")\n",
        "plt.legend()\n",
        "plt.show()"
      ],
      "metadata": {
        "colab": {
          "base_uri": "https://localhost:8080/",
          "height": 368
        },
        "id": "FoDThUb5lQA0",
        "outputId": "796253a2-18cb-44bf-d8bb-6ca6e1881cf7"
      },
      "execution_count": null,
      "outputs": [
        {
          "output_type": "display_data",
          "data": {
            "text/plain": [
              "<Figure size 600x400 with 1 Axes>"
            ],
            "image/png": "[encoded data removed]"
          },
          "metadata": {}
        }
      ]
    },
    {
      "cell_type": "code",
      "source": [
        "model = tf.keras.Sequential([\n",
        "    tf.keras.layers.Dense(100, activation='relu', input_shape=(1,)),\n",
        "    tf.keras.layers.Dense(1)\n",
        "])\n",
        "\n",
        "model.compile(optimizer = tf.keras.optimizers.SGD(),\n",
        "              loss = \"mae\",\n",
        "              metrics=['mae'])\n",
        "\n",
        "# model.fit(X[...,tf.newaxis],Y,epochs=50)"
      ],
      "metadata": {
        "id": "b0t7fD5km0HF"
      },
      "execution_count": null,
      "outputs": []
    },
    {
      "cell_type": "code",
      "source": [
        "model.build() # During build input_shape *must"
      ],
      "metadata": {
        "id": "uO689mdkuz2m"
      },
      "execution_count": null,
      "outputs": []
    },
    {
      "cell_type": "code",
      "source": [
        "model.summary()"
      ],
      "metadata": {
        "colab": {
          "base_uri": "https://localhost:8080/"
        },
        "id": "d4aKSdjSu1YG",
        "outputId": "ae0b13bf-1e94-467b-bf8b-18e183ef4503"
      },
      "execution_count": null,
      "outputs": [
        {
          "output_type": "stream",
          "name": "stdout",
          "text": [
            "Model: \"sequential_3\"\n",
            "_________________________________________________________________\n",
            " Layer (type)                Output Shape              Param #   \n",
            "=================================================================\n",
            " dense_4 (Dense)             (None, 100)               200       \n",
            "                                                                 \n",
            " dense_5 (Dense)             (None, 1)                 101       \n",
            "                                                                 \n",
            "=================================================================\n",
            "Total params: 301 (1.18 KB)\n",
            "Trainable params: 301 (1.18 KB)\n",
            "Non-trainable params: 0 (0.00 Byte)\n",
            "_________________________________________________________________\n"
          ]
        }
      ]
    },
    {
      "cell_type": "code",
      "source": [
        "# ================================ OR ========================================"
      ],
      "metadata": {
        "id": "oUfCwqaovQND"
      },
      "execution_count": null,
      "outputs": []
    },
    {
      "cell_type": "code",
      "source": [
        "model = tf.keras.Sequential([\n",
        "    tf.keras.layers.Dense(100, activation='relu', input_shape=(1,), name=\"INPUT_LAYER\"),\n",
        "    tf.keras.layers.Dense(1, name=\"OUTPUT_LAYER\")\n",
        "], name=\"FIRST_NAME\")\n",
        "\n",
        "model.compile(optimizer = tf.keras.optimizers.SGD(),\n",
        "              loss = \"mae\",\n",
        "              metrics=['mae'])\n",
        "\n",
        "model.fit(X_train[...,tf.newaxis],Y_train,epochs=50)"
      ],
      "metadata": {
        "colab": {
          "base_uri": "https://localhost:8080/"
        },
        "id": "zoGRsgOJvBZV",
        "outputId": "faf0f0aa-43ec-4b7f-a279-547b0bbaf1ec"
      },
      "execution_count": null,
      "outputs": [
        {
          "output_type": "stream",
          "name": "stdout",
          "text": [
            "Epoch 1/50\n",
            "2/2 [==============================] - 2s 1s/step - loss: 58.4715 - mae: 58.4715\n",
            "Epoch 2/50\n",
            "2/2 [==============================] - 0s 9ms/step - loss: 14.2668 - mae: 14.2668\n",
            "Epoch 3/50\n",
            "2/2 [==============================] - 0s 8ms/step - loss: 17.5914 - mae: 17.5914\n",
            "Epoch 4/50\n",
            "2/2 [==============================] - 0s 7ms/step - loss: 16.9698 - mae: 16.9698\n",
            "Epoch 5/50\n",
            "2/2 [==============================] - 0s 7ms/step - loss: 4.2586 - mae: 4.2586\n",
            "Epoch 6/50\n",
            "2/2 [==============================] - 0s 9ms/step - loss: 17.9623 - mae: 17.9623\n",
            "Epoch 7/50\n",
            "2/2 [==============================] - 0s 8ms/step - loss: 26.1315 - mae: 26.1315\n",
            "Epoch 8/50\n",
            "2/2 [==============================] - 0s 9ms/step - loss: 17.7913 - mae: 17.7913\n",
            "Epoch 9/50\n",
            "2/2 [==============================] - 0s 7ms/step - loss: 12.6427 - mae: 12.6427\n",
            "Epoch 10/50\n",
            "2/2 [==============================] - 0s 8ms/step - loss: 8.2950 - mae: 8.2950\n",
            "Epoch 11/50\n",
            "2/2 [==============================] - 0s 9ms/step - loss: 9.4663 - mae: 9.4663\n",
            "Epoch 12/50\n",
            "2/2 [==============================] - 0s 9ms/step - loss: 4.9681 - mae: 4.9681\n",
            "Epoch 13/50\n",
            "2/2 [==============================] - 0s 10ms/step - loss: 20.2910 - mae: 20.2910\n",
            "Epoch 14/50\n",
            "2/2 [==============================] - 0s 8ms/step - loss: 15.6586 - mae: 15.6586\n",
            "Epoch 15/50\n",
            "2/2 [==============================] - 0s 8ms/step - loss: 8.5115 - mae: 8.5115\n",
            "Epoch 16/50\n",
            "2/2 [==============================] - 0s 7ms/step - loss: 15.2957 - mae: 15.2957\n",
            "Epoch 17/50\n",
            "2/2 [==============================] - 0s 8ms/step - loss: 10.7926 - mae: 10.7926\n",
            "Epoch 18/50\n",
            "2/2 [==============================] - 0s 8ms/step - loss: 28.7335 - mae: 28.7335\n",
            "Epoch 19/50\n",
            "2/2 [==============================] - 0s 8ms/step - loss: 18.8924 - mae: 18.8924\n",
            "Epoch 20/50\n",
            "2/2 [==============================] - 0s 8ms/step - loss: 22.9103 - mae: 22.9103\n",
            "Epoch 21/50\n",
            "2/2 [==============================] - 0s 9ms/step - loss: 9.5486 - mae: 9.5486\n",
            "Epoch 22/50\n",
            "2/2 [==============================] - 0s 8ms/step - loss: 18.0242 - mae: 18.0242\n",
            "Epoch 23/50\n",
            "2/2 [==============================] - 0s 12ms/step - loss: 12.0936 - mae: 12.0936\n",
            "Epoch 24/50\n",
            "2/2 [==============================] - 0s 9ms/step - loss: 15.7601 - mae: 15.7601\n",
            "Epoch 25/50\n",
            "2/2 [==============================] - 0s 8ms/step - loss: 12.8193 - mae: 12.8193\n",
            "Epoch 26/50\n",
            "2/2 [==============================] - 0s 7ms/step - loss: 22.1660 - mae: 22.1660\n",
            "Epoch 27/50\n",
            "2/2 [==============================] - 0s 7ms/step - loss: 21.3610 - mae: 21.3610\n",
            "Epoch 28/50\n",
            "2/2 [==============================] - 0s 8ms/step - loss: 4.4375 - mae: 4.4375\n",
            "Epoch 29/50\n",
            "2/2 [==============================] - 0s 9ms/step - loss: 22.2575 - mae: 22.2575\n",
            "Epoch 30/50\n",
            "2/2 [==============================] - 0s 7ms/step - loss: 16.5437 - mae: 16.5437\n",
            "Epoch 31/50\n",
            "2/2 [==============================] - 0s 9ms/step - loss: 15.4371 - mae: 15.4371\n",
            "Epoch 32/50\n",
            "2/2 [==============================] - 0s 8ms/step - loss: 14.5398 - mae: 14.5398\n",
            "Epoch 33/50\n",
            "2/2 [==============================] - 0s 8ms/step - loss: 22.6793 - mae: 22.6793\n",
            "Epoch 34/50\n",
            "2/2 [==============================] - 0s 7ms/step - loss: 9.3747 - mae: 9.3747\n",
            "Epoch 35/50\n",
            "2/2 [==============================] - 0s 7ms/step - loss: 23.7561 - mae: 23.7561\n",
            "Epoch 36/50\n",
            "2/2 [==============================] - 0s 7ms/step - loss: 21.7714 - mae: 21.7714\n",
            "Epoch 37/50\n",
            "2/2 [==============================] - 0s 9ms/step - loss: 8.5311 - mae: 8.5311\n",
            "Epoch 38/50\n",
            "2/2 [==============================] - 0s 8ms/step - loss: 19.7022 - mae: 19.7022\n",
            "Epoch 39/50\n",
            "2/2 [==============================] - 0s 8ms/step - loss: 16.0903 - mae: 16.0903\n",
            "Epoch 40/50\n",
            "2/2 [==============================] - 0s 9ms/step - loss: 13.7497 - mae: 13.7497\n",
            "Epoch 41/50\n",
            "2/2 [==============================] - 0s 8ms/step - loss: 18.8181 - mae: 18.8181\n",
            "Epoch 42/50\n",
            "2/2 [==============================] - 0s 8ms/step - loss: 10.3362 - mae: 10.3362\n",
            "Epoch 43/50\n",
            "2/2 [==============================] - 0s 8ms/step - loss: 14.8767 - mae: 14.8767\n",
            "Epoch 44/50\n",
            "2/2 [==============================] - 0s 9ms/step - loss: 9.2472 - mae: 9.2472\n",
            "Epoch 45/50\n",
            "2/2 [==============================] - 0s 8ms/step - loss: 12.0403 - mae: 12.0403\n",
            "Epoch 46/50\n",
            "2/2 [==============================] - 0s 12ms/step - loss: 8.9159 - mae: 8.9159\n",
            "Epoch 47/50\n",
            "2/2 [==============================] - 0s 7ms/step - loss: 23.8031 - mae: 23.8031\n",
            "Epoch 48/50\n",
            "2/2 [==============================] - 0s 8ms/step - loss: 12.0471 - mae: 12.0471\n",
            "Epoch 49/50\n",
            "2/2 [==============================] - 0s 8ms/step - loss: 13.3615 - mae: 13.3615\n",
            "Epoch 50/50\n",
            "2/2 [==============================] - 0s 13ms/step - loss: 21.6220 - mae: 21.6220\n"
          ]
        },
        {
          "output_type": "execute_result",
          "data": {
            "text/plain": [
              "<keras.src.callbacks.History at 0x7a04b6f42a70>"
            ]
          },
          "metadata": {},
          "execution_count": 22
        }
      ]
    },
    {
      "cell_type": "code",
      "source": [
        "model.summary()"
      ],
      "metadata": {
        "colab": {
          "base_uri": "https://localhost:8080/"
        },
        "id": "6vRKOWTtvKD-",
        "outputId": "a835cd95-e6b3-4233-c93f-e6de31cfa786"
      },
      "execution_count": null,
      "outputs": [
        {
          "output_type": "stream",
          "name": "stdout",
          "text": [
            "Model: \"FIRST_NAME\"\n",
            "_________________________________________________________________\n",
            " Layer (type)                Output Shape              Param #   \n",
            "=================================================================\n",
            " INPUT_LAYER (Dense)         (None, 100)               200       \n",
            "                                                                 \n",
            " OUTPUT_LAYER (Dense)        (None, 1)                 101       \n",
            "                                                                 \n",
            "=================================================================\n",
            "Total params: 301 (1.18 KB)\n",
            "Trainable params: 301 (1.18 KB)\n",
            "Non-trainable params: 0 (0.00 Byte)\n",
            "_________________________________________________________________\n"
          ]
        }
      ]
    },
    {
      "cell_type": "code",
      "source": [
        "model.predict([2.0])"
      ],
      "metadata": {
        "colab": {
          "base_uri": "https://localhost:8080/"
        },
        "id": "Pk9yGbb7vOVf",
        "outputId": "87e4fd45-de46-464a-d2f4-b0c479c92d90"
      },
      "execution_count": null,
      "outputs": [
        {
          "output_type": "stream",
          "name": "stdout",
          "text": [
            "1/1 [==============================] - 0s 67ms/step\n"
          ]
        },
        {
          "output_type": "execute_result",
          "data": {
            "text/plain": [
              "array([[2.8113797]], dtype=float32)"
            ]
          },
          "metadata": {},
          "execution_count": 24
        }
      ]
    },
    {
      "cell_type": "code",
      "source": [
        "plot_model(model=model, show_shapes=True)"
      ],
      "metadata": {
        "colab": {
          "base_uri": "https://localhost:8080/",
          "height": 312
        },
        "id": "etLj6mk0yKeg",
        "outputId": "c3590992-19fc-4442-a178-a60904169e4e"
      },
      "execution_count": null,
      "outputs": [
        {
          "output_type": "execute_result",
          "data": {
            "image/png": "[encoded data removed]",
            "text/plain": [
              "<IPython.core.display.Image object>"
            ]
          },
          "metadata": {},
          "execution_count": 25
        }
      ]
    },
    {
      "cell_type": "markdown",
      "source": [
        "### **Predictions visualiation**"
      ],
      "metadata": {
        "id": "ulPgJ3Fw-NEv"
      }
    },
    {
      "cell_type": "code",
      "source": [
        "y_pre = model.predict(x_test)"
      ],
      "metadata": {
        "id": "Kf1fewbwzWNn",
        "colab": {
          "base_uri": "https://localhost:8080/"
        },
        "outputId": "69eccd7a-fd41-432d-f4eb-a14faee2c520"
      },
      "execution_count": null,
      "outputs": [
        {
          "output_type": "stream",
          "name": "stderr",
          "text": [
            "WARNING:tensorflow:5 out of the last 5 calls to <function Model.make_predict_function.<locals>.predict_function at 0x7a04b9017490> triggered tf.function retracing. Tracing is expensive and the excessive number of tracings could be due to (1) creating @tf.function repeatedly in a loop, (2) passing tensors with different shapes, (3) passing Python objects instead of tensors. For (1), please define your @tf.function outside of the loop. For (2), @tf.function has reduce_retracing=True option that can avoid unnecessary retracing. For (3), please refer to https://www.tensorflow.org/guide/function#controlling_retracing and https://www.tensorflow.org/api_docs/python/tf/function for  more details.\n"
          ]
        },
        {
          "output_type": "stream",
          "name": "stdout",
          "text": [
            "1/1 [==============================] - 0s 78ms/step\n"
          ]
        }
      ]
    },
    {
      "cell_type": "code",
      "source": [
        "x_train, y_train, x_test, y_test"
      ],
      "metadata": {
        "colab": {
          "base_uri": "https://localhost:8080/"
        },
        "id": "tSIdi-Y1_Zok",
        "outputId": "809ab56d-aa86-48b9-afc7-3ddd8a3bb841"
      },
      "execution_count": null,
      "outputs": [
        {
          "output_type": "execute_result",
          "data": {
            "text/plain": [
              "(array([  84,   48,  -92,  -72,  -40,   92,   44,  -84,  -32,   -4,  -28,\n",
              "         -48,  -44,   80,   56,  -80, -100,   20,   16,  -96,  -56,  -68,\n",
              "         -36,   68,  -16,  -88,   76,  -52,   60,  -12,   40,  -60,   52,\n",
              "          88,    8,   24,   72,  -20,   96,   36]),\n",
              " array([ 94,  58, -82, -62, -30, 102,  54, -74, -22,   6, -18, -38, -34,\n",
              "         90,  66, -70, -90,  30,  26, -86, -46, -58, -26,  78,  -6, -78,\n",
              "         86, -42,  70,  -2,  50, -50,  62,  98,  18,  34,  82, -10, 106,\n",
              "         46]),\n",
              " array([-76, -24,  12,   4,  64,   0,  -8,  28, -64,  32]),\n",
              " array([-66, -14,  22,  14,  74,  10,   2,  38, -54,  42]))"
            ]
          },
          "metadata": {},
          "execution_count": 27
        }
      ]
    },
    {
      "cell_type": "code",
      "source": [
        "y_test, y_pre"
      ],
      "metadata": {
        "colab": {
          "base_uri": "https://localhost:8080/"
        },
        "id": "r7abqX9t-UaT",
        "outputId": "38ec0ebe-75c9-4f60-d97b-bde6bc3e67b2"
      },
      "execution_count": null,
      "outputs": [
        {
          "output_type": "execute_result",
          "data": {
            "text/plain": [
              "(array([-66, -14,  22,  14,  74,  10,   2,  38, -54,  42]),\n",
              " array([[-84.44555   ],\n",
              "        [-26.464155  ],\n",
              "        [ 15.534352  ],\n",
              "        [  5.355974  ],\n",
              "        [ 81.6938    ],\n",
              "        [  0.26692712],\n",
              "        [ -8.623728  ],\n",
              "        [ 35.891106  ],\n",
              "        [-71.06522   ],\n",
              "        [ 40.980297  ]], dtype=float32))"
            ]
          },
          "metadata": {},
          "execution_count": 28
        }
      ]
    },
    {
      "cell_type": "code",
      "source": [
        "def plot_graph(x_train=x_train, y_train=y_train, x_test=x_test, y_test=y_test, y_prediction=y_pre):\n",
        "    plt.scatter(x_train, y_train, c='b', label=\"Training data\")\n",
        "    plt.scatter(x_test, y_test, c='g', label=\"Test data\")\n",
        "    plt.scatter(x_test, y_prediction, c='r', label=\"Predictions\")\n",
        "    plt.legend()\n",
        "    plt.show()\n",
        "\n",
        "plot_graph(x_train, y_train, x_test, y_test, y_pre)"
      ],
      "metadata": {
        "colab": {
          "base_uri": "https://localhost:8080/",
          "height": 430
        },
        "id": "vTfaNMj2-WU8",
        "outputId": "804f3fb0-3414-4f57-e24c-40b9a63a3858"
      },
      "execution_count": null,
      "outputs": [
        {
          "output_type": "display_data",
          "data": {
            "text/plain": [
              "<Figure size 640x480 with 1 Axes>"
            ],
            "image/png": "[encoded data removed]"
          },
          "metadata": {}
        }
      ]
    },
    {
      "cell_type": "markdown",
      "source": [
        "## **Model evaluation part-2**\n",
        "- Error calculation"
      ],
      "metadata": {
        "id": "st0sH-N4Fu0g"
      }
    },
    {
      "cell_type": "code",
      "source": [
        "model.evaluate(x_test, y_test)"
      ],
      "metadata": {
        "colab": {
          "base_uri": "https://localhost:8080/"
        },
        "id": "PlF9zOjgAdLk",
        "outputId": "4fab92a0-a60b-4928-f839-6bdae9df5fa6"
      },
      "execution_count": null,
      "outputs": [
        {
          "output_type": "stream",
          "name": "stdout",
          "text": [
            "1/1 [==============================] - 1s 841ms/step - loss: 9.4264 - mae: 9.4264\n"
          ]
        },
        {
          "output_type": "execute_result",
          "data": {
            "text/plain": [
              "[9.426382064819336, 9.426382064819336]"
            ]
          },
          "metadata": {},
          "execution_count": 30
        }
      ]
    },
    {
      "cell_type": "code",
      "source": [
        "y_test, tf.squeeze(y_pre)"
      ],
      "metadata": {
        "colab": {
          "base_uri": "https://localhost:8080/"
        },
        "id": "214w1CizF0oF",
        "outputId": "37645afe-1bc3-47db-a7dd-74e4108d7055"
      },
      "execution_count": null,
      "outputs": [
        {
          "output_type": "execute_result",
          "data": {
            "text/plain": [
              "(array([-66, -14,  22,  14,  74,  10,   2,  38, -54,  42]),\n",
              " <tf.Tensor: shape=(10,), dtype=float32, numpy=\n",
              " array([-84.44555   , -26.464155  ,  15.534352  ,   5.355974  ,\n",
              "         81.6938    ,   0.26692712,  -8.623728  ,  35.891106  ,\n",
              "        -71.06522   ,  40.980297  ], dtype=float32)>)"
            ]
          },
          "metadata": {},
          "execution_count": 31
        }
      ]
    },
    {
      "cell_type": "code",
      "source": [
        "print(f\"MAE = {tf.metrics.mean_absolute_error(y_test, tf.squeeze(y_pre))}\")\n",
        "print(f\"MAE = {tf.keras.losses.mae(y_test, tf.squeeze(y_pre))}\")\n",
        "\n",
        "print(f\"MSE = {tf.metrics.mean_squared_error(y_test, tf.squeeze(y_pre))}\")\n",
        "print(f\"MSE = {tf.keras.losses.mse(y_test, tf.squeeze(y_pre))}\")\n",
        "\n",
        "print(f\"Huber = {tf.keras.losses.huber(y_test, tf.squeeze(y_pre))}\")"
      ],
      "metadata": {
        "colab": {
          "base_uri": "https://localhost:8080/"
        },
        "id": "ehThk3T4KdXs",
        "outputId": "31238a95-adf3-4deb-b6fa-7fa49fa61b07"
      },
      "execution_count": null,
      "outputs": [
        {
          "output_type": "stream",
          "name": "stdout",
          "text": [
            "MAE = 9.42638111114502\n",
            "MAE = 9.42638111114502\n",
            "MSE = 117.56172180175781\n",
            "MSE = 117.56172180175781\n",
            "Huber = 8.926379203796387\n"
          ]
        }
      ]
    },
    {
      "cell_type": "markdown",
      "source": [
        "## **Model experimenting**\n",
        "- Creating different models with differen hyper parameters"
      ],
      "metadata": {
        "id": "-TTmxb_QP94Z"
      }
    },
    {
      "cell_type": "code",
      "source": [
        "model_1 = tf.keras.Sequential([\n",
        "    tf.keras.layers.Dense(100, input_shape=(1,)),\n",
        "    tf.keras.layers.Dense(75, activation='relu'),\n",
        "    tf.keras.layers.Dense(50, activation='relu'),\n",
        "    tf.keras.layers.Dense(25, activation='relu'),\n",
        "    tf.keras.layers.Dense(1)\n",
        "\n",
        "])\n",
        "\n",
        "model_1.compile(optimizer = tf.keras.optimizers.Adam(),\n",
        "                loss = 'mae',\n",
        "                metrics = ['mae'])\n",
        "\n",
        "model_1.fit(X_train, Y_train, epochs=50)"
      ],
      "metadata": {
        "colab": {
          "base_uri": "https://localhost:8080/"
        },
        "id": "hTlDtyrSK_el",
        "outputId": "315f5c0a-95c1-4486-ca2f-bf9d31675cdb"
      },
      "execution_count": null,
      "outputs": [
        {
          "output_type": "stream",
          "name": "stdout",
          "text": [
            "Epoch 1/50\n",
            "2/2 [==============================] - 1s 8ms/step - loss: 55.0272 - mae: 55.0272\n",
            "Epoch 2/50\n",
            "2/2 [==============================] - 0s 7ms/step - loss: 47.3973 - mae: 47.3973\n",
            "Epoch 3/50\n",
            "2/2 [==============================] - 0s 10ms/step - loss: 41.5428 - mae: 41.5428\n",
            "Epoch 4/50\n",
            "2/2 [==============================] - 0s 10ms/step - loss: 36.7687 - mae: 36.7687\n",
            "Epoch 5/50\n",
            "2/2 [==============================] - 0s 8ms/step - loss: 32.2591 - mae: 32.2591\n",
            "Epoch 6/50\n",
            "2/2 [==============================] - 0s 8ms/step - loss: 26.5968 - mae: 26.5968\n",
            "Epoch 7/50\n",
            "2/2 [==============================] - 0s 10ms/step - loss: 20.7623 - mae: 20.7623\n",
            "Epoch 8/50\n",
            "2/2 [==============================] - 0s 8ms/step - loss: 13.8431 - mae: 13.8431\n",
            "Epoch 9/50\n",
            "2/2 [==============================] - 0s 9ms/step - loss: 7.2541 - mae: 7.2541\n",
            "Epoch 10/50\n",
            "2/2 [==============================] - 0s 8ms/step - loss: 6.7329 - mae: 6.7329\n",
            "Epoch 11/50\n",
            "2/2 [==============================] - 0s 8ms/step - loss: 7.1405 - mae: 7.1405\n",
            "Epoch 12/50\n",
            "2/2 [==============================] - 0s 8ms/step - loss: 7.1187 - mae: 7.1187\n",
            "Epoch 13/50\n",
            "2/2 [==============================] - 0s 7ms/step - loss: 4.5131 - mae: 4.5131\n",
            "Epoch 14/50\n",
            "2/2 [==============================] - 0s 9ms/step - loss: 4.2981 - mae: 4.2981\n",
            "Epoch 15/50\n",
            "2/2 [==============================] - 0s 9ms/step - loss: 6.4271 - mae: 6.4271\n",
            "Epoch 16/50\n",
            "2/2 [==============================] - 0s 9ms/step - loss: 6.7005 - mae: 6.7005\n",
            "Epoch 17/50\n",
            "2/2 [==============================] - 0s 10ms/step - loss: 5.3775 - mae: 5.3775\n",
            "Epoch 18/50\n",
            "2/2 [==============================] - 0s 7ms/step - loss: 3.6307 - mae: 3.6307\n",
            "Epoch 19/50\n",
            "2/2 [==============================] - 0s 7ms/step - loss: 4.8548 - mae: 4.8548\n",
            "Epoch 20/50\n",
            "2/2 [==============================] - 0s 7ms/step - loss: 5.8329 - mae: 5.8329\n",
            "Epoch 21/50\n",
            "2/2 [==============================] - 0s 8ms/step - loss: 4.9256 - mae: 4.9256\n",
            "Epoch 22/50\n",
            "2/2 [==============================] - 0s 8ms/step - loss: 4.5024 - mae: 4.5024\n",
            "Epoch 23/50\n",
            "2/2 [==============================] - 0s 8ms/step - loss: 4.0888 - mae: 4.0888\n",
            "Epoch 24/50\n",
            "2/2 [==============================] - 0s 9ms/step - loss: 4.7673 - mae: 4.7673\n",
            "Epoch 25/50\n",
            "2/2 [==============================] - 0s 17ms/step - loss: 4.0858 - mae: 4.0858\n",
            "Epoch 26/50\n",
            "2/2 [==============================] - 0s 8ms/step - loss: 3.8008 - mae: 3.8008\n",
            "Epoch 27/50\n",
            "2/2 [==============================] - 0s 8ms/step - loss: 4.1340 - mae: 4.1340\n",
            "Epoch 28/50\n",
            "2/2 [==============================] - 0s 9ms/step - loss: 4.2696 - mae: 4.2696\n",
            "Epoch 29/50\n",
            "2/2 [==============================] - 0s 9ms/step - loss: 3.8999 - mae: 3.8999\n",
            "Epoch 30/50\n",
            "2/2 [==============================] - 0s 9ms/step - loss: 3.7677 - mae: 3.7677\n",
            "Epoch 31/50\n",
            "2/2 [==============================] - 0s 9ms/step - loss: 4.1821 - mae: 4.1821\n",
            "Epoch 32/50\n",
            "2/2 [==============================] - 0s 9ms/step - loss: 3.8480 - mae: 3.8480\n",
            "Epoch 33/50\n",
            "2/2 [==============================] - 0s 8ms/step - loss: 3.6592 - mae: 3.6592\n",
            "Epoch 34/50\n",
            "2/2 [==============================] - 0s 9ms/step - loss: 3.6803 - mae: 3.6803\n",
            "Epoch 35/50\n",
            "2/2 [==============================] - 0s 10ms/step - loss: 3.6292 - mae: 3.6292\n",
            "Epoch 36/50\n",
            "2/2 [==============================] - 0s 8ms/step - loss: 3.6947 - mae: 3.6947\n",
            "Epoch 37/50\n",
            "2/2 [==============================] - 0s 14ms/step - loss: 3.8184 - mae: 3.8184\n",
            "Epoch 38/50\n",
            "2/2 [==============================] - 0s 10ms/step - loss: 3.6027 - mae: 3.6027\n",
            "Epoch 39/50\n",
            "2/2 [==============================] - 0s 9ms/step - loss: 3.7892 - mae: 3.7892\n",
            "Epoch 40/50\n",
            "2/2 [==============================] - 0s 10ms/step - loss: 4.0272 - mae: 4.0272\n",
            "Epoch 41/50\n",
            "2/2 [==============================] - 0s 9ms/step - loss: 3.8422 - mae: 3.8422\n",
            "Epoch 42/50\n",
            "2/2 [==============================] - 0s 9ms/step - loss: 3.5816 - mae: 3.5816\n",
            "Epoch 43/50\n",
            "2/2 [==============================] - 0s 8ms/step - loss: 3.6713 - mae: 3.6713\n",
            "Epoch 44/50\n",
            "2/2 [==============================] - 0s 8ms/step - loss: 3.5908 - mae: 3.5908\n",
            "Epoch 45/50\n",
            "2/2 [==============================] - 0s 8ms/step - loss: 3.4906 - mae: 3.4906\n",
            "Epoch 46/50\n",
            "2/2 [==============================] - 0s 8ms/step - loss: 3.5773 - mae: 3.5773\n",
            "Epoch 47/50\n",
            "2/2 [==============================] - 0s 8ms/step - loss: 3.7100 - mae: 3.7100\n",
            "Epoch 48/50\n",
            "2/2 [==============================] - 0s 8ms/step - loss: 3.6315 - mae: 3.6315\n",
            "Epoch 49/50\n",
            "2/2 [==============================] - 0s 9ms/step - loss: 3.5784 - mae: 3.5784\n",
            "Epoch 50/50\n",
            "2/2 [==============================] - 0s 8ms/step - loss: 3.7312 - mae: 3.7312\n"
          ]
        },
        {
          "output_type": "execute_result",
          "data": {
            "text/plain": [
              "<keras.src.callbacks.History at 0x7a04b9f60ee0>"
            ]
          },
          "metadata": {},
          "execution_count": 33
        }
      ]
    },
    {
      "cell_type": "code",
      "source": [
        "y_pre_1 = model_1.predict(X_test)\n",
        "y_pre_1, y_test"
      ],
      "metadata": {
        "colab": {
          "base_uri": "https://localhost:8080/"
        },
        "id": "W2RJclHWLS-t",
        "outputId": "b81b835f-84a4-4318-d36f-404776feeb0b"
      },
      "execution_count": null,
      "outputs": [
        {
          "output_type": "stream",
          "name": "stderr",
          "text": [
            "WARNING:tensorflow:6 out of the last 6 calls to <function Model.make_predict_function.<locals>.predict_function at 0x7a04b6dea680> triggered tf.function retracing. Tracing is expensive and the excessive number of tracings could be due to (1) creating @tf.function repeatedly in a loop, (2) passing tensors with different shapes, (3) passing Python objects instead of tensors. For (1), please define your @tf.function outside of the loop. For (2), @tf.function has reduce_retracing=True option that can avoid unnecessary retracing. For (3), please refer to https://www.tensorflow.org/guide/function#controlling_retracing and https://www.tensorflow.org/api_docs/python/tf/function for  more details.\n"
          ]
        },
        {
          "output_type": "stream",
          "name": "stdout",
          "text": [
            "1/1 [==============================] - 0s 83ms/step\n"
          ]
        },
        {
          "output_type": "execute_result",
          "data": {
            "text/plain": [
              "(array([[-64.647446  ],\n",
              "        [-19.908401  ],\n",
              "        [ 14.214992  ],\n",
              "        [  5.371677  ],\n",
              "        [ 71.6898    ],\n",
              "        [  0.92973626],\n",
              "        [ -6.142544  ],\n",
              "        [ 31.899616  ],\n",
              "        [-54.323055  ],\n",
              "        [ 36.320747  ]], dtype=float32),\n",
              " array([-66, -14,  22,  14,  74,  10,   2,  38, -54,  42]))"
            ]
          },
          "metadata": {},
          "execution_count": 34
        }
      ]
    },
    {
      "cell_type": "code",
      "source": [
        "plot_graph(y_prediction=y_pre_1)"
      ],
      "metadata": {
        "colab": {
          "base_uri": "https://localhost:8080/",
          "height": 430
        },
        "id": "x0QpDXZvRxTN",
        "outputId": "6ebc200d-e4a1-4855-be85-44239ca12731"
      },
      "execution_count": null,
      "outputs": [
        {
          "output_type": "display_data",
          "data": {
            "text/plain": [
              "<Figure size 640x480 with 1 Axes>"
            ],
            "image/png": "[encoded data removed]"
          },
          "metadata": {}
        }
      ]
    },
    {
      "cell_type": "code",
      "source": [
        "model_1.summary()"
      ],
      "metadata": {
        "colab": {
          "base_uri": "https://localhost:8080/"
        },
        "id": "hdz2Igp8R_pd",
        "outputId": "a9ddba4d-0123-4035-ada8-7ff2d103b8a9"
      },
      "execution_count": null,
      "outputs": [
        {
          "output_type": "stream",
          "name": "stdout",
          "text": [
            "Model: \"sequential_4\"\n",
            "_________________________________________________________________\n",
            " Layer (type)                Output Shape              Param #   \n",
            "=================================================================\n",
            " dense_6 (Dense)             (None, 100)               200       \n",
            "                                                                 \n",
            " dense_7 (Dense)             (None, 75)                7575      \n",
            "                                                                 \n",
            " dense_8 (Dense)             (None, 50)                3800      \n",
            "                                                                 \n",
            " dense_9 (Dense)             (None, 25)                1275      \n",
            "                                                                 \n",
            " dense_10 (Dense)            (None, 1)                 26        \n",
            "                                                                 \n",
            "=================================================================\n",
            "Total params: 12876 (50.30 KB)\n",
            "Trainable params: 12876 (50.30 KB)\n",
            "Non-trainable params: 0 (0.00 Byte)\n",
            "_________________________________________________________________\n"
          ]
        }
      ]
    },
    {
      "cell_type": "code",
      "source": [
        "plot_model(model_1, show_shapes=True)"
      ],
      "metadata": {
        "colab": {
          "base_uri": "https://localhost:8080/",
          "height": 644
        },
        "id": "PHbomDguZ03-",
        "outputId": "f6ad90eb-0df9-48b1-c54f-5c0a231d5f6f"
      },
      "execution_count": null,
      "outputs": [
        {
          "output_type": "execute_result",
          "data": {
            "image/png": "[encoded data removed]",
            "text/plain": [
              "<IPython.core.display.Image object>"
            ]
          },
          "metadata": {},
          "execution_count": 37
        }
      ]
    },
    {
      "cell_type": "markdown",
      "source": [
        "## **Saving and loading the models**"
      ],
      "metadata": {
        "id": "UTlUYXTdvv27"
      }
    },
    {
      "cell_type": "markdown",
      "source": [
        "### **Type-1**\n",
        "- Saved in a folder"
      ],
      "metadata": {
        "id": "Y0hg4tgXKa2b"
      }
    },
    {
      "cell_type": "code",
      "source": [
        "model_1.save(\"/content/drive/MyDrive/Colab Notebooks YouTube tutorials/8 Tensorflow and keras/TF Daniel Bourke/02_Model saving tutorials/saved_model\")"
      ],
      "metadata": {
        "id": "P_NkVcLpZ7xv"
      },
      "execution_count": null,
      "outputs": []
    },
    {
      "cell_type": "code",
      "source": [
        "loaded_1 = tf.keras.models.load_model('/content/drive/MyDrive/Colab Notebooks YouTube tutorials/8 Tensorflow and keras/TF Daniel Bourke/02_Model saving tutorials/saved_model')"
      ],
      "metadata": {
        "id": "wtHt3ZKeJac5"
      },
      "execution_count": null,
      "outputs": []
    },
    {
      "cell_type": "code",
      "source": [
        "loaded_1.predict([25.0])"
      ],
      "metadata": {
        "colab": {
          "base_uri": "https://localhost:8080/"
        },
        "id": "aRwwyxvIKO9Z",
        "outputId": "120e5691-ba52-485f-e68d-0198bde62e2e"
      },
      "execution_count": null,
      "outputs": [
        {
          "output_type": "stream",
          "name": "stdout",
          "text": [
            "1/1 [==============================] - 1s 643ms/step\n"
          ]
        },
        {
          "output_type": "execute_result",
          "data": {
            "text/plain": [
              "array([[28.583769]], dtype=float32)"
            ]
          },
          "metadata": {},
          "execution_count": 4
        }
      ]
    },
    {
      "cell_type": "code",
      "source": [
        "loaded_1.summary()"
      ],
      "metadata": {
        "colab": {
          "base_uri": "https://localhost:8080/"
        },
        "id": "rbm93N3aG2Od",
        "outputId": "a9da6a1b-617c-4e22-da89-94a8ba39fdb7"
      },
      "execution_count": null,
      "outputs": [
        {
          "output_type": "stream",
          "name": "stdout",
          "text": [
            "Model: \"sequential_4\"\n",
            "_________________________________________________________________\n",
            " Layer (type)                Output Shape              Param #   \n",
            "=================================================================\n",
            " dense_6 (Dense)             (None, 100)               200       \n",
            "                                                                 \n",
            " dense_7 (Dense)             (None, 75)                7575      \n",
            "                                                                 \n",
            " dense_8 (Dense)             (None, 50)                3800      \n",
            "                                                                 \n",
            " dense_9 (Dense)             (None, 25)                1275      \n",
            "                                                                 \n",
            " dense_10 (Dense)            (None, 1)                 26        \n",
            "                                                                 \n",
            "=================================================================\n",
            "Total params: 12876 (50.30 KB)\n",
            "Trainable params: 12876 (50.30 KB)\n",
            "Non-trainable params: 0 (0.00 Byte)\n",
            "_________________________________________________________________\n"
          ]
        }
      ]
    },
    {
      "cell_type": "markdown",
      "source": [
        "### **Type-2**\n",
        "- Saved in a single file"
      ],
      "metadata": {
        "id": "W3kI9_ViKhro"
      }
    },
    {
      "cell_type": "code",
      "source": [
        "model_1.save(\"/content/drive/MyDrive/Colab Notebooks YouTube tutorials/8 Tensorflow and keras/TF Daniel Bourke/02_Model saving tutorials/saved_model/single_file.h5\")"
      ],
      "metadata": {
        "id": "rhMt6OabKYao"
      },
      "execution_count": null,
      "outputs": []
    },
    {
      "cell_type": "code",
      "source": [
        "loaded_2 = tf.keras.models.load_model('/content/drive/MyDrive/Colab Notebooks YouTube tutorials/8 Tensorflow and keras/TF Daniel Bourke/02_Model saving tutorials/saved_model/single_file.h5')\n",
        "loaded_2.summary()"
      ],
      "metadata": {
        "id": "dWMcrEBBLB-3",
        "colab": {
          "base_uri": "https://localhost:8080/"
        },
        "outputId": "deb41fbb-fdb8-4cfd-d886-50c3c823d36f"
      },
      "execution_count": null,
      "outputs": [
        {
          "output_type": "stream",
          "name": "stdout",
          "text": [
            "Model: \"sequential_4\"\n",
            "_________________________________________________________________\n",
            " Layer (type)                Output Shape              Param #   \n",
            "=================================================================\n",
            " dense_6 (Dense)             (None, 100)               200       \n",
            "                                                                 \n",
            " dense_7 (Dense)             (None, 75)                7575      \n",
            "                                                                 \n",
            " dense_8 (Dense)             (None, 50)                3800      \n",
            "                                                                 \n",
            " dense_9 (Dense)             (None, 25)                1275      \n",
            "                                                                 \n",
            " dense_10 (Dense)            (None, 1)                 26        \n",
            "                                                                 \n",
            "=================================================================\n",
            "Total params: 12876 (50.30 KB)\n",
            "Trainable params: 12876 (50.30 KB)\n",
            "Non-trainable params: 0 (0.00 Byte)\n",
            "_________________________________________________________________\n"
          ]
        }
      ]
    },
    {
      "cell_type": "code",
      "source": [
        "loaded_2.predict([16.0])"
      ],
      "metadata": {
        "colab": {
          "base_uri": "https://localhost:8080/"
        },
        "id": "9plZ27KRHjI9",
        "outputId": "d7732f3f-f78a-48a7-f10a-8bcf2c5c699a"
      },
      "execution_count": null,
      "outputs": [
        {
          "output_type": "stream",
          "name": "stdout",
          "text": [
            "1/1 [==============================] - 0s 162ms/step\n"
          ]
        },
        {
          "output_type": "execute_result",
          "data": {
            "text/plain": [
              "array([[18.636227]], dtype=float32)"
            ]
          },
          "metadata": {},
          "execution_count": 7
        }
      ]
    },
    {
      "cell_type": "code",
      "source": [
        "# Downloading file from colab using colab\n",
        "\n",
        "from google.colab import files\n",
        "files.download('/content/drive/MyDrive/Colab Notebooks YouTube tutorials/8 Tensorflow and keras/TF Daniel Bourke/02_Model saving tutorials/saved_model/single_file.h5')"
      ],
      "metadata": {
        "colab": {
          "base_uri": "https://localhost:8080/",
          "height": 17
        },
        "id": "p7FfoJU8Hntx",
        "outputId": "02181166-4e96-4e2c-b9d2-eebc701f3f6f"
      },
      "execution_count": null,
      "outputs": [
        {
          "output_type": "display_data",
          "data": {
            "text/plain": [
              "<IPython.core.display.Javascript object>"
            ],
            "application/javascript": [
              "\n",
              "    async function download(id, filename, size) {\n",
              "      if (!google.colab.kernel.accessAllowed) {\n",
              "        return;\n",
              "      }\n",
              "      const div = document.createElement('div');\n",
              "      const label = document.createElement('label');\n",
              "      label.textContent = `Downloading \"${filename}\": `;\n",
              "      div.appendChild(label);\n",
              "      const progress = document.createElement('progress');\n",
              "      progress.max = size;\n",
              "      div.appendChild(progress);\n",
              "      document.body.appendChild(div);\n",
              "\n",
              "      const buffers = [];\n",
              "      let downloaded = 0;\n",
              "\n",
              "      const channel = await google.colab.kernel.comms.open(id);\n",
              "      // Send a message to notify the kernel that we're ready.\n",
              "      channel.send({})\n",
              "\n",
              "      for await (const message of channel.messages) {\n",
              "        // Send a message to notify the kernel that we're ready.\n",
              "        channel.send({})\n",
              "        if (message.buffers) {\n",
              "          for (const buffer of message.buffers) {\n",
              "            buffers.push(buffer);\n",
              "            downloaded += buffer.byteLength;\n",
              "            progress.value = downloaded;\n",
              "          }\n",
              "        }\n",
              "      }\n",
              "      const blob = new Blob(buffers, {type: 'application/binary'});\n",
              "      const a = document.createElement('a');\n",
              "      a.href = window.URL.createObjectURL(blob);\n",
              "      a.download = filename;\n",
              "      div.appendChild(a);\n",
              "      a.click();\n",
              "      div.remove();\n",
              "    }\n",
              "  "
            ]
          },
          "metadata": {}
        },
        {
          "output_type": "display_data",
          "data": {
            "text/plain": [
              "<IPython.core.display.Javascript object>"
            ],
            "application/javascript": [
              "download(\"download_3c0611ab-da85-4f80-b7df-ee46217a40da\", \"single_file.h5\", 202536)"
            ]
          },
          "metadata": {}
        }
      ]
    },
    {
      "cell_type": "code",
      "source": [],
      "metadata": {
        "id": "q0rXK7PGN5bg"
      },
      "execution_count": null,
      "outputs": []
    }
  ]
}