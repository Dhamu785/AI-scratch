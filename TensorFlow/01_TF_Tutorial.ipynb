{
  "nbformat": 4,
  "nbformat_minor": 0,
  "metadata": {
    "colab": {
      "provenance": [],
      "authorship_tag": "ABX9TyOjarBsY2nonQkOjwWEfHQf",
      "include_colab_link": true
    },
    "kernelspec": {
      "name": "python3",
      "display_name": "Python 3"
    },
    "language_info": {
      "name": "python"
    }
  },
  "cells": [
    {
      "cell_type": "markdown",
      "metadata": {
        "id": "view-in-github",
        "colab_type": "text"
      },
      "source": [
        "<a href=\"https://colab.research.google.com/github/Dhamu785/AI-scratch/blob/main/TensorFlow/01_TF_Tutorial.ipynb\" target=\"_parent\"><img src=\"https://colab.research.google.com/assets/colab-badge.svg\" alt=\"Open In Colab\"/></a>"
      ]
    },
    {
      "cell_type": "markdown",
      "source": [
        "# **Introduction to Tensors**"
      ],
      "metadata": {
        "id": "NzG9frY538PY"
      }
    },
    {
      "cell_type": "code",
      "execution_count": null,
      "metadata": {
        "id": "BRCCqQyGQrzq",
        "colab": {
          "base_uri": "https://localhost:8080/"
        },
        "outputId": "f64f0daa-0e04-4a48-a61a-5869a69fd3bd"
      },
      "outputs": [
        {
          "output_type": "stream",
          "name": "stdout",
          "text": [
            "2.13.0\n"
          ]
        }
      ],
      "source": [
        "# import tensorflow\n",
        "import tensorflow as tf\n",
        "print(tf.__version__)"
      ]
    },
    {
      "cell_type": "markdown",
      "source": [
        "## **Creating tensors with `tf.constant`**"
      ],
      "metadata": {
        "id": "Cn_5QxTeXBQn"
      }
    },
    {
      "cell_type": "markdown",
      "source": [
        "### **Scalar values**"
      ],
      "metadata": {
        "id": "Mwpd06Al29Sq"
      }
    },
    {
      "cell_type": "code",
      "source": [
        "# Create tensors\n",
        "scalar = tf.constant(7)\n",
        "scalar"
      ],
      "metadata": {
        "colab": {
          "base_uri": "https://localhost:8080/"
        },
        "id": "s3sBnjw31rZK",
        "outputId": "2df67c4b-75fc-428d-d75e-a8d2fcc6e5d9"
      },
      "execution_count": null,
      "outputs": [
        {
          "output_type": "execute_result",
          "data": {
            "text/plain": [
              "<tf.Tensor: shape=(), dtype=int32, numpy=7>"
            ]
          },
          "metadata": {},
          "execution_count": 2
        }
      ]
    },
    {
      "cell_type": "code",
      "source": [
        "print(scalar)\n",
        "print(f\"Dimension: {scalar}\")"
      ],
      "metadata": {
        "colab": {
          "base_uri": "https://localhost:8080/"
        },
        "id": "DuqEuCRP5Q-4",
        "outputId": "9f5de306-06f2-4c12-b44b-7b2520c23e3a"
      },
      "execution_count": null,
      "outputs": [
        {
          "output_type": "stream",
          "name": "stdout",
          "text": [
            "tf.Tensor(7, shape=(), dtype=int32)\n",
            "Dimension: 7\n"
          ]
        }
      ]
    },
    {
      "cell_type": "markdown",
      "source": [
        "### **Vectors**\n",
        "- Dimensionality is calculated based on the no. of square brackets\n",
        "- Vectors are 2D"
      ],
      "metadata": {
        "id": "XMRrTJMDS-au"
      }
    },
    {
      "cell_type": "code",
      "source": [
        "# Single vector value\n",
        "\n",
        "scalar1 = tf.constant([7,45,77])\n",
        "scalar1"
      ],
      "metadata": {
        "colab": {
          "base_uri": "https://localhost:8080/"
        },
        "id": "X37w-2RP2qP-",
        "outputId": "79afb5ba-3f74-41c7-c74d-c6433ea8d09e"
      },
      "execution_count": null,
      "outputs": [
        {
          "output_type": "execute_result",
          "data": {
            "text/plain": [
              "<tf.Tensor: shape=(3,), dtype=int32, numpy=array([ 7, 45, 77], dtype=int32)>"
            ]
          },
          "metadata": {},
          "execution_count": 4
        }
      ]
    },
    {
      "cell_type": "code",
      "source": [
        "print(f\"Shape: {scalar1.shape}\")\n",
        "print(f\"Dimension: {scalar1.ndim}\")"
      ],
      "metadata": {
        "colab": {
          "base_uri": "https://localhost:8080/"
        },
        "id": "J5f_sfzQ20zG",
        "outputId": "fbc3ecfc-d795-4c74-821f-1d1b3370ad6a"
      },
      "execution_count": null,
      "outputs": [
        {
          "output_type": "stream",
          "name": "stdout",
          "text": [
            "Shape: (3,)\n",
            "Dimension: 1\n"
          ]
        }
      ]
    },
    {
      "cell_type": "code",
      "source": [
        "# Two dim vector value\n",
        "\n",
        "vec1 = tf.constant([[10,7,8],[7,10,9],[7,10,9]])\n",
        "vec1"
      ],
      "metadata": {
        "id": "pqVic8u-23Dm",
        "colab": {
          "base_uri": "https://localhost:8080/"
        },
        "outputId": "4bf8f109-56bc-4ad0-8e56-475d8cdc66b5"
      },
      "execution_count": null,
      "outputs": [
        {
          "output_type": "execute_result",
          "data": {
            "text/plain": [
              "<tf.Tensor: shape=(3, 3), dtype=int32, numpy=\n",
              "array([[10,  7,  8],\n",
              "       [ 7, 10,  9],\n",
              "       [ 7, 10,  9]], dtype=int32)>"
            ]
          },
          "metadata": {},
          "execution_count": 6
        }
      ]
    },
    {
      "cell_type": "code",
      "source": [
        "print(f\"Shape: {vec1.shape}\")\n",
        "print(f\"Dimension: {vec1.ndim}\")"
      ],
      "metadata": {
        "colab": {
          "base_uri": "https://localhost:8080/"
        },
        "id": "ut9hK4MCsoSK",
        "outputId": "eceb8d3f-d8ca-41cd-9cd8-0d6d3e3aca9a"
      },
      "execution_count": null,
      "outputs": [
        {
          "output_type": "stream",
          "name": "stdout",
          "text": [
            "Shape: (3, 3)\n",
            "Dimension: 2\n"
          ]
        }
      ]
    },
    {
      "cell_type": "code",
      "source": [
        "# Vector value with dtype\n",
        "\n",
        "vec2 = tf.constant([[1,2,3],[4,5,6],[1,3,5]], dtype=tf.float16)\n",
        "vec2"
      ],
      "metadata": {
        "colab": {
          "base_uri": "https://localhost:8080/"
        },
        "id": "DihSbulrVrFD",
        "outputId": "81700c01-c068-4c26-f6e8-d8f694497022"
      },
      "execution_count": null,
      "outputs": [
        {
          "output_type": "execute_result",
          "data": {
            "text/plain": [
              "<tf.Tensor: shape=(3, 3), dtype=float16, numpy=\n",
              "array([[1., 2., 3.],\n",
              "       [4., 5., 6.],\n",
              "       [1., 3., 5.]], dtype=float16)>"
            ]
          },
          "metadata": {},
          "execution_count": 8
        }
      ]
    },
    {
      "cell_type": "code",
      "source": [
        "print(f\"Dimension: {vec2.ndim}\")"
      ],
      "metadata": {
        "id": "FDxBBDseWYAM",
        "colab": {
          "base_uri": "https://localhost:8080/"
        },
        "outputId": "2df4ab44-76ca-4522-a4fb-18aa4150fcb4"
      },
      "execution_count": null,
      "outputs": [
        {
          "output_type": "stream",
          "name": "stdout",
          "text": [
            "Dimension: 2\n"
          ]
        }
      ]
    },
    {
      "cell_type": "markdown",
      "source": [
        "### **Tensors**"
      ],
      "metadata": {
        "id": "_28Z-v8cti7A"
      }
    },
    {
      "cell_type": "code",
      "source": [
        "tensor1 = tf.constant([[[1,2,3],[4,5,6]]])\n",
        "tensor1"
      ],
      "metadata": {
        "colab": {
          "base_uri": "https://localhost:8080/"
        },
        "id": "bURWkJCSRMqT",
        "outputId": "69984938-30a5-4f49-f0fb-24219973e1ff"
      },
      "execution_count": null,
      "outputs": [
        {
          "output_type": "execute_result",
          "data": {
            "text/plain": [
              "<tf.Tensor: shape=(1, 2, 3), dtype=int32, numpy=\n",
              "array([[[1, 2, 3],\n",
              "        [4, 5, 6]]], dtype=int32)>"
            ]
          },
          "metadata": {},
          "execution_count": 10
        }
      ]
    },
    {
      "cell_type": "code",
      "source": [
        "print(tensor1)\n",
        "print(f\"Dimensions: {tensor1.ndim}\")"
      ],
      "metadata": {
        "colab": {
          "base_uri": "https://localhost:8080/"
        },
        "id": "PS-27XUktbtV",
        "outputId": "2f1250c1-2d83-42dd-9e6c-5979ecf1dadd"
      },
      "execution_count": null,
      "outputs": [
        {
          "output_type": "stream",
          "name": "stdout",
          "text": [
            "tf.Tensor(\n",
            "[[[1 2 3]\n",
            "  [4 5 6]]], shape=(1, 2, 3), dtype=int32)\n",
            "Dimensions: 3\n"
          ]
        }
      ]
    },
    {
      "cell_type": "markdown",
      "source": [
        "## **Creating tensors with `tf.variable`**"
      ],
      "metadata": {
        "id": "n8_xyg9YXEuX"
      }
    },
    {
      "cell_type": "code",
      "source": [
        "## tf.constant is not a changable tensor\n",
        "## tf.variable is a changable tensor\n",
        "\n",
        "changable_tensor = tf.Variable([2,3,5])\n",
        "unchangable_tensor = tf.constant([2,3,5])\n",
        "\n",
        "print(changable_tensor, unchangable_tensor, end='\\n', sep='\\n')\n",
        "print()\n",
        "\n",
        "print(f\"changable_tensor = {changable_tensor[0]}\")\n",
        "print(f\"unchangable_tensor = {unchangable_tensor[1]}\")\n"
      ],
      "metadata": {
        "colab": {
          "base_uri": "https://localhost:8080/"
        },
        "id": "zzM8oAuyXLsE",
        "outputId": "c098f27b-2df7-49fd-c1bf-a11f33da9bc1"
      },
      "execution_count": null,
      "outputs": [
        {
          "output_type": "stream",
          "name": "stdout",
          "text": [
            "<tf.Variable 'Variable:0' shape=(3,) dtype=int32, numpy=array([2, 3, 5], dtype=int32)>\n",
            "tf.Tensor([2 3 5], shape=(3,), dtype=int32)\n",
            "\n",
            "changable_tensor = 2\n",
            "unchangable_tensor = 3\n"
          ]
        }
      ]
    },
    {
      "cell_type": "code",
      "source": [
        "#Try to modify the values in tensor\n",
        "\n",
        "changable_tensor[0].assign(7)\n",
        "print(changable_tensor)\n",
        "changable_tensor"
      ],
      "metadata": {
        "colab": {
          "base_uri": "https://localhost:8080/"
        },
        "id": "hEv-xjEqb4wE",
        "outputId": "7cd8b585-9248-4bf1-8733-012080426fd7"
      },
      "execution_count": null,
      "outputs": [
        {
          "output_type": "stream",
          "name": "stdout",
          "text": [
            "<tf.Variable 'Variable:0' shape=(3,) dtype=int32, numpy=array([7, 3, 5], dtype=int32)>\n"
          ]
        },
        {
          "output_type": "execute_result",
          "data": {
            "text/plain": [
              "<tf.Variable 'Variable:0' shape=(3,) dtype=int32, numpy=array([7, 3, 5], dtype=int32)>"
            ]
          },
          "metadata": {},
          "execution_count": 13
        }
      ]
    },
    {
      "cell_type": "markdown",
      "source": [
        "## **Create random tensors**"
      ],
      "metadata": {
        "id": "AOnVrixYl_8y"
      }
    },
    {
      "cell_type": "code",
      "source": [
        "# Random values with uniform distributions\n",
        "\n",
        "random1 = tf.random.uniform(shape=(3,2))\n",
        "random1"
      ],
      "metadata": {
        "colab": {
          "base_uri": "https://localhost:8080/"
        },
        "id": "eoHj0PiqcjFc",
        "outputId": "caea787d-a761-432f-8110-c1a021362dcf"
      },
      "execution_count": null,
      "outputs": [
        {
          "output_type": "execute_result",
          "data": {
            "text/plain": [
              "<tf.Tensor: shape=(3, 2), dtype=float32, numpy=\n",
              "array([[0.01204789, 0.13359654],\n",
              "       [0.3902341 , 0.18709636],\n",
              "       [0.8433286 , 0.4977907 ]], dtype=float32)>"
            ]
          },
          "metadata": {},
          "execution_count": 14
        }
      ]
    },
    {
      "cell_type": "code",
      "source": [
        "# Random values with normal distribution\n",
        "\n",
        "rdm2 = tf.random.normal(shape = (3,2))\n",
        "print(rdm2)"
      ],
      "metadata": {
        "colab": {
          "base_uri": "https://localhost:8080/"
        },
        "id": "GoIkHUvcnctK",
        "outputId": "8fc1b331-a919-4ff8-d7d5-2deba1cdcbe4"
      },
      "execution_count": null,
      "outputs": [
        {
          "output_type": "stream",
          "name": "stdout",
          "text": [
            "tf.Tensor(\n",
            "[[ 0.13106444 -0.05365121]\n",
            " [ 0.22110713 -0.2858595 ]\n",
            " [-0.41451666  0.5252109 ]], shape=(3, 2), dtype=float32)\n"
          ]
        }
      ]
    },
    {
      "cell_type": "code",
      "source": [
        "# set_seed for reproduceability\n",
        "\n",
        "random2 = tf.random.set_seed(6+2)\n",
        "rdm2 = tf.random.normal(shape = (3,2))\n",
        "rdm2"
      ],
      "metadata": {
        "colab": {
          "base_uri": "https://localhost:8080/"
        },
        "id": "wZKk_vesmQC-",
        "outputId": "4ba09a80-83fa-4330-bb29-e6eb67f8bef3"
      },
      "execution_count": null,
      "outputs": [
        {
          "output_type": "execute_result",
          "data": {
            "text/plain": [
              "<tf.Tensor: shape=(3, 2), dtype=float32, numpy=\n",
              "array([[ 1.2074401, -0.7452462],\n",
              "       [ 0.6908678, -0.7635988],\n",
              "       [-2.4725451,  0.583414 ]], dtype=float32)>"
            ]
          },
          "metadata": {},
          "execution_count": 16
        }
      ]
    },
    {
      "cell_type": "markdown",
      "source": [
        "## **Shuffle the tensors**"
      ],
      "metadata": {
        "id": "hIEZgTpcqktT"
      }
    },
    {
      "cell_type": "code",
      "source": [
        "# Create the tensor\n",
        "tensor1 = tf.constant([[1,2,3],[4,5,6],[7,8,9],[11,12,13]])\n",
        "tensor1"
      ],
      "metadata": {
        "colab": {
          "base_uri": "https://localhost:8080/"
        },
        "id": "YrXkO_zem65t",
        "outputId": "c00d4084-75b1-484a-ab35-23c2c4542711"
      },
      "execution_count": null,
      "outputs": [
        {
          "output_type": "execute_result",
          "data": {
            "text/plain": [
              "<tf.Tensor: shape=(4, 3), dtype=int32, numpy=\n",
              "array([[ 1,  2,  3],\n",
              "       [ 4,  5,  6],\n",
              "       [ 7,  8,  9],\n",
              "       [11, 12, 13]], dtype=int32)>"
            ]
          },
          "metadata": {},
          "execution_count": 17
        }
      ]
    },
    {
      "cell_type": "code",
      "source": [
        "# Shuffle the tensor\n",
        "tf.random.shuffle(tensor1)"
      ],
      "metadata": {
        "colab": {
          "base_uri": "https://localhost:8080/"
        },
        "id": "zSr2oA-Lqx-u",
        "outputId": "95daca49-91a9-460d-8bfc-a4870a71535f"
      },
      "execution_count": null,
      "outputs": [
        {
          "output_type": "execute_result",
          "data": {
            "text/plain": [
              "<tf.Tensor: shape=(4, 3), dtype=int32, numpy=\n",
              "array([[ 7,  8,  9],\n",
              "       [11, 12, 13],\n",
              "       [ 4,  5,  6],\n",
              "       [ 1,  2,  3]], dtype=int32)>"
            ]
          },
          "metadata": {},
          "execution_count": 18
        }
      ]
    },
    {
      "cell_type": "code",
      "source": [
        "# Shuffle tensor with the seed, seed gives the same shuffling\n",
        "tf.random.shuffle(tensor1, seed = tf.random.set_seed(6))"
      ],
      "metadata": {
        "colab": {
          "base_uri": "https://localhost:8080/"
        },
        "id": "luJQBy3Nq89F",
        "outputId": "d571f963-afa1-40f8-8db6-2a5cd0949ce8"
      },
      "execution_count": null,
      "outputs": [
        {
          "output_type": "execute_result",
          "data": {
            "text/plain": [
              "<tf.Tensor: shape=(4, 3), dtype=int32, numpy=\n",
              "array([[ 7,  8,  9],\n",
              "       [ 1,  2,  3],\n",
              "       [11, 12, 13],\n",
              "       [ 4,  5,  6]], dtype=int32)>"
            ]
          },
          "metadata": {},
          "execution_count": 19
        }
      ]
    },
    {
      "cell_type": "markdown",
      "source": [
        "## **Creating tensors with other ways and reshaping**"
      ],
      "metadata": {
        "id": "wIaJKpOn0RiC"
      }
    },
    {
      "cell_type": "code",
      "source": [
        "tensor1 = tf.ones(shape=(5,5))\n",
        "tensor1"
      ],
      "metadata": {
        "colab": {
          "base_uri": "https://localhost:8080/"
        },
        "id": "0QeaM6g1rjhO",
        "outputId": "3fcf3681-293d-40e6-fa57-539e35e66833"
      },
      "execution_count": null,
      "outputs": [
        {
          "output_type": "execute_result",
          "data": {
            "text/plain": [
              "<tf.Tensor: shape=(5, 5), dtype=float32, numpy=\n",
              "array([[1., 1., 1., 1., 1.],\n",
              "       [1., 1., 1., 1., 1.],\n",
              "       [1., 1., 1., 1., 1.],\n",
              "       [1., 1., 1., 1., 1.],\n",
              "       [1., 1., 1., 1., 1.]], dtype=float32)>"
            ]
          },
          "metadata": {},
          "execution_count": 20
        }
      ]
    },
    {
      "cell_type": "code",
      "source": [
        "tensor2 = tf.zeros(shape = (7,7))\n",
        "tensor2"
      ],
      "metadata": {
        "colab": {
          "base_uri": "https://localhost:8080/"
        },
        "id": "bk3t25IuEjx0",
        "outputId": "9d8ac0bf-ae71-46a0-c7b5-6b1f1053eb0e"
      },
      "execution_count": null,
      "outputs": [
        {
          "output_type": "execute_result",
          "data": {
            "text/plain": [
              "<tf.Tensor: shape=(7, 7), dtype=float32, numpy=\n",
              "array([[0., 0., 0., 0., 0., 0., 0.],\n",
              "       [0., 0., 0., 0., 0., 0., 0.],\n",
              "       [0., 0., 0., 0., 0., 0., 0.],\n",
              "       [0., 0., 0., 0., 0., 0., 0.],\n",
              "       [0., 0., 0., 0., 0., 0., 0.],\n",
              "       [0., 0., 0., 0., 0., 0., 0.],\n",
              "       [0., 0., 0., 0., 0., 0., 0.]], dtype=float32)>"
            ]
          },
          "metadata": {},
          "execution_count": 21
        }
      ]
    },
    {
      "cell_type": "code",
      "source": [
        "# Creating tensors with numpy\n",
        "\n",
        "import numpy as np\n",
        "one = np.ones(shape = (1,25))\n",
        "print(one.shape)"
      ],
      "metadata": {
        "colab": {
          "base_uri": "https://localhost:8080/"
        },
        "id": "bvmsToh72L9A",
        "outputId": "691e75c0-867a-49aa-9ac8-1e708861b7c8"
      },
      "execution_count": null,
      "outputs": [
        {
          "output_type": "stream",
          "name": "stdout",
          "text": [
            "(1, 25)\n"
          ]
        }
      ]
    },
    {
      "cell_type": "code",
      "source": [
        "# Tensor conversion\n",
        "\n",
        "tensor3 = tf.constant(one)\n",
        "tensor3"
      ],
      "metadata": {
        "colab": {
          "base_uri": "https://localhost:8080/"
        },
        "id": "O6ZQPhauE1_B",
        "outputId": "1fb806a5-3303-433c-ca16-24d5c5b246cc"
      },
      "execution_count": null,
      "outputs": [
        {
          "output_type": "execute_result",
          "data": {
            "text/plain": [
              "<tf.Tensor: shape=(1, 25), dtype=float64, numpy=\n",
              "array([[1., 1., 1., 1., 1., 1., 1., 1., 1., 1., 1., 1., 1., 1., 1., 1.,\n",
              "        1., 1., 1., 1., 1., 1., 1., 1., 1.]])>"
            ]
          },
          "metadata": {},
          "execution_count": 23
        }
      ]
    },
    {
      "cell_type": "code",
      "source": [
        "tensor4 = tf.constant(value = one, shape = (5,5))\n",
        "tensor4"
      ],
      "metadata": {
        "colab": {
          "base_uri": "https://localhost:8080/"
        },
        "id": "eY6_GtFbFH25",
        "outputId": "b3663d2c-f595-4461-9e65-da42c8a9aaff"
      },
      "execution_count": null,
      "outputs": [
        {
          "output_type": "execute_result",
          "data": {
            "text/plain": [
              "<tf.Tensor: shape=(5, 5), dtype=float64, numpy=\n",
              "array([[1., 1., 1., 1., 1.],\n",
              "       [1., 1., 1., 1., 1.],\n",
              "       [1., 1., 1., 1., 1.],\n",
              "       [1., 1., 1., 1., 1.],\n",
              "       [1., 1., 1., 1., 1.]])>"
            ]
          },
          "metadata": {},
          "execution_count": 24
        }
      ]
    },
    {
      "cell_type": "code",
      "source": [
        "print(f\"Dimension = {tensor4.ndim}\")\n",
        "print(f\"Shape = {tensor4.shape}\")"
      ],
      "metadata": {
        "colab": {
          "base_uri": "https://localhost:8080/"
        },
        "id": "1OzNJu9KFRhx",
        "outputId": "46f7f0a1-5ebb-444d-edd9-b47af08f1ac0"
      },
      "execution_count": null,
      "outputs": [
        {
          "output_type": "stream",
          "name": "stdout",
          "text": [
            "Dimension = 2\n",
            "Shape = (5, 5)\n"
          ]
        }
      ]
    },
    {
      "cell_type": "markdown",
      "source": [
        "## **Getting informations from the tensor**\n",
        "- Shape of the tensor - `shape`\n",
        "- Dimension or Rank of the tensor - `ndim`\n",
        "- Access values in the tensor - `axis`\n",
        "- Returns total no. of values in the tensor - `size`"
      ],
      "metadata": {
        "id": "IzkEWpuDIq6K"
      }
    },
    {
      "cell_type": "code",
      "source": [
        "# Create tensor\n",
        "tensor1 = tf.zeros(shape=(2,5,3,6))\n",
        "tensor1"
      ],
      "metadata": {
        "colab": {
          "base_uri": "https://localhost:8080/"
        },
        "id": "_thqoAD4F7SI",
        "outputId": "20940a8b-7715-4169-fc06-42ef74c1233b"
      },
      "execution_count": null,
      "outputs": [
        {
          "output_type": "execute_result",
          "data": {
            "text/plain": [
              "<tf.Tensor: shape=(2, 5, 3, 6), dtype=float32, numpy=\n",
              "array([[[[0., 0., 0., 0., 0., 0.],\n",
              "         [0., 0., 0., 0., 0., 0.],\n",
              "         [0., 0., 0., 0., 0., 0.]],\n",
              "\n",
              "        [[0., 0., 0., 0., 0., 0.],\n",
              "         [0., 0., 0., 0., 0., 0.],\n",
              "         [0., 0., 0., 0., 0., 0.]],\n",
              "\n",
              "        [[0., 0., 0., 0., 0., 0.],\n",
              "         [0., 0., 0., 0., 0., 0.],\n",
              "         [0., 0., 0., 0., 0., 0.]],\n",
              "\n",
              "        [[0., 0., 0., 0., 0., 0.],\n",
              "         [0., 0., 0., 0., 0., 0.],\n",
              "         [0., 0., 0., 0., 0., 0.]],\n",
              "\n",
              "        [[0., 0., 0., 0., 0., 0.],\n",
              "         [0., 0., 0., 0., 0., 0.],\n",
              "         [0., 0., 0., 0., 0., 0.]]],\n",
              "\n",
              "\n",
              "       [[[0., 0., 0., 0., 0., 0.],\n",
              "         [0., 0., 0., 0., 0., 0.],\n",
              "         [0., 0., 0., 0., 0., 0.]],\n",
              "\n",
              "        [[0., 0., 0., 0., 0., 0.],\n",
              "         [0., 0., 0., 0., 0., 0.],\n",
              "         [0., 0., 0., 0., 0., 0.]],\n",
              "\n",
              "        [[0., 0., 0., 0., 0., 0.],\n",
              "         [0., 0., 0., 0., 0., 0.],\n",
              "         [0., 0., 0., 0., 0., 0.]],\n",
              "\n",
              "        [[0., 0., 0., 0., 0., 0.],\n",
              "         [0., 0., 0., 0., 0., 0.],\n",
              "         [0., 0., 0., 0., 0., 0.]],\n",
              "\n",
              "        [[0., 0., 0., 0., 0., 0.],\n",
              "         [0., 0., 0., 0., 0., 0.],\n",
              "         [0., 0., 0., 0., 0., 0.]]]], dtype=float32)>"
            ]
          },
          "metadata": {},
          "execution_count": 26
        }
      ]
    },
    {
      "cell_type": "code",
      "source": [
        "print(\"Data type = \", tensor1.dtype)\n",
        "print(\"Shape of the tensor is = \", tensor1.shape)\n",
        "print(\"Dimension of the tensor = \", tensor1.ndim)\n",
        "print(\"Total no. of elements in the tensor = \", tf.size(tensor1))\n",
        "print(\"Total no. of elements in the tensor = \", tf.size(tensor1).numpy())\n",
        "\n",
        "print()\n",
        "print(\"Shape of another axis = \", tensor1.shape[1])\n",
        "print(\"Shape of another axis = \", tensor1[1].shape)\n",
        "print(\"Shape of another axis = \", tensor1.shape[-1])"
      ],
      "metadata": {
        "colab": {
          "base_uri": "https://localhost:8080/"
        },
        "id": "31L7rp7uJTY5",
        "outputId": "0bbb39a6-c527-433c-bf2e-774724e8c612"
      },
      "execution_count": null,
      "outputs": [
        {
          "output_type": "stream",
          "name": "stdout",
          "text": [
            "Data type =  <dtype: 'float32'>\n",
            "Shape of the tensor is =  (2, 5, 3, 6)\n",
            "Dimension of the tensor =  4\n",
            "Total no. of elements in the tensor =  tf.Tensor(180, shape=(), dtype=int32)\n",
            "Total no. of elements in the tensor =  180\n",
            "\n",
            "Shape of another axis =  5\n",
            "Shape of another axis =  (5, 3, 6)\n",
            "Shape of another axis =  6\n"
          ]
        }
      ]
    },
    {
      "cell_type": "markdown",
      "source": [
        "## **Indexing the values in the tensors - Adding new axis with `tf.newaxis` & `tf.expand_dims`**"
      ],
      "metadata": {
        "id": "Y_yV_-FOOo6w"
      }
    },
    {
      "cell_type": "code",
      "source": [
        "# Create the tensor\n",
        "tensor1 = tf.random.normal(shape = (2,4,3,4), seed = tf.random.set_seed(4))\n",
        "tensor1"
      ],
      "metadata": {
        "colab": {
          "base_uri": "https://localhost:8080/"
        },
        "id": "e6TS-PXvJ7mS",
        "outputId": "7ea912c3-6848-4502-e6a6-7c264c368210"
      },
      "execution_count": null,
      "outputs": [
        {
          "output_type": "execute_result",
          "data": {
            "text/plain": [
              "<tf.Tensor: shape=(2, 4, 3, 4), dtype=float32, numpy=\n",
              "array([[[[-0.07676513, -0.2082602 ,  1.9333363 ,  1.175166  ],\n",
              "         [ 1.4444144 ,  1.3351023 ,  0.0987538 ,  0.47003892],\n",
              "         [-0.89593434,  0.8269468 , -0.3298544 , -1.6903992 ]],\n",
              "\n",
              "        [[ 2.1704402 , -1.0355538 ,  1.1871556 ,  0.44113445],\n",
              "         [-0.7447429 ,  1.2710264 ,  0.7388742 ,  0.07137717],\n",
              "         [-0.50871074,  0.15399624, -0.5843095 ,  0.24425206]],\n",
              "\n",
              "        [[-0.89614534,  1.2474071 , -0.2823673 , -1.8227786 ],\n",
              "         [ 0.08598502,  0.18523236,  1.0952697 ,  1.0587058 ],\n",
              "         [-1.1825346 ,  0.696092  ,  0.8839624 ,  0.17423686]],\n",
              "\n",
              "        [[-0.16251336, -0.7896537 ,  0.24229203, -0.52675635],\n",
              "         [-0.3140981 , -0.24705702,  0.6397933 , -1.135537  ],\n",
              "         [-1.1032122 ,  1.5286386 ,  0.76228625, -0.3429256 ]]],\n",
              "\n",
              "\n",
              "       [[[-0.06027858, -1.0430243 , -0.1901275 ,  1.3248413 ],\n",
              "         [-1.8228244 ,  1.5238873 ,  1.6719191 ,  0.2202732 ],\n",
              "         [-1.4030557 , -0.10960167,  0.28856477, -0.9165999 ]],\n",
              "\n",
              "        [[ 0.1307732 ,  0.06597125,  1.4527344 ,  0.212181  ],\n",
              "         [ 0.20673676,  0.09271695, -0.6352597 ,  0.09104669],\n",
              "         [-0.62382877, -1.216512  ,  0.37816128,  0.31890702]],\n",
              "\n",
              "        [[ 2.5063648 , -0.7249055 , -1.791455  ,  0.25470743],\n",
              "         [-0.49200574,  0.60151434,  0.47863963, -1.3690668 ],\n",
              "         [ 0.09353257, -1.105776  ,  1.8037181 , -0.9366471 ]],\n",
              "\n",
              "        [[-0.48950797,  1.1198943 ,  0.77913374, -0.12905379],\n",
              "         [ 1.153735  , -1.0266137 ,  0.9464712 ,  0.02036475],\n",
              "         [-1.2927619 , -1.2994449 , -0.9761622 ,  0.13513517]]]],\n",
              "      dtype=float32)>"
            ]
          },
          "metadata": {},
          "execution_count": 28
        }
      ]
    },
    {
      "cell_type": "code",
      "source": [
        "# Indexing\n",
        "\n",
        "tensor1[:2, :2, :2, :2]"
      ],
      "metadata": {
        "colab": {
          "base_uri": "https://localhost:8080/"
        },
        "id": "iVCjpvwsPA4S",
        "outputId": "1f397dc5-8c57-4461-ac11-1381c9955a71"
      },
      "execution_count": null,
      "outputs": [
        {
          "output_type": "execute_result",
          "data": {
            "text/plain": [
              "<tf.Tensor: shape=(2, 2, 2, 2), dtype=float32, numpy=\n",
              "array([[[[-0.07676513, -0.2082602 ],\n",
              "         [ 1.4444144 ,  1.3351023 ]],\n",
              "\n",
              "        [[ 2.1704402 , -1.0355538 ],\n",
              "         [-0.7447429 ,  1.2710264 ]]],\n",
              "\n",
              "\n",
              "       [[[-0.06027858, -1.0430243 ],\n",
              "         [-1.8228244 ,  1.5238873 ]],\n",
              "\n",
              "        [[ 0.1307732 ,  0.06597125],\n",
              "         [ 0.20673676,  0.09271695]]]], dtype=float32)>"
            ]
          },
          "metadata": {},
          "execution_count": 29
        }
      ]
    },
    {
      "cell_type": "code",
      "source": [
        "tensor1[:1, :1, :1]"
      ],
      "metadata": {
        "colab": {
          "base_uri": "https://localhost:8080/"
        },
        "id": "bKiJBC3MPLYa",
        "outputId": "558a3dac-f504-4d3d-a658-b7236ca1a81e"
      },
      "execution_count": null,
      "outputs": [
        {
          "output_type": "execute_result",
          "data": {
            "text/plain": [
              "<tf.Tensor: shape=(1, 1, 1, 4), dtype=float32, numpy=\n",
              "array([[[[-0.07676513, -0.2082602 ,  1.9333363 ,  1.175166  ]]]],\n",
              "      dtype=float32)>"
            ]
          },
          "metadata": {},
          "execution_count": 30
        }
      ]
    },
    {
      "cell_type": "code",
      "source": [
        "# Adding new asix\n",
        "\n",
        "tensor2 = tf.constant([[1,2,3],[4,5,6],[7,8,9]])\n",
        "print(\"Shape = \",tensor2.shape)\n",
        "print(\"Dimension = \",tensor2.ndim)\n"
      ],
      "metadata": {
        "colab": {
          "base_uri": "https://localhost:8080/"
        },
        "id": "dSmUOMtrRi0a",
        "outputId": "9b4098e5-1a94-4413-dc85-e2180555539b"
      },
      "execution_count": null,
      "outputs": [
        {
          "output_type": "stream",
          "name": "stdout",
          "text": [
            "Shape =  (3, 3)\n",
            "Dimension =  2\n"
          ]
        }
      ]
    },
    {
      "cell_type": "code",
      "source": [
        "tensor3 = tensor2[:, tf.newaxis, :]\n",
        "tensor3"
      ],
      "metadata": {
        "colab": {
          "base_uri": "https://localhost:8080/"
        },
        "id": "RClhEzRSTd3T",
        "outputId": "9c1af098-ed3e-43f8-a3e3-946ebd12f819"
      },
      "execution_count": null,
      "outputs": [
        {
          "output_type": "execute_result",
          "data": {
            "text/plain": [
              "<tf.Tensor: shape=(3, 1, 3), dtype=int32, numpy=\n",
              "array([[[1, 2, 3]],\n",
              "\n",
              "       [[4, 5, 6]],\n",
              "\n",
              "       [[7, 8, 9]]], dtype=int32)>"
            ]
          },
          "metadata": {},
          "execution_count": 32
        }
      ]
    },
    {
      "cell_type": "code",
      "source": [
        "tensor3 = tensor2[:, tf.newaxis]\n",
        "tensor3"
      ],
      "metadata": {
        "colab": {
          "base_uri": "https://localhost:8080/"
        },
        "id": "gAEe9Qs8UEGq",
        "outputId": "a2701925-8067-46b4-df0f-67eb4a367df6"
      },
      "execution_count": null,
      "outputs": [
        {
          "output_type": "execute_result",
          "data": {
            "text/plain": [
              "<tf.Tensor: shape=(3, 1, 3), dtype=int32, numpy=\n",
              "array([[[1, 2, 3]],\n",
              "\n",
              "       [[4, 5, 6]],\n",
              "\n",
              "       [[7, 8, 9]]], dtype=int32)>"
            ]
          },
          "metadata": {},
          "execution_count": 33
        }
      ]
    },
    {
      "cell_type": "code",
      "source": [
        "tensor4 = tensor2[tf.newaxis, :,:]\n",
        "tensor4"
      ],
      "metadata": {
        "colab": {
          "base_uri": "https://localhost:8080/"
        },
        "id": "P1oxkmY_Tq88",
        "outputId": "c7b424d4-061b-4e96-f583-8e4368adafa7"
      },
      "execution_count": null,
      "outputs": [
        {
          "output_type": "execute_result",
          "data": {
            "text/plain": [
              "<tf.Tensor: shape=(1, 3, 3), dtype=int32, numpy=\n",
              "array([[[1, 2, 3],\n",
              "        [4, 5, 6],\n",
              "        [7, 8, 9]]], dtype=int32)>"
            ]
          },
          "metadata": {},
          "execution_count": 34
        }
      ]
    },
    {
      "cell_type": "code",
      "source": [
        "tensor5 = tensor2[...,tf.newaxis]\n",
        "tensor5"
      ],
      "metadata": {
        "colab": {
          "base_uri": "https://localhost:8080/"
        },
        "id": "5KJHDAdGUYti",
        "outputId": "8219a4b6-9f04-48a6-ee6b-173a8c0d9b87"
      },
      "execution_count": null,
      "outputs": [
        {
          "output_type": "execute_result",
          "data": {
            "text/plain": [
              "<tf.Tensor: shape=(3, 3, 1), dtype=int32, numpy=\n",
              "array([[[1],\n",
              "        [2],\n",
              "        [3]],\n",
              "\n",
              "       [[4],\n",
              "        [5],\n",
              "        [6]],\n",
              "\n",
              "       [[7],\n",
              "        [8],\n",
              "        [9]]], dtype=int32)>"
            ]
          },
          "metadata": {},
          "execution_count": 35
        }
      ]
    },
    {
      "cell_type": "code",
      "source": [
        "# Alternate for tf.newaxis\n",
        "print(\"Axis = \", tensor2.shape)\n",
        "tf.expand_dims(tensor2, 1)"
      ],
      "metadata": {
        "colab": {
          "base_uri": "https://localhost:8080/"
        },
        "id": "qfC0naVMUoeS",
        "outputId": "881886bd-f375-4763-e4e0-2344a9b8623d"
      },
      "execution_count": null,
      "outputs": [
        {
          "output_type": "stream",
          "name": "stdout",
          "text": [
            "Axis =  (3, 3)\n"
          ]
        },
        {
          "output_type": "execute_result",
          "data": {
            "text/plain": [
              "<tf.Tensor: shape=(3, 1, 3), dtype=int32, numpy=\n",
              "array([[[1, 2, 3]],\n",
              "\n",
              "       [[4, 5, 6]],\n",
              "\n",
              "       [[7, 8, 9]]], dtype=int32)>"
            ]
          },
          "metadata": {},
          "execution_count": 36
        }
      ]
    },
    {
      "cell_type": "markdown",
      "source": [
        "## **Manipualting the tensors with basic operations**\n",
        "- `+`, `-`, `*`, `/`\n",
        "- Use tensorflow function to access the GPU"
      ],
      "metadata": {
        "id": "slkUhjJeW4eV"
      }
    },
    {
      "cell_type": "code",
      "source": [
        "# With normal operators\n",
        "\n",
        "tensor1 = tf.constant([[45,30],[10,20]])\n",
        "print((tensor1 + 10).numpy())"
      ],
      "metadata": {
        "colab": {
          "base_uri": "https://localhost:8080/"
        },
        "id": "VqL5S60fVPoT",
        "outputId": "d165d516-31b2-48d8-ff1f-cf08e9d04f26"
      },
      "execution_count": null,
      "outputs": [
        {
          "output_type": "stream",
          "name": "stdout",
          "text": [
            "[[55 40]\n",
            " [20 30]]\n"
          ]
        }
      ]
    },
    {
      "cell_type": "code",
      "source": [
        "tensor1 - 5"
      ],
      "metadata": {
        "colab": {
          "base_uri": "https://localhost:8080/"
        },
        "id": "BKF-4EsRXs3D",
        "outputId": "4971bd78-3f9a-46d5-e7f8-cec88ef05189"
      },
      "execution_count": null,
      "outputs": [
        {
          "output_type": "execute_result",
          "data": {
            "text/plain": [
              "<tf.Tensor: shape=(2, 2), dtype=int32, numpy=\n",
              "array([[40, 25],\n",
              "       [ 5, 15]], dtype=int32)>"
            ]
          },
          "metadata": {},
          "execution_count": 38
        }
      ]
    },
    {
      "cell_type": "code",
      "source": [
        "tensor1 * 10"
      ],
      "metadata": {
        "colab": {
          "base_uri": "https://localhost:8080/"
        },
        "id": "aVeuIWeBZmfi",
        "outputId": "b7b86d9d-c5d7-4313-a345-977315b02f8a"
      },
      "execution_count": null,
      "outputs": [
        {
          "output_type": "execute_result",
          "data": {
            "text/plain": [
              "<tf.Tensor: shape=(2, 2), dtype=int32, numpy=\n",
              "array([[450, 300],\n",
              "       [100, 200]], dtype=int32)>"
            ]
          },
          "metadata": {},
          "execution_count": 39
        }
      ]
    },
    {
      "cell_type": "code",
      "source": [
        "tensor1 / 10"
      ],
      "metadata": {
        "colab": {
          "base_uri": "https://localhost:8080/"
        },
        "id": "FKIqnXSnZodz",
        "outputId": "3f6950bd-adf4-4fc3-d2e9-31124ef5728a"
      },
      "execution_count": null,
      "outputs": [
        {
          "output_type": "execute_result",
          "data": {
            "text/plain": [
              "<tf.Tensor: shape=(2, 2), dtype=float64, numpy=\n",
              "array([[4.5, 3. ],\n",
              "       [1. , 2. ]])>"
            ]
          },
          "metadata": {},
          "execution_count": 40
        }
      ]
    },
    {
      "cell_type": "code",
      "source": [
        "# With tensorflow functions\n",
        "\n",
        "tf.multiply(tensor1, 10)"
      ],
      "metadata": {
        "colab": {
          "base_uri": "https://localhost:8080/"
        },
        "id": "EAC-OdlyZqqb",
        "outputId": "e28cedcb-f51b-4297-d425-67c12ba882ea"
      },
      "execution_count": null,
      "outputs": [
        {
          "output_type": "execute_result",
          "data": {
            "text/plain": [
              "<tf.Tensor: shape=(2, 2), dtype=int32, numpy=\n",
              "array([[450, 300],\n",
              "       [100, 200]], dtype=int32)>"
            ]
          },
          "metadata": {},
          "execution_count": 41
        }
      ]
    },
    {
      "cell_type": "code",
      "source": [
        "tf.add(tensor1, 10)\n"
      ],
      "metadata": {
        "colab": {
          "base_uri": "https://localhost:8080/"
        },
        "id": "oDHGi4wJZ_6E",
        "outputId": "26115e52-2699-4623-d9a7-2b9294fdb1c1"
      },
      "execution_count": null,
      "outputs": [
        {
          "output_type": "execute_result",
          "data": {
            "text/plain": [
              "<tf.Tensor: shape=(2, 2), dtype=int32, numpy=\n",
              "array([[55, 40],\n",
              "       [20, 30]], dtype=int32)>"
            ]
          },
          "metadata": {},
          "execution_count": 42
        }
      ]
    },
    {
      "cell_type": "code",
      "source": [
        "tf.subtract(tensor1, 10)\n"
      ],
      "metadata": {
        "colab": {
          "base_uri": "https://localhost:8080/"
        },
        "id": "wDbcecubap_C",
        "outputId": "c7854f8c-072b-4325-d9a8-56d49998810c"
      },
      "execution_count": null,
      "outputs": [
        {
          "output_type": "execute_result",
          "data": {
            "text/plain": [
              "<tf.Tensor: shape=(2, 2), dtype=int32, numpy=\n",
              "array([[35, 20],\n",
              "       [ 0, 10]], dtype=int32)>"
            ]
          },
          "metadata": {},
          "execution_count": 43
        }
      ]
    },
    {
      "cell_type": "code",
      "source": [
        "tf.divide(tensor1, 10)\n"
      ],
      "metadata": {
        "colab": {
          "base_uri": "https://localhost:8080/"
        },
        "id": "hBshdDO9asB6",
        "outputId": "7940375e-c1be-4c00-a18d-a77ee795c4d9"
      },
      "execution_count": null,
      "outputs": [
        {
          "output_type": "execute_result",
          "data": {
            "text/plain": [
              "<tf.Tensor: shape=(2, 2), dtype=float64, numpy=\n",
              "array([[4.5, 3. ],\n",
              "       [1. , 2. ]])>"
            ]
          },
          "metadata": {},
          "execution_count": 44
        }
      ]
    },
    {
      "cell_type": "markdown",
      "source": [
        "## **[Matrix multiplication](http://matrixmultiplication.xyz/)**"
      ],
      "metadata": {
        "id": "XD_7ZgsXa3w4"
      }
    },
    {
      "cell_type": "markdown",
      "source": [
        "### **Part-1**"
      ],
      "metadata": {
        "id": "5dattsY0eW0R"
      }
    },
    {
      "cell_type": "code",
      "source": [
        "tensor1 = tf.constant([[3,6],[7,9]])\n",
        "tf.matmul(tensor1, tensor1)"
      ],
      "metadata": {
        "colab": {
          "base_uri": "https://localhost:8080/"
        },
        "id": "WJn-ecZja02C",
        "outputId": "1782c04b-96a5-497f-b0ee-6e71cc2e1e4b"
      },
      "execution_count": null,
      "outputs": [
        {
          "output_type": "execute_result",
          "data": {
            "text/plain": [
              "<tf.Tensor: shape=(2, 2), dtype=int32, numpy=\n",
              "array([[ 51,  72],\n",
              "       [ 84, 123]], dtype=int32)>"
            ]
          },
          "metadata": {},
          "execution_count": 45
        }
      ]
    },
    {
      "cell_type": "code",
      "source": [
        "# Normal multiplication\n",
        "tensor1 * tensor1"
      ],
      "metadata": {
        "colab": {
          "base_uri": "https://localhost:8080/"
        },
        "id": "h8MJrRDimwQ9",
        "outputId": "1ab6240a-9223-4bb5-db81-1740a5ec68b9"
      },
      "execution_count": null,
      "outputs": [
        {
          "output_type": "execute_result",
          "data": {
            "text/plain": [
              "<tf.Tensor: shape=(2, 2), dtype=int32, numpy=\n",
              "array([[ 9, 36],\n",
              "       [49, 81]], dtype=int32)>"
            ]
          },
          "metadata": {},
          "execution_count": 46
        }
      ]
    },
    {
      "cell_type": "code",
      "source": [
        "# '@' used for matrix multiplication in python\n",
        "\n",
        "tensor1 @ tensor1"
      ],
      "metadata": {
        "colab": {
          "base_uri": "https://localhost:8080/"
        },
        "id": "8cbc449Pm_sk",
        "outputId": "c2f0d9cd-fde1-48a3-8740-f7d474d9067e"
      },
      "execution_count": null,
      "outputs": [
        {
          "output_type": "execute_result",
          "data": {
            "text/plain": [
              "<tf.Tensor: shape=(2, 2), dtype=int32, numpy=\n",
              "array([[ 51,  72],\n",
              "       [ 84, 123]], dtype=int32)>"
            ]
          },
          "metadata": {},
          "execution_count": 47
        }
      ]
    },
    {
      "cell_type": "code",
      "source": [
        "import numpy as np\n",
        "np.array([[12,3,4],[33,2,1]]) @ np.array([[12,3,4],[33,2,1],[33,2,1]])"
      ],
      "metadata": {
        "colab": {
          "base_uri": "https://localhost:8080/"
        },
        "id": "Y7bVa8jEnDUd",
        "outputId": "63c67739-10c0-4d64-cacb-4cde2eaf2ccc"
      },
      "execution_count": null,
      "outputs": [
        {
          "output_type": "execute_result",
          "data": {
            "text/plain": [
              "array([[375,  50,  55],\n",
              "       [495, 105, 135]])"
            ]
          },
          "metadata": {},
          "execution_count": 48
        }
      ]
    },
    {
      "cell_type": "markdown",
      "source": [
        "### **Part-2 (Reshaping) `tf.reshape()`, `tf.transpose()`**\n",
        "- row x column\n",
        "- Matrix_1 inner dimension(column) and Matrix_2 outer dimension(row) must match\n",
        "- For eg: 2x3 and 3x2\n",
        "- 3 and 3 are matching. Hence, we can multiply this.\n",
        "- Result of this matrix be 2x2, the outer dimensions  of the input matrix."
      ],
      "metadata": {
        "id": "bK5ed1vheav8"
      }
    },
    {
      "cell_type": "code",
      "source": [
        "x = tf.constant([[1,2,3],[11,4,5]])\n",
        "y = tf.constant([[1,2,9],[3,4,5]])\n",
        "print(x)\n",
        "print()\n",
        "print(y)"
      ],
      "metadata": {
        "id": "F-cvvFtPn3qd",
        "colab": {
          "base_uri": "https://localhost:8080/"
        },
        "outputId": "0c5ecacc-989c-49dd-b2c7-24972b86586c"
      },
      "execution_count": null,
      "outputs": [
        {
          "output_type": "stream",
          "name": "stdout",
          "text": [
            "tf.Tensor(\n",
            "[[ 1  2  3]\n",
            " [11  4  5]], shape=(2, 3), dtype=int32)\n",
            "\n",
            "tf.Tensor(\n",
            "[[1 2 9]\n",
            " [3 4 5]], shape=(2, 3), dtype=int32)\n"
          ]
        }
      ]
    },
    {
      "cell_type": "code",
      "source": [
        "Y = tf.reshape(y, shape = (3,2))\n",
        "Y"
      ],
      "metadata": {
        "colab": {
          "base_uri": "https://localhost:8080/"
        },
        "id": "QFeirCXLewXY",
        "outputId": "8c03474b-d8cf-4349-b150-17a2e1236aa4"
      },
      "execution_count": null,
      "outputs": [
        {
          "output_type": "execute_result",
          "data": {
            "text/plain": [
              "<tf.Tensor: shape=(3, 2), dtype=int32, numpy=\n",
              "array([[1, 2],\n",
              "       [9, 3],\n",
              "       [4, 5]], dtype=int32)>"
            ]
          },
          "metadata": {},
          "execution_count": 57
        }
      ]
    },
    {
      "cell_type": "code",
      "source": [
        "tf.matmul(x,Y)"
      ],
      "metadata": {
        "colab": {
          "base_uri": "https://localhost:8080/"
        },
        "id": "0IyDGXqhf1xq",
        "outputId": "56fcfebc-7303-49e0-e5e2-68655892e326"
      },
      "execution_count": null,
      "outputs": [
        {
          "output_type": "execute_result",
          "data": {
            "text/plain": [
              "<tf.Tensor: shape=(2, 2), dtype=int32, numpy=\n",
              "array([[31, 23],\n",
              "       [67, 59]], dtype=int32)>"
            ]
          },
          "metadata": {},
          "execution_count": 58
        }
      ]
    },
    {
      "cell_type": "code",
      "source": [
        "x, tf.reshape(x, shape = (3,2)), tf.transpose(x)"
      ],
      "metadata": {
        "colab": {
          "base_uri": "https://localhost:8080/"
        },
        "id": "tJgQXYXugC2J",
        "outputId": "b95d1d5e-61b5-448c-e8d9-4ed215c84a75"
      },
      "execution_count": null,
      "outputs": [
        {
          "output_type": "execute_result",
          "data": {
            "text/plain": [
              "(<tf.Tensor: shape=(2, 3), dtype=int32, numpy=\n",
              " array([[ 1,  2,  3],\n",
              "        [11,  4,  5]], dtype=int32)>,\n",
              " <tf.Tensor: shape=(3, 2), dtype=int32, numpy=\n",
              " array([[ 1,  2],\n",
              "        [ 3, 11],\n",
              "        [ 4,  5]], dtype=int32)>,\n",
              " <tf.Tensor: shape=(3, 2), dtype=int32, numpy=\n",
              " array([[ 1, 11],\n",
              "        [ 2,  4],\n",
              "        [ 3,  5]], dtype=int32)>)"
            ]
          },
          "metadata": {},
          "execution_count": 59
        }
      ]
    },
    {
      "cell_type": "markdown",
      "source": [
        "### **Part-3 Transpose and reshape**\n",
        "- Matrix multlipications can be done by\n",
        "    - `tf.matmul()`\n",
        "    - `tf.tensordot()`\n",
        "    - `@`"
      ],
      "metadata": {
        "id": "b58cQOB7mX2x"
      }
    },
    {
      "cell_type": "code",
      "source": [
        "x = tf.constant([[1,2,3],[4,5,6]])\n",
        "y = tf.constant([[1,2,3],[4,5,6]])\n",
        "x,y"
      ],
      "metadata": {
        "colab": {
          "base_uri": "https://localhost:8080/"
        },
        "id": "VRzDl_XxjXzR",
        "outputId": "f8bef454-afc2-4e52-bcc3-4d22f8ffaef8"
      },
      "execution_count": null,
      "outputs": [
        {
          "output_type": "execute_result",
          "data": {
            "text/plain": [
              "(<tf.Tensor: shape=(2, 3), dtype=int32, numpy=\n",
              " array([[1, 2, 3],\n",
              "        [4, 5, 6]], dtype=int32)>,\n",
              " <tf.Tensor: shape=(2, 3), dtype=int32, numpy=\n",
              " array([[1, 2, 3],\n",
              "        [4, 5, 6]], dtype=int32)>)"
            ]
          },
          "metadata": {},
          "execution_count": 61
        }
      ]
    },
    {
      "cell_type": "code",
      "source": [
        "x, tf.reshape(x, shape = (3,2)), tf.transpose(x)"
      ],
      "metadata": {
        "colab": {
          "base_uri": "https://localhost:8080/"
        },
        "id": "ArG8T2Tem5SB",
        "outputId": "f1a22e89-993b-4c83-ff5d-d907f9eac276"
      },
      "execution_count": null,
      "outputs": [
        {
          "output_type": "execute_result",
          "data": {
            "text/plain": [
              "(<tf.Tensor: shape=(2, 3), dtype=int32, numpy=\n",
              " array([[1, 2, 3],\n",
              "        [4, 5, 6]], dtype=int32)>,\n",
              " <tf.Tensor: shape=(3, 2), dtype=int32, numpy=\n",
              " array([[1, 2],\n",
              "        [3, 4],\n",
              "        [5, 6]], dtype=int32)>,\n",
              " <tf.Tensor: shape=(3, 2), dtype=int32, numpy=\n",
              " array([[1, 4],\n",
              "        [2, 5],\n",
              "        [3, 6]], dtype=int32)>)"
            ]
          },
          "metadata": {},
          "execution_count": 62
        }
      ]
    },
    {
      "cell_type": "code",
      "source": [
        "tf.matmul(x, tf.reshape(x, shape = (3,2)))"
      ],
      "metadata": {
        "colab": {
          "base_uri": "https://localhost:8080/"
        },
        "id": "zgFzMUibnJjC",
        "outputId": "8bf345fe-6ece-42d8-9682-c7e5817d0172"
      },
      "execution_count": null,
      "outputs": [
        {
          "output_type": "execute_result",
          "data": {
            "text/plain": [
              "<tf.Tensor: shape=(2, 2), dtype=int32, numpy=\n",
              "array([[22, 28],\n",
              "       [49, 64]], dtype=int32)>"
            ]
          },
          "metadata": {},
          "execution_count": 63
        }
      ]
    },
    {
      "cell_type": "code",
      "source": [
        "tf.matmul(x, tf.transpose(x))\n"
      ],
      "metadata": {
        "colab": {
          "base_uri": "https://localhost:8080/"
        },
        "id": "G_saLRaOnZRi",
        "outputId": "0b9dfc85-eb41-4235-e9ab-ca3fa9b25e12"
      },
      "execution_count": null,
      "outputs": [
        {
          "output_type": "execute_result",
          "data": {
            "text/plain": [
              "<tf.Tensor: shape=(2, 2), dtype=int32, numpy=\n",
              "array([[14, 32],\n",
              "       [32, 77]], dtype=int32)>"
            ]
          },
          "metadata": {},
          "execution_count": 64
        }
      ]
    },
    {
      "cell_type": "code",
      "source": [
        "tf.tensordot(x,tf.transpose(x), axes=1)"
      ],
      "metadata": {
        "colab": {
          "base_uri": "https://localhost:8080/"
        },
        "id": "UvZ-Wsk5nfuJ",
        "outputId": "ea3c90a7-441e-4caf-c501-846818b5ec47"
      },
      "execution_count": null,
      "outputs": [
        {
          "output_type": "execute_result",
          "data": {
            "text/plain": [
              "<tf.Tensor: shape=(2, 2), dtype=int32, numpy=\n",
              "array([[14, 32],\n",
              "       [32, 77]], dtype=int32)>"
            ]
          },
          "metadata": {},
          "execution_count": 68
        }
      ]
    },
    {
      "cell_type": "code",
      "source": [
        "x @ tf.transpose(x)"
      ],
      "metadata": {
        "colab": {
          "base_uri": "https://localhost:8080/"
        },
        "id": "5T-iyyf0nqM5",
        "outputId": "37c6aa13-2b43-4e13-f4cf-d9818687179d"
      },
      "execution_count": null,
      "outputs": [
        {
          "output_type": "execute_result",
          "data": {
            "text/plain": [
              "<tf.Tensor: shape=(2, 2), dtype=int32, numpy=\n",
              "array([[14, 32],\n",
              "       [32, 77]], dtype=int32)>"
            ]
          },
          "metadata": {},
          "execution_count": 69
        }
      ]
    },
    {
      "cell_type": "markdown",
      "source": [
        "## **Type casting - to increase the speed during the training**"
      ],
      "metadata": {
        "id": "x3YQdJSQq5eQ"
      }
    },
    {
      "cell_type": "code",
      "source": [
        "x = tf.constant([[1,2,3]])\n",
        "y = tf.constant([1.0,2.0])\n",
        "x, y"
      ],
      "metadata": {
        "colab": {
          "base_uri": "https://localhost:8080/"
        },
        "id": "a3rmI42IoUMh",
        "outputId": "76da7454-0a33-4221-9d72-5f2835c21224"
      },
      "execution_count": null,
      "outputs": [
        {
          "output_type": "execute_result",
          "data": {
            "text/plain": [
              "(<tf.Tensor: shape=(1, 3), dtype=int32, numpy=array([[1, 2, 3]], dtype=int32)>,\n",
              " <tf.Tensor: shape=(2,), dtype=float32, numpy=array([1., 2.], dtype=float32)>)"
            ]
          },
          "metadata": {},
          "execution_count": 70
        }
      ]
    },
    {
      "cell_type": "code",
      "source": [
        "tf.cast(x, dtype=tf.int16), tf.cast(y, tf.float16), tf.cast(y, tf.int16)"
      ],
      "metadata": {
        "colab": {
          "base_uri": "https://localhost:8080/"
        },
        "id": "pJHei1UcrIkZ",
        "outputId": "4e4cf0c7-8a29-4dcb-a594-3ebd51f05bb1"
      },
      "execution_count": null,
      "outputs": [
        {
          "output_type": "execute_result",
          "data": {
            "text/plain": [
              "(<tf.Tensor: shape=(1, 3), dtype=int16, numpy=array([[1, 2, 3]], dtype=int16)>,\n",
              " <tf.Tensor: shape=(2,), dtype=float16, numpy=array([1., 2.], dtype=float16)>,\n",
              " <tf.Tensor: shape=(2,), dtype=int16, numpy=array([1, 2], dtype=int16)>)"
            ]
          },
          "metadata": {},
          "execution_count": 73
        }
      ]
    },
    {
      "cell_type": "markdown",
      "source": [
        "## **Aggregating tensors**\n",
        "- Finding minimum, maximum, mean, sum, variance and sandard deviations using TF."
      ],
      "metadata": {
        "id": "ylWaCfphuEX1"
      }
    },
    {
      "cell_type": "code",
      "source": [
        "t = tf.constant(np.random.randint(0,100,80))\n",
        "t"
      ],
      "metadata": {
        "colab": {
          "base_uri": "https://localhost:8080/"
        },
        "id": "BRVrGzLnrPEJ",
        "outputId": "250bfa5c-fd29-4bbb-a861-3bb7d2d00cc5"
      },
      "execution_count": null,
      "outputs": [
        {
          "output_type": "execute_result",
          "data": {
            "text/plain": [
              "<tf.Tensor: shape=(80,), dtype=int64, numpy=\n",
              "array([16, 96, 78, 62, 65, 38, 39,  1, 36, 60, 77, 58, 64, 23, 37, 52, 80,\n",
              "       99, 22, 19, 65, 52, 34, 13, 10, 36, 62, 21,  7, 40, 64, 60, 37, 35,\n",
              "       98, 61, 99, 54, 82, 32, 75, 55,  8, 53, 48, 76, 90, 54, 28, 96, 26,\n",
              "       32, 87, 49, 25, 11,  6, 20, 96, 41, 58, 86, 54, 99, 15, 89, 55, 45,\n",
              "       34,  5, 50, 24, 21, 62, 82,  4, 23, 29, 51, 48])>"
            ]
          },
          "metadata": {},
          "execution_count": 74
        }
      ]
    },
    {
      "cell_type": "code",
      "source": [
        "tf.reduce_min(t), tf.reduce_max(t), tf.reduce_sum(t), tf.reduce_mean(t)"
      ],
      "metadata": {
        "colab": {
          "base_uri": "https://localhost:8080/"
        },
        "id": "MAkuH3aguaKZ",
        "outputId": "be132ea9-6293-4282-d51e-03ccc4b5c340"
      },
      "execution_count": null,
      "outputs": [
        {
          "output_type": "execute_result",
          "data": {
            "text/plain": [
              "(<tf.Tensor: shape=(), dtype=int64, numpy=1>,\n",
              " <tf.Tensor: shape=(), dtype=int64, numpy=99>,\n",
              " <tf.Tensor: shape=(), dtype=int64, numpy=3894>,\n",
              " <tf.Tensor: shape=(), dtype=int64, numpy=48>)"
            ]
          },
          "metadata": {},
          "execution_count": 76
        }
      ]
    },
    {
      "cell_type": "code",
      "source": [
        "tf.math.reduce_variance(tf.cast(t, tf.float16)), tf.math.reduce_std(tf.cast(t, tf.float16))"
      ],
      "metadata": {
        "colab": {
          "base_uri": "https://localhost:8080/"
        },
        "id": "foClQdbDwoxp",
        "outputId": "d5e1862e-6cec-476a-96da-cf0659f4436f"
      },
      "execution_count": null,
      "outputs": [
        {
          "output_type": "execute_result",
          "data": {
            "text/plain": [
              "(<tf.Tensor: shape=(), dtype=float16, numpy=741.0>,\n",
              " <tf.Tensor: shape=(), dtype=float16, numpy=27.22>)"
            ]
          },
          "metadata": {},
          "execution_count": 87
        }
      ]
    },
    {
      "cell_type": "code",
      "source": [
        "import tensorflow_probability as tfp\n",
        "\n",
        "tfp.stats.variance(t)"
      ],
      "metadata": {
        "colab": {
          "base_uri": "https://localhost:8080/"
        },
        "id": "gBm7i9SkuhuS",
        "outputId": "dcfd3bfe-8994-4a07-b041-9ff95d0f9e5e"
      },
      "execution_count": null,
      "outputs": [
        {
          "output_type": "execute_result",
          "data": {
            "text/plain": [
              "<tf.Tensor: shape=(), dtype=int64, numpy=741>"
            ]
          },
          "metadata": {},
          "execution_count": 82
        }
      ]
    },
    {
      "cell_type": "code",
      "source": [
        "tfp.stats.stddev(tf.cast(t, tf.float16))"
      ],
      "metadata": {
        "colab": {
          "base_uri": "https://localhost:8080/"
        },
        "id": "t6zsc-yTu1kJ",
        "outputId": "7cd7eb64-ce36-4dc1-8dd8-7d1082a35029"
      },
      "execution_count": null,
      "outputs": [
        {
          "output_type": "execute_result",
          "data": {
            "text/plain": [
              "<tf.Tensor: shape=(), dtype=float16, numpy=27.22>"
            ]
          },
          "metadata": {},
          "execution_count": 88
        }
      ]
    },
    {
      "cell_type": "markdown",
      "source": [
        "## **Finding positional maximum and minimum value in a tensor**"
      ],
      "metadata": {
        "id": "5d8O3uyExmx5"
      }
    },
    {
      "cell_type": "code",
      "source": [
        "t = tf.random.uniform(shape=[50],seed = tf.random.set_seed(42))\n",
        "t"
      ],
      "metadata": {
        "colab": {
          "base_uri": "https://localhost:8080/"
        },
        "id": "u1x0lSn5v69J",
        "outputId": "088b85f0-24db-4daf-ebb4-47b832f5e202"
      },
      "execution_count": null,
      "outputs": [
        {
          "output_type": "execute_result",
          "data": {
            "text/plain": [
              "<tf.Tensor: shape=(50,), dtype=float32, numpy=\n",
              "array([0.6645621 , 0.44100678, 0.3528825 , 0.46448255, 0.03366041,\n",
              "       0.68467236, 0.74011743, 0.8724445 , 0.22632635, 0.22319686,\n",
              "       0.3103881 , 0.7223358 , 0.13318717, 0.5480639 , 0.5746088 ,\n",
              "       0.8996835 , 0.00946367, 0.5212307 , 0.6345445 , 0.1993283 ,\n",
              "       0.72942245, 0.54583454, 0.10756552, 0.6767061 , 0.6602763 ,\n",
              "       0.33695042, 0.60141766, 0.21062577, 0.8527372 , 0.44062173,\n",
              "       0.9485276 , 0.23752594, 0.81179297, 0.5263394 , 0.494308  ,\n",
              "       0.21612847, 0.8457197 , 0.8718841 , 0.3083862 , 0.6868038 ,\n",
              "       0.23764038, 0.7817228 , 0.9671384 , 0.06870162, 0.79873943,\n",
              "       0.66028714, 0.5871513 , 0.16461694, 0.7381023 , 0.32054043],\n",
              "      dtype=float32)>"
            ]
          },
          "metadata": {},
          "execution_count": 91
        }
      ]
    },
    {
      "cell_type": "code",
      "source": [
        "tf.argmax(t)"
      ],
      "metadata": {
        "colab": {
          "base_uri": "https://localhost:8080/"
        },
        "id": "WzA7UF8v2iUq",
        "outputId": "db5feb46-1e08-483a-a798-c874052fb58a"
      },
      "execution_count": null,
      "outputs": [
        {
          "output_type": "execute_result",
          "data": {
            "text/plain": [
              "<tf.Tensor: shape=(), dtype=int64, numpy=42>"
            ]
          },
          "metadata": {},
          "execution_count": 92
        }
      ]
    },
    {
      "cell_type": "code",
      "source": [
        "t[tf.argmax(t)]"
      ],
      "metadata": {
        "colab": {
          "base_uri": "https://localhost:8080/"
        },
        "id": "k40clDXI209A",
        "outputId": "5e1a9aab-e14e-4435-ee8a-99d7ca7f54b4"
      },
      "execution_count": null,
      "outputs": [
        {
          "output_type": "execute_result",
          "data": {
            "text/plain": [
              "<tf.Tensor: shape=(), dtype=float32, numpy=0.9671384>"
            ]
          },
          "metadata": {},
          "execution_count": 93
        }
      ]
    },
    {
      "cell_type": "code",
      "source": [
        "tf.reduce_max(t)"
      ],
      "metadata": {
        "colab": {
          "base_uri": "https://localhost:8080/"
        },
        "id": "RKaCYPyn25rJ",
        "outputId": "0235ed81-8785-4544-f402-2e22da847338"
      },
      "execution_count": null,
      "outputs": [
        {
          "output_type": "execute_result",
          "data": {
            "text/plain": [
              "<tf.Tensor: shape=(), dtype=float32, numpy=0.9671384>"
            ]
          },
          "metadata": {},
          "execution_count": 94
        }
      ]
    },
    {
      "cell_type": "code",
      "source": [
        "assert t[tf.argmax(t)] == tf.reduce_max(t)"
      ],
      "metadata": {
        "id": "G13g6PvJ29W5"
      },
      "execution_count": null,
      "outputs": []
    },
    {
      "cell_type": "code",
      "source": [
        "t[tf.argmin(t)]"
      ],
      "metadata": {
        "colab": {
          "base_uri": "https://localhost:8080/"
        },
        "id": "ODxG70Ab3Pb6",
        "outputId": "70f24142-fc26-4d1e-ded6-e3e4981003ce"
      },
      "execution_count": null,
      "outputs": [
        {
          "output_type": "execute_result",
          "data": {
            "text/plain": [
              "<tf.Tensor: shape=(), dtype=float32, numpy=0.009463668>"
            ]
          },
          "metadata": {},
          "execution_count": 97
        }
      ]
    },
    {
      "cell_type": "code",
      "source": [
        "tf.reduce_min(t)"
      ],
      "metadata": {
        "colab": {
          "base_uri": "https://localhost:8080/"
        },
        "id": "2dy0Wlnr3Tzp",
        "outputId": "b0f0092e-2309-405e-8d3d-8a00d029dba2"
      },
      "execution_count": null,
      "outputs": [
        {
          "output_type": "execute_result",
          "data": {
            "text/plain": [
              "<tf.Tensor: shape=(), dtype=float32, numpy=0.009463668>"
            ]
          },
          "metadata": {},
          "execution_count": 98
        }
      ]
    },
    {
      "cell_type": "markdown",
      "source": [
        "## **Squeezing the dimensions**"
      ],
      "metadata": {
        "id": "8Kf3KBxg4ZnR"
      }
    },
    {
      "cell_type": "code",
      "source": [
        "t = tf.constant(tf.random.uniform([50]), shape = (2,1,1,25))\n",
        "t"
      ],
      "metadata": {
        "colab": {
          "base_uri": "https://localhost:8080/"
        },
        "id": "MtERubsK3ZNA",
        "outputId": "68ff9d53-65ab-456e-de1d-cc483a2f5a6e"
      },
      "execution_count": null,
      "outputs": [
        {
          "output_type": "execute_result",
          "data": {
            "text/plain": [
              "<tf.Tensor: shape=(2, 1, 1, 25), dtype=float32, numpy=\n",
              "array([[[[0.803156  , 0.49777734, 0.37054038, 0.9118674 , 0.637642  ,\n",
              "          0.18209696, 0.63791955, 0.27701473, 0.04227114, 0.84219384,\n",
              "          0.90637195, 0.222556  , 0.9198462 , 0.68789077, 0.42705178,\n",
              "          0.878158  , 0.6943959 , 0.46567595, 0.52925766, 0.33019018,\n",
              "          0.12754858, 0.16153514, 0.5085137 , 0.44301772, 0.35205877]]],\n",
              "\n",
              "\n",
              "       [[[0.8969147 , 0.24940813, 0.76328313, 0.85935795, 0.08480155,\n",
              "          0.20418596, 0.28848922, 0.65142167, 0.7106751 , 0.8695041 ,\n",
              "          0.23745108, 0.6688912 , 0.7115667 , 0.21899498, 0.7702793 ,\n",
              "          0.45055628, 0.95493364, 0.71695936, 0.98945487, 0.1511141 ,\n",
              "          0.06240606, 0.15209746, 0.99522185, 0.7830266 , 0.10455871]]]],\n",
              "      dtype=float32)>"
            ]
          },
          "metadata": {},
          "execution_count": 103
        }
      ]
    },
    {
      "cell_type": "code",
      "source": [
        "tf.squeeze(t)"
      ],
      "metadata": {
        "colab": {
          "base_uri": "https://localhost:8080/"
        },
        "id": "zumFakZg4kCR",
        "outputId": "0c8d5736-bd6d-4ef6-b64e-7c69c088ca2f"
      },
      "execution_count": null,
      "outputs": [
        {
          "output_type": "execute_result",
          "data": {
            "text/plain": [
              "<tf.Tensor: shape=(2, 25), dtype=float32, numpy=\n",
              "array([[0.803156  , 0.49777734, 0.37054038, 0.9118674 , 0.637642  ,\n",
              "        0.18209696, 0.63791955, 0.27701473, 0.04227114, 0.84219384,\n",
              "        0.90637195, 0.222556  , 0.9198462 , 0.68789077, 0.42705178,\n",
              "        0.878158  , 0.6943959 , 0.46567595, 0.52925766, 0.33019018,\n",
              "        0.12754858, 0.16153514, 0.5085137 , 0.44301772, 0.35205877],\n",
              "       [0.8969147 , 0.24940813, 0.76328313, 0.85935795, 0.08480155,\n",
              "        0.20418596, 0.28848922, 0.65142167, 0.7106751 , 0.8695041 ,\n",
              "        0.23745108, 0.6688912 , 0.7115667 , 0.21899498, 0.7702793 ,\n",
              "        0.45055628, 0.95493364, 0.71695936, 0.98945487, 0.1511141 ,\n",
              "        0.06240606, 0.15209746, 0.99522185, 0.7830266 , 0.10455871]],\n",
              "      dtype=float32)>"
            ]
          },
          "metadata": {},
          "execution_count": 104
        }
      ]
    },
    {
      "cell_type": "markdown",
      "source": [
        "## **One-hot encoding**"
      ],
      "metadata": {
        "id": "G4NqQYWT5NvJ"
      }
    },
    {
      "cell_type": "code",
      "source": [
        "a = [1,2,3]\n",
        "tf.one_hot(a, depth=4)"
      ],
      "metadata": {
        "colab": {
          "base_uri": "https://localhost:8080/"
        },
        "id": "QlTC7u1R4w3A",
        "outputId": "bfc63a12-4e46-49ad-e423-390054a565ef"
      },
      "execution_count": null,
      "outputs": [
        {
          "output_type": "execute_result",
          "data": {
            "text/plain": [
              "<tf.Tensor: shape=(3, 4), dtype=float32, numpy=\n",
              "array([[0., 1., 0., 0.],\n",
              "       [0., 0., 1., 0.],\n",
              "       [0., 0., 0., 1.]], dtype=float32)>"
            ]
          },
          "metadata": {},
          "execution_count": 106
        }
      ]
    },
    {
      "cell_type": "code",
      "source": [
        "tf.one_hot(a, depth=4, on_value=\"ON\", off_value=\"off\")"
      ],
      "metadata": {
        "colab": {
          "base_uri": "https://localhost:8080/"
        },
        "id": "P_puYfOQ6w8q",
        "outputId": "aed27da5-963f-437c-d2ec-caf1549bf454"
      },
      "execution_count": null,
      "outputs": [
        {
          "output_type": "execute_result",
          "data": {
            "text/plain": [
              "<tf.Tensor: shape=(3, 4), dtype=string, numpy=\n",
              "array([[b'off', b'ON', b'off', b'off'],\n",
              "       [b'off', b'off', b'ON', b'off'],\n",
              "       [b'off', b'off', b'off', b'ON']], dtype=object)>"
            ]
          },
          "metadata": {},
          "execution_count": 108
        }
      ]
    },
    {
      "cell_type": "markdown",
      "source": [
        "## **Other math operations**\n",
        "- Square, Square root and log"
      ],
      "metadata": {
        "id": "_6lVamxy8HJq"
      }
    },
    {
      "cell_type": "code",
      "source": [
        "t = tf.range(10)\n",
        "t"
      ],
      "metadata": {
        "colab": {
          "base_uri": "https://localhost:8080/"
        },
        "id": "0WOjpN6h68O5",
        "outputId": "d58ca234-10c0-4612-c367-b614727f5770"
      },
      "execution_count": null,
      "outputs": [
        {
          "output_type": "execute_result",
          "data": {
            "text/plain": [
              "<tf.Tensor: shape=(10,), dtype=int32, numpy=array([0, 1, 2, 3, 4, 5, 6, 7, 8, 9], dtype=int32)>"
            ]
          },
          "metadata": {},
          "execution_count": 110
        }
      ]
    },
    {
      "cell_type": "code",
      "source": [
        "tf.square(t)"
      ],
      "metadata": {
        "colab": {
          "base_uri": "https://localhost:8080/"
        },
        "id": "uqfiMLYZ8THY",
        "outputId": "6559e992-c8b8-47b1-d921-6f15a63a4d1b"
      },
      "execution_count": null,
      "outputs": [
        {
          "output_type": "execute_result",
          "data": {
            "text/plain": [
              "<tf.Tensor: shape=(10,), dtype=int32, numpy=array([ 0,  1,  4,  9, 16, 25, 36, 49, 64, 81], dtype=int32)>"
            ]
          },
          "metadata": {},
          "execution_count": 111
        }
      ]
    },
    {
      "cell_type": "code",
      "source": [
        "tf.sqrt(tf.cast(t, tf.float16))"
      ],
      "metadata": {
        "colab": {
          "base_uri": "https://localhost:8080/"
        },
        "id": "CpstACav8Y5Z",
        "outputId": "4c383d82-e236-4c70-aa92-d95dbae21fd5"
      },
      "execution_count": null,
      "outputs": [
        {
          "output_type": "execute_result",
          "data": {
            "text/plain": [
              "<tf.Tensor: shape=(10,), dtype=float16, numpy=\n",
              "array([0.   , 1.   , 1.414, 1.732, 2.   , 2.236, 2.45 , 2.646, 2.828,\n",
              "       3.   ], dtype=float16)>"
            ]
          },
          "metadata": {},
          "execution_count": 112
        }
      ]
    },
    {
      "cell_type": "code",
      "source": [
        "tf.math.log(tf.cast(t, tf.float16))"
      ],
      "metadata": {
        "colab": {
          "base_uri": "https://localhost:8080/"
        },
        "id": "P7nhr3sW8eAB",
        "outputId": "0b2fc0cb-301d-4274-8023-43fec20ccc6b"
      },
      "execution_count": null,
      "outputs": [
        {
          "output_type": "execute_result",
          "data": {
            "text/plain": [
              "<tf.Tensor: shape=(10,), dtype=float16, numpy=\n",
              "array([  -inf, 0.    , 0.6934, 1.099 , 1.387 , 1.609 , 1.792 , 1.946 ,\n",
              "       2.08  , 2.197 ], dtype=float16)>"
            ]
          },
          "metadata": {},
          "execution_count": 114
        }
      ]
    },
    {
      "cell_type": "markdown",
      "source": [
        "## **Tensors and NumPy**"
      ],
      "metadata": {
        "id": "UWVHDS5R-lzF"
      }
    },
    {
      "cell_type": "code",
      "source": [
        "# Creating tensors by numpy array and python list\n",
        "\n",
        "a = tf.constant(np.array([1.0,2.0,3.0]))\n",
        "b = tf.constant([1.0,2.0,3.0])\n",
        "a, a.dtype, b, b.dtype"
      ],
      "metadata": {
        "colab": {
          "base_uri": "https://localhost:8080/"
        },
        "id": "aij8PeBN8jCy",
        "outputId": "e88fe8f2-fa8a-4915-d91b-b7c066613ff8"
      },
      "execution_count": null,
      "outputs": [
        {
          "output_type": "execute_result",
          "data": {
            "text/plain": [
              "(<tf.Tensor: shape=(3,), dtype=float64, numpy=array([1., 2., 3.])>,\n",
              " tf.float64,\n",
              " <tf.Tensor: shape=(3,), dtype=float32, numpy=array([1., 2., 3.], dtype=float32)>,\n",
              " tf.float32)"
            ]
          },
          "metadata": {},
          "execution_count": 115
        }
      ]
    },
    {
      "cell_type": "code",
      "source": [
        "# Converting tensors to numpy\n",
        "\n",
        "a.numpy(), type(a.numpy())"
      ],
      "metadata": {
        "colab": {
          "base_uri": "https://localhost:8080/"
        },
        "id": "VdTH5NHc-1Fp",
        "outputId": "82fd9d92-f2fe-4429-8eee-46fc3d6cbbe2"
      },
      "execution_count": null,
      "outputs": [
        {
          "output_type": "execute_result",
          "data": {
            "text/plain": [
              "(array([1., 2., 3.]), numpy.ndarray)"
            ]
          },
          "metadata": {},
          "execution_count": 117
        }
      ]
    },
    {
      "cell_type": "code",
      "source": [
        "np.array(a), type(np.array(a))"
      ],
      "metadata": {
        "colab": {
          "base_uri": "https://localhost:8080/"
        },
        "id": "Eeys6WwH_M7y",
        "outputId": "db63b3b4-c682-40cb-c6b8-754054384899"
      },
      "execution_count": null,
      "outputs": [
        {
          "output_type": "execute_result",
          "data": {
            "text/plain": [
              "(array([1., 2., 3.]), numpy.ndarray)"
            ]
          },
          "metadata": {},
          "execution_count": 118
        }
      ]
    },
    {
      "cell_type": "code",
      "source": [],
      "metadata": {
        "id": "Y532MHfn_VEZ"
      },
      "execution_count": null,
      "outputs": []
    }
  ]
}