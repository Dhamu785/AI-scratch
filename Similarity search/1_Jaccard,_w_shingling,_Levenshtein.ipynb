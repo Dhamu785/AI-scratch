{
  "nbformat": 4,
  "nbformat_minor": 0,
  "metadata": {
    "colab": {
      "provenance": [],
      "authorship_tag": "ABX9TyPeSEcLZvk0LEMTmJZ11l7z",
      "include_colab_link": true
    },
    "kernelspec": {
      "name": "python3",
      "display_name": "Python 3"
    },
    "language_info": {
      "name": "python"
    }
  },
  "cells": [
    {
      "cell_type": "markdown",
      "metadata": {
        "id": "view-in-github",
        "colab_type": "text"
      },
      "source": [
        "<a href=\"https://colab.research.google.com/github/Dhamu785/AI-scratch/blob/main/Similarity%20search/1_Jaccard%2C_w_shingling%2C_Levenshtein.ipynb\" target=\"_parent\"><img src=\"https://colab.research.google.com/assets/colab-badge.svg\" alt=\"Open In Colab\"/></a>"
      ]
    },
    {
      "cell_type": "code",
      "execution_count": 1,
      "metadata": {
        "id": "uMsNrvAD5mVT"
      },
      "outputs": [],
      "source": [
        "import pandas as pd\n",
        "import numpy as np"
      ]
    },
    {
      "cell_type": "markdown",
      "source": [
        "# **Find similarity between two vectors**\n",
        "- Jaccard\n",
        "- W-Shingling\n",
        "- Levenshtein - It is used to compare two string\n",
        "\n",
        "The above mentioned are the oldest method for finding similarity vectors.\n",
        "## **Jaccard**"
      ],
      "metadata": {
        "id": "jh1dPAGO7Wcn"
      }
    },
    {
      "cell_type": "code",
      "source": [
        "def jaccard(val1:str, val2:str):\n",
        "    a = set(val1.split())\n",
        "    b = set(val2.split())\n",
        "    inter = a.intersection(b)\n",
        "    un = a.union(b)\n",
        "    return len(inter) / len(un)"
      ],
      "metadata": {
        "id": "oYTSpnFj5wxS"
      },
      "execution_count": 2,
      "outputs": []
    },
    {
      "cell_type": "code",
      "source": [
        "jaccard('1 2 3', '1 5 2')"
      ],
      "metadata": {
        "colab": {
          "base_uri": "https://localhost:8080/"
        },
        "id": "muBaC-cy6Bbj",
        "outputId": "08550ede-86b1-47db-d4a9-e445ceff0fd6"
      },
      "execution_count": 3,
      "outputs": [
        {
          "output_type": "execute_result",
          "data": {
            "text/plain": [
              "0.5"
            ]
          },
          "metadata": {},
          "execution_count": 3
        }
      ]
    },
    {
      "cell_type": "markdown",
      "source": [
        "## **W-Shingling**"
      ],
      "metadata": {
        "id": "Au-aNjmxO1Zl"
      }
    },
    {
      "cell_type": "code",
      "source": [
        "a = \"his thought process was on so many levels that he gave himself a phobia of heights\".split()\n",
        "b = \"there is an art to getting your way and throwing bananas on to the street is not it\".split()\n",
        "c = \"it is not often you find soggy bananas on the street\".split()"
      ],
      "metadata": {
        "id": "FGd6mxqw67FL"
      },
      "execution_count": 4,
      "outputs": []
    },
    {
      "cell_type": "code",
      "source": [
        "k = 2\n",
        "a_shin = set([' '.join([a[i],a[i+1]]) for i in range(len(a)-k+1)])\n",
        "b_shin = set([' '.join([b[i],b[i+1]]) for i in range(len(b)-k+1)])\n",
        "c_shin = set([' '.join([c[i],c[i+1]]) for i in range(len(c)-k+1)])\n",
        "\n",
        "print(a_shin, c_shin)"
      ],
      "metadata": {
        "colab": {
          "base_uri": "https://localhost:8080/"
        },
        "id": "9K0PTYo3DQOy",
        "outputId": "44f2a393-621b-4a51-b96d-5b4f34f1cb6c"
      },
      "execution_count": 5,
      "outputs": [
        {
          "output_type": "stream",
          "name": "stdout",
          "text": [
            "{'on so', 'his thought', 'many levels', 'levels that', 'himself a', 'phobia of', 'gave himself', 'that he', 'a phobia', 'he gave', 'so many', 'of heights', 'thought process', 'process was', 'was on'} {'you find', 'find soggy', 'bananas on', 'soggy bananas', 'on the', 'not often', 'is not', 'it is', 'often you', 'the street'}\n"
          ]
        }
      ]
    },
    {
      "cell_type": "code",
      "source": [
        "b_shin"
      ],
      "metadata": {
        "colab": {
          "base_uri": "https://localhost:8080/"
        },
        "id": "6qUh5QpxFIZQ",
        "outputId": "fb9f7660-597d-4557-db8f-14f017377e08"
      },
      "execution_count": 10,
      "outputs": [
        {
          "output_type": "execute_result",
          "data": {
            "text/plain": [
              "{'an art',\n",
              " 'and throwing',\n",
              " 'art to',\n",
              " 'bananas on',\n",
              " 'getting your',\n",
              " 'is an',\n",
              " 'is not',\n",
              " 'not it',\n",
              " 'on to',\n",
              " 'street is',\n",
              " 'the street',\n",
              " 'there is',\n",
              " 'throwing bananas',\n",
              " 'to getting',\n",
              " 'to the',\n",
              " 'way and',\n",
              " 'your way'}"
            ]
          },
          "metadata": {},
          "execution_count": 10
        }
      ]
    },
    {
      "cell_type": "code",
      "source": [
        "c_shin"
      ],
      "metadata": {
        "colab": {
          "base_uri": "https://localhost:8080/"
        },
        "id": "rJUuRgR6FLS9",
        "outputId": "ac3ce546-6e1a-4eaa-b6a1-c7be37e2f756"
      },
      "execution_count": 11,
      "outputs": [
        {
          "output_type": "execute_result",
          "data": {
            "text/plain": [
              "{'bananas on',\n",
              " 'find soggy',\n",
              " 'is not',\n",
              " 'it is',\n",
              " 'not often',\n",
              " 'often you',\n",
              " 'on the',\n",
              " 'soggy bananas',\n",
              " 'the street',\n",
              " 'you find'}"
            ]
          },
          "metadata": {},
          "execution_count": 11
        }
      ]
    },
    {
      "cell_type": "code",
      "source": [
        "b_shin.intersection(c_shin)"
      ],
      "metadata": {
        "colab": {
          "base_uri": "https://localhost:8080/"
        },
        "id": "UUD9t1S7Db6r",
        "outputId": "992b3069-8fdb-4325-8f8c-1ef96df191f2"
      },
      "execution_count": 6,
      "outputs": [
        {
          "output_type": "execute_result",
          "data": {
            "text/plain": [
              "{'bananas on', 'is not', 'the street'}"
            ]
          },
          "metadata": {},
          "execution_count": 6
        }
      ]
    },
    {
      "cell_type": "code",
      "source": [
        "str(b_shin)"
      ],
      "metadata": {
        "colab": {
          "base_uri": "https://localhost:8080/",
          "height": 53
        },
        "id": "U4ksotZ2P-nN",
        "outputId": "b70012a2-8c5e-4b22-8c96-7b2381be55a6"
      },
      "execution_count": 7,
      "outputs": [
        {
          "output_type": "execute_result",
          "data": {
            "text/plain": [
              "\"{'street is', 'to getting', 'bananas on', 'an art', 'is an', 'your way', 'throwing bananas', 'is not', 'and throwing', 'not it', 'way and', 'art to', 'getting your', 'to the', 'the street', 'on to', 'there is'}\""
            ],
            "application/vnd.google.colaboratory.intrinsic+json": {
              "type": "string"
            }
          },
          "metadata": {},
          "execution_count": 7
        }
      ]
    },
    {
      "cell_type": "code",
      "source": [
        "def jac(a,b):\n",
        "    return len(a.intersection(b)) / len(a.union(b))"
      ],
      "metadata": {
        "id": "4k30Sun1QHk5"
      },
      "execution_count": 8,
      "outputs": []
    },
    {
      "cell_type": "code",
      "source": [
        "jac(b_shin, c_shin)"
      ],
      "metadata": {
        "colab": {
          "base_uri": "https://localhost:8080/"
        },
        "id": "iiP1UUKrPWK6",
        "outputId": "35af0e84-ebae-4119-f683-28b9570fdb99"
      },
      "execution_count": 9,
      "outputs": [
        {
          "output_type": "execute_result",
          "data": {
            "text/plain": [
              "0.125"
            ]
          },
          "metadata": {},
          "execution_count": 9
        }
      ]
    },
    {
      "cell_type": "code",
      "source": [],
      "metadata": {
        "id": "X3h3FzJyPvcx"
      },
      "execution_count": null,
      "outputs": []
    }
  ]
}