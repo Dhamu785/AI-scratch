{
  "nbformat": 4,
  "nbformat_minor": 0,
  "metadata": {
    "colab": {
      "provenance": [],
      "gpuType": "T4",
      "authorship_tag": "ABX9TyPRycyaKmoc/vxugB626NHB",
      "include_colab_link": true
    },
    "kernelspec": {
      "name": "python3",
      "display_name": "Python 3"
    },
    "language_info": {
      "name": "python"
    },
    "accelerator": "GPU"
  },
  "cells": [
    {
      "cell_type": "markdown",
      "metadata": {
        "id": "view-in-github",
        "colab_type": "text"
      },
      "source": [
        "<a href=\"https://colab.research.google.com/github/Dhamu785/AI-scratch/blob/main/Image_processing/Autoencoders/01_Image_enhancement.ipynb\" target=\"_parent\"><img src=\"https://colab.research.google.com/assets/colab-badge.svg\" alt=\"Open In Colab\"/></a>"
      ]
    },
    {
      "cell_type": "code",
      "execution_count": 1,
      "metadata": {
        "id": "OlJ4sPIfKfI_"
      },
      "outputs": [],
      "source": [
        "import numpy as np\n",
        "import matplotlib.pyplot as plt\n",
        "import cv2\n",
        "from skimage.util import random_noise\n",
        "\n",
        "import tensorflow as tf\n",
        "from tensorflow.keras import Sequential\n",
        "from tensorflow.keras import layers\n",
        "from tensorflow.keras.datasets import mnist"
      ]
    },
    {
      "cell_type": "markdown",
      "source": [
        "## **Loading data**"
      ],
      "metadata": {
        "id": "EKFIDcq-iHAM"
      }
    },
    {
      "cell_type": "code",
      "source": [
        "(x_train_i, y_train_i), (x_test_i, y_test_i) = mnist.load_data()\n",
        "\n",
        "len(x_train_i), len(y_train_i), len(x_test_i), len(y_test_i)"
      ],
      "metadata": {
        "colab": {
          "base_uri": "https://localhost:8080/"
        },
        "id": "0MSp0HZNZMoN",
        "outputId": "8adf5dc9-2b20-4997-e1a9-f351b186c2a4"
      },
      "execution_count": 2,
      "outputs": [
        {
          "output_type": "stream",
          "name": "stdout",
          "text": [
            "Downloading data from https://storage.googleapis.com/tensorflow/tf-keras-datasets/mnist.npz\n",
            "11490434/11490434 [==============================] - 0s 0us/step\n"
          ]
        },
        {
          "output_type": "execute_result",
          "data": {
            "text/plain": [
              "(60000, 60000, 10000, 10000)"
            ]
          },
          "metadata": {},
          "execution_count": 2
        }
      ]
    },
    {
      "cell_type": "code",
      "source": [
        "x_train_i = x_train_i.astype('float32') / 255.0\n",
        "x_test_i = x_test_i.astype('float32') / 255.0"
      ],
      "metadata": {
        "id": "2qbScc9adS1g"
      },
      "execution_count": 3,
      "outputs": []
    },
    {
      "cell_type": "code",
      "source": [
        "x_train_i.shape"
      ],
      "metadata": {
        "colab": {
          "base_uri": "https://localhost:8080/"
        },
        "id": "m3b1ymGUc7EN",
        "outputId": "34d84de7-30e8-46f3-96de-f5a44dc72206"
      },
      "execution_count": 4,
      "outputs": [
        {
          "output_type": "execute_result",
          "data": {
            "text/plain": [
              "(60000, 28, 28)"
            ]
          },
          "metadata": {},
          "execution_count": 4
        }
      ]
    },
    {
      "cell_type": "code",
      "source": [
        "x_train_reshaped = np.reshape(x_train_i, (-1,28,28,1))\n",
        "x_test_reshaped = np.reshape(x_test_i, (-1,28,28,1))\n",
        "\n",
        "x_train_reshaped.shape, x_test_reshaped.shape"
      ],
      "metadata": {
        "colab": {
          "base_uri": "https://localhost:8080/"
        },
        "id": "jbNjSZIFdIW3",
        "outputId": "ae95c912-7f55-43c4-e3cd-deb10f6fda42"
      },
      "execution_count": 5,
      "outputs": [
        {
          "output_type": "execute_result",
          "data": {
            "text/plain": [
              "((60000, 28, 28, 1), (10000, 28, 28, 1))"
            ]
          },
          "metadata": {},
          "execution_count": 5
        }
      ]
    },
    {
      "cell_type": "code",
      "source": [
        "plt.matshow(x_test_reshaped[1], cmap='gray')\n",
        "plt.show()"
      ],
      "metadata": {
        "colab": {
          "base_uri": "https://localhost:8080/",
          "height": 437
        },
        "id": "8MIkIXU4gOKo",
        "outputId": "998c7c77-86bf-4c58-84ad-6a91db4decca"
      },
      "execution_count": 6,
      "outputs": [
        {
          "output_type": "display_data",
          "data": {
            "text/plain": [
              "<Figure size 480x480 with 1 Axes>"
            ],
            "image/png": "[encoded data removed]"
          },
          "metadata": {}
        }
      ]
    },
    {
      "cell_type": "markdown",
      "source": [
        "## **Adding noise**"
      ],
      "metadata": {
        "id": "16PJRqO_1ceU"
      }
    },
    {
      "cell_type": "code",
      "source": [
        "noise_factor = 0.3\n",
        "x_train_noisy_i = x_train_reshaped + noise_factor * np.random.normal(loc=0.0, scale=1.0, size=x_train_reshaped.shape)\n",
        "x_test_noisy_i = x_test_reshaped + noise_factor * np.random.normal(loc=0.0, scale=1.0, size=x_test_reshaped.shape)\n",
        "\n",
        "x_train_noisy_i = np.clip(x_train_noisy_i, 0., 1.)\n",
        "x_test_noisy_i = np.clip(x_test_noisy_i, 0., 1.)\n"
      ],
      "metadata": {
        "id": "s2nFZ2Lk1e_z"
      },
      "execution_count": 7,
      "outputs": []
    },
    {
      "cell_type": "code",
      "source": [
        "plt.figure(figsize=(20, 2))\n",
        "for i in range(1,10):\n",
        "    ax = plt.subplot(1, 10, i)\n",
        "    plt.imshow(x_test_noisy_i[i].reshape(28, 28), cmap=\"binary\")\n",
        "plt.show()"
      ],
      "metadata": {
        "colab": {
          "base_uri": "https://localhost:8080/",
          "height": 174
        },
        "id": "j3QRPz6i4IHq",
        "outputId": "329708ba-7b69-40fc-c647-186d6c2c98b5"
      },
      "execution_count": 8,
      "outputs": [
        {
          "output_type": "display_data",
          "data": {
            "text/plain": [
              "<Figure size 2000x200 with 9 Axes>"
            ],
            "image/png": "[encoded data removed]"
          },
          "metadata": {}
        }
      ]
    },
    {
      "cell_type": "code",
      "source": [
        "plt.figure(figsize=(20, 2))\n",
        "for i in range(1,10):\n",
        "    ax = plt.subplot(1, 10, i)\n",
        "    plt.imshow(x_test_i[i].reshape(28, 28), cmap=\"binary\")\n",
        "plt.show()"
      ],
      "metadata": {
        "colab": {
          "base_uri": "https://localhost:8080/",
          "height": 174
        },
        "id": "zzahzdrO2EsE",
        "outputId": "73f3173c-711b-49d3-e3c8-5aaa9c8e887c"
      },
      "execution_count": 9,
      "outputs": [
        {
          "output_type": "display_data",
          "data": {
            "text/plain": [
              "<Figure size 2000x200 with 9 Axes>"
            ],
            "image/png": "[encoded data removed]"
          },
          "metadata": {}
        }
      ]
    },
    {
      "cell_type": "code",
      "source": [
        "plt.figure(figsize=(20, 2))\n",
        "for i in range(1,10):\n",
        "    ax = plt.subplot(1, 10, i)\n",
        "    plt.imshow(x_train_noisy_i[i].reshape(28, 28), cmap=\"gray\")\n",
        "plt.show()"
      ],
      "metadata": {
        "colab": {
          "base_uri": "https://localhost:8080/",
          "height": 174
        },
        "id": "vQwHPAye53MM",
        "outputId": "67df7ccb-8a60-4898-a964-67b3684e545f"
      },
      "execution_count": 10,
      "outputs": [
        {
          "output_type": "display_data",
          "data": {
            "text/plain": [
              "<Figure size 2000x200 with 9 Axes>"
            ],
            "image/png": "[encoded data removed]"
          },
          "metadata": {}
        }
      ]
    },
    {
      "cell_type": "code",
      "source": [
        "plt.figure(figsize=(20, 2))\n",
        "for i in range(1,10):\n",
        "    ax = plt.subplot(1, 10, i)\n",
        "    plt.imshow(x_train_i[i].reshape(28, 28), cmap=\"gray\")\n",
        "plt.show()"
      ],
      "metadata": {
        "colab": {
          "base_uri": "https://localhost:8080/",
          "height": 174
        },
        "id": "zEQNIlMT580n",
        "outputId": "478be785-69ef-4b7c-8149-65033805ca84"
      },
      "execution_count": 11,
      "outputs": [
        {
          "output_type": "display_data",
          "data": {
            "text/plain": [
              "<Figure size 2000x200 with 9 Axes>"
            ],
            "image/png": "[encoded data removed]"
          },
          "metadata": {}
        }
      ]
    },
    {
      "cell_type": "markdown",
      "source": [
        "#### **How the noise will work**"
      ],
      "metadata": {
        "id": "gPkSFzWY7rwD"
      }
    },
    {
      "cell_type": "code",
      "source": [
        "np.random.normal(loc=0.0, scale=1.0, size=x_train_reshaped.shape).shape"
      ],
      "metadata": {
        "colab": {
          "base_uri": "https://localhost:8080/"
        },
        "id": "s1d4POsz22dv",
        "outputId": "9639e5ab-3228-4cb7-fe02-16af653f35bd"
      },
      "execution_count": 12,
      "outputs": [
        {
          "output_type": "execute_result",
          "data": {
            "text/plain": [
              "(60000, 28, 28, 1)"
            ]
          },
          "metadata": {},
          "execution_count": 12
        }
      ]
    },
    {
      "cell_type": "code",
      "source": [
        "plt.hist(np.random.normal(loc=0.0, scale=1.0, size=x_train_reshaped.shape)[5].reshape(-1))\n",
        "plt.show()"
      ],
      "metadata": {
        "colab": {
          "base_uri": "https://localhost:8080/",
          "height": 430
        },
        "id": "QY9xqNXK2Zh-",
        "outputId": "8c51bb44-35b1-47e7-ee32-b0255312aa78"
      },
      "execution_count": 13,
      "outputs": [
        {
          "output_type": "display_data",
          "data": {
            "text/plain": [
              "<Figure size 640x480 with 1 Axes>"
            ],
            "image/png": "[encoded data removed]"
          },
          "metadata": {}
        }
      ]
    },
    {
      "cell_type": "code",
      "source": [
        "x_train_reshaped.shape, x_train_noisy_i.shape"
      ],
      "metadata": {
        "colab": {
          "base_uri": "https://localhost:8080/"
        },
        "id": "pll5ZgDu5Z11",
        "outputId": "4dd93bbb-af70-438d-cb3e-042c17fbd232"
      },
      "execution_count": 14,
      "outputs": [
        {
          "output_type": "execute_result",
          "data": {
            "text/plain": [
              "((60000, 28, 28, 1), (60000, 28, 28, 1))"
            ]
          },
          "metadata": {},
          "execution_count": 14
        }
      ]
    },
    {
      "cell_type": "code",
      "source": [
        "x_train_noisy_i.min(), x_train_noisy_i.max()"
      ],
      "metadata": {
        "colab": {
          "base_uri": "https://localhost:8080/"
        },
        "id": "DMhJohi175Bz",
        "outputId": "7abaa77c-55c8-4bf3-a771-b8ab499e9808"
      },
      "execution_count": 15,
      "outputs": [
        {
          "output_type": "execute_result",
          "data": {
            "text/plain": [
              "(0.0, 1.0)"
            ]
          },
          "metadata": {},
          "execution_count": 15
        }
      ]
    },
    {
      "cell_type": "markdown",
      "source": [
        "## **Build model**\n",
        "### **Size of image after applying filter**\n",
        "**Formula**\n",
        "- Size of image = ((I-F+2P)/S) + 1\n",
        "- Where,\n",
        "    - I = Image size\n",
        "    - F = Filter size\n",
        "    - P = Padding\n",
        "    - S = Strides\n"
      ],
      "metadata": {
        "id": "LQV-aKGp8G--"
      }
    },
    {
      "cell_type": "code",
      "source": [
        "model = Sequential([\n",
        "    layers.Conv2D(32,(3,3), activation='relu', padding='same', input_shape=(28,28,1)),\n",
        "    layers.MaxPooling2D((2,2), padding='same'),\n",
        "    layers.Conv2D(8, (3,3), activation='relu', padding='same'),\n",
        "    layers.MaxPooling2D((2,2), padding='same'),\n",
        "    layers.Conv2D(8, (3,3), activation='relu', padding='same'),\n",
        "    layers.MaxPooling2D((2,2), padding='same'),\n",
        "\n",
        "    layers.Conv2D(8, (3,3), activation='relu', padding='same'),\n",
        "    layers.UpSampling2D((2,2)),\n",
        "    layers.Conv2D(8, (3,3), activation='relu', padding='same'),\n",
        "    layers.UpSampling2D((2,2)),\n",
        "    layers.Conv2D(32, (3, 3), activation='relu'),\n",
        "    layers.UpSampling2D((2,2)),\n",
        "\n",
        "    layers.Conv2D(1, (3, 3), activation='relu', padding='same')\n",
        "])\n",
        "\n",
        "model.compile(optimizer=tf.keras.optimizers.Adam(0.001), loss='mean_squared_error',\n",
        "              metrics=['accuracy'])"
      ],
      "metadata": {
        "id": "DntmO29W7_7F"
      },
      "execution_count": 18,
      "outputs": []
    },
    {
      "cell_type": "code",
      "source": [
        "model.fit(x_train_noisy_i, x_train_reshaped, epochs=10, batch_size=256, shuffle=True,\n",
        "          validation_data=(x_test_noisy_i, x_test_reshaped))"
      ],
      "metadata": {
        "colab": {
          "base_uri": "https://localhost:8080/"
        },
        "id": "Wh6gthaG-qTs",
        "outputId": "b7a64412-ac26-479f-9142-cfae63201a4e"
      },
      "execution_count": 19,
      "outputs": [
        {
          "output_type": "stream",
          "name": "stdout",
          "text": [
            "Epoch 1/10\n",
            "235/235 [==============================] - 9s 21ms/step - loss: 0.0504 - accuracy: 0.7994 - val_loss: 0.0370 - val_accuracy: 0.7975\n",
            "Epoch 2/10\n",
            "235/235 [==============================] - 7s 32ms/step - loss: 0.0332 - accuracy: 0.8028 - val_loss: 0.0296 - val_accuracy: 0.8036\n",
            "Epoch 3/10\n",
            "235/235 [==============================] - 5s 23ms/step - loss: 0.0282 - accuracy: 0.8052 - val_loss: 0.0264 - val_accuracy: 0.8060\n",
            "Epoch 4/10\n",
            "235/235 [==============================] - 4s 16ms/step - loss: 0.0259 - accuracy: 0.8063 - val_loss: 0.0247 - val_accuracy: 0.8069\n",
            "Epoch 5/10\n",
            "235/235 [==============================] - 6s 24ms/step - loss: 0.0243 - accuracy: 0.8072 - val_loss: 0.0237 - val_accuracy: 0.8084\n",
            "Epoch 6/10\n",
            "235/235 [==============================] - 3s 15ms/step - loss: 0.0231 - accuracy: 0.8078 - val_loss: 0.0223 - val_accuracy: 0.8061\n",
            "Epoch 7/10\n",
            "235/235 [==============================] - 6s 26ms/step - loss: 0.0221 - accuracy: 0.8083 - val_loss: 0.0214 - val_accuracy: 0.8071\n",
            "Epoch 8/10\n",
            "235/235 [==============================] - 4s 18ms/step - loss: 0.0215 - accuracy: 0.8086 - val_loss: 0.0207 - val_accuracy: 0.8080\n",
            "Epoch 9/10\n",
            "235/235 [==============================] - 4s 18ms/step - loss: 0.0208 - accuracy: 0.8089 - val_loss: 0.0201 - val_accuracy: 0.8076\n",
            "Epoch 10/10\n",
            "235/235 [==============================] - 4s 18ms/step - loss: 0.0202 - accuracy: 0.8092 - val_loss: 0.0196 - val_accuracy: 0.8086\n"
          ]
        },
        {
          "output_type": "execute_result",
          "data": {
            "text/plain": [
              "<keras.src.callbacks.History at 0x7bb970a7fd30>"
            ]
          },
          "metadata": {},
          "execution_count": 19
        }
      ]
    },
    {
      "cell_type": "code",
      "source": [
        "model.summary()"
      ],
      "metadata": {
        "colab": {
          "base_uri": "https://localhost:8080/"
        },
        "id": "DUWY8twA-Whh",
        "outputId": "0ac97a77-c804-4301-d225-63ccc6db3880"
      },
      "execution_count": 20,
      "outputs": [
        {
          "output_type": "stream",
          "name": "stdout",
          "text": [
            "Model: \"sequential_1\"\n",
            "_________________________________________________________________\n",
            " Layer (type)                Output Shape              Param #   \n",
            "=================================================================\n",
            " conv2d_7 (Conv2D)           (None, 28, 28, 32)        320       \n",
            "                                                                 \n",
            " max_pooling2d_3 (MaxPoolin  (None, 14, 14, 32)        0         \n",
            " g2D)                                                            \n",
            "                                                                 \n",
            " conv2d_8 (Conv2D)           (None, 14, 14, 8)         2312      \n",
            "                                                                 \n",
            " max_pooling2d_4 (MaxPoolin  (None, 7, 7, 8)           0         \n",
            " g2D)                                                            \n",
            "                                                                 \n",
            " conv2d_9 (Conv2D)           (None, 7, 7, 8)           584       \n",
            "                                                                 \n",
            " max_pooling2d_5 (MaxPoolin  (None, 4, 4, 8)           0         \n",
            " g2D)                                                            \n",
            "                                                                 \n",
            " conv2d_10 (Conv2D)          (None, 4, 4, 8)           584       \n",
            "                                                                 \n",
            " up_sampling2d_3 (UpSamplin  (None, 8, 8, 8)           0         \n",
            " g2D)                                                            \n",
            "                                                                 \n",
            " conv2d_11 (Conv2D)          (None, 8, 8, 8)           584       \n",
            "                                                                 \n",
            " up_sampling2d_4 (UpSamplin  (None, 16, 16, 8)         0         \n",
            " g2D)                                                            \n",
            "                                                                 \n",
            " conv2d_12 (Conv2D)          (None, 14, 14, 32)        2336      \n",
            "                                                                 \n",
            " up_sampling2d_5 (UpSamplin  (None, 28, 28, 32)        0         \n",
            " g2D)                                                            \n",
            "                                                                 \n",
            " conv2d_13 (Conv2D)          (None, 28, 28, 1)         289       \n",
            "                                                                 \n",
            "=================================================================\n",
            "Total params: 7009 (27.38 KB)\n",
            "Trainable params: 7009 (27.38 KB)\n",
            "Non-trainable params: 0 (0.00 Byte)\n",
            "_________________________________________________________________\n"
          ]
        }
      ]
    },
    {
      "cell_type": "code",
      "source": [
        "res_1 = model.predict(x_test_noisy_i)"
      ],
      "metadata": {
        "colab": {
          "base_uri": "https://localhost:8080/"
        },
        "id": "kJ8eIPTr-YsX",
        "outputId": "b8fe7614-ac66-40ab-9088-1a5cb2916044"
      },
      "execution_count": 21,
      "outputs": [
        {
          "output_type": "stream",
          "name": "stdout",
          "text": [
            "313/313 [==============================] - 2s 6ms/step\n"
          ]
        }
      ]
    },
    {
      "cell_type": "code",
      "source": [
        "plt.matshow(res_1[14], cmap='binary')\n",
        "plt.axis('off')\n",
        "plt.show()"
      ],
      "metadata": {
        "colab": {
          "base_uri": "https://localhost:8080/",
          "height": 409
        },
        "id": "cB4jksdTtS--",
        "outputId": "1343aeb7-7640-4ec4-8489-dba0ff6471be"
      },
      "execution_count": 26,
      "outputs": [
        {
          "output_type": "display_data",
          "data": {
            "text/plain": [
              "<Figure size 480x480 with 1 Axes>"
            ],
            "image/png": "[encoded data removed]"
          },
          "metadata": {}
        }
      ]
    },
    {
      "cell_type": "code",
      "source": [
        "x_test_noisy_i[0][tf.newaxis].shape"
      ],
      "metadata": {
        "colab": {
          "base_uri": "https://localhost:8080/"
        },
        "id": "MHzVUt6ntqKE",
        "outputId": "46635101-a654-4d27-e045-cff62bf4ced0"
      },
      "execution_count": 23,
      "outputs": [
        {
          "output_type": "execute_result",
          "data": {
            "text/plain": [
              "(1, 28, 28, 1)"
            ]
          },
          "metadata": {},
          "execution_count": 23
        }
      ]
    },
    {
      "cell_type": "code",
      "source": [
        "plt.matshow(x_test_noisy_i[14].reshape(28,28), cmap='binary')\n",
        "plt.show()"
      ],
      "metadata": {
        "colab": {
          "base_uri": "https://localhost:8080/",
          "height": 437
        },
        "id": "2QKgTyy3uq3t",
        "outputId": "95d0d5ae-052f-43ff-fc44-7037fe94fc55"
      },
      "execution_count": 25,
      "outputs": [
        {
          "output_type": "display_data",
          "data": {
            "text/plain": [
              "<Figure size 480x480 with 1 Axes>"
            ],
            "image/png": "[encoded data removed]"
          },
          "metadata": {}
        }
      ]
    },
    {
      "cell_type": "code",
      "source": [
        "res2 = model.predict(x_test_noisy_i[22][tf.newaxis])\n",
        "\n",
        "plt.figure(figsize=(8, 4))\n",
        "ax = plt.subplot(1,2,1)\n",
        "plt.imshow(x_test_noisy_i[22].reshape(28,28), cmap='binary')\n",
        "plt.axis('off')\n",
        "plt.subplot(1,2,2)\n",
        "plt.imshow(res2.reshape(28,28), cmap='binary')\n",
        "plt.axis('off')\n",
        "plt.show()"
      ],
      "metadata": {
        "colab": {
          "base_uri": "https://localhost:8080/",
          "height": 335
        },
        "id": "lvX0Zu3NtgCA",
        "outputId": "9d343fe2-cd4b-4ba2-8420-a5aa2550ab91"
      },
      "execution_count": 28,
      "outputs": [
        {
          "output_type": "stream",
          "name": "stdout",
          "text": [
            "1/1 [==============================] - 0s 93ms/step\n"
          ]
        },
        {
          "output_type": "display_data",
          "data": {
            "text/plain": [
              "<Figure size 800x400 with 2 Axes>"
            ],
            "image/png": "[encoded data removed]"
          },
          "metadata": {}
        }
      ]
    },
    {
      "cell_type": "markdown",
      "source": [
        "## **Model-2**"
      ],
      "metadata": {
        "id": "3W5a2VmcEBrg"
      }
    },
    {
      "cell_type": "code",
      "source": [
        "model_2 = tf.keras.models.Sequential([\n",
        "    layers.Conv2D(32,(3,3), activation='relu', padding='same', input_shape=(28,28,1)),\n",
        "    layers.MaxPooling2D((2,2), padding='same'),\n",
        "    layers.Conv2D(8, (3,3), activation='relu', padding='same'),\n",
        "    layers.MaxPooling2D((2,2), padding='same'),\n",
        "    layers.Conv2D(8, (3,3), activation='relu', padding='same'),\n",
        "    layers.MaxPooling2D((2,2), padding='same'),\n",
        "\n",
        "    layers.Conv2D(8, (3,3), activation='relu', padding='same'),\n",
        "    layers.UpSampling2D((2,2)),\n",
        "    layers.Conv2D(8, (3,3), activation='relu', padding='same'),\n",
        "    layers.UpSampling2D((2,2)),\n",
        "    layers.Conv2D(32, (3, 3), activation='relu'),\n",
        "    layers.UpSampling2D((2,2)),\n",
        "\n",
        "    layers.Conv2D(1, (3, 3), activation='relu', padding='same')\n",
        "])\n",
        "\n",
        "model_2.compile(optimizer=tf.keras.optimizers.Adam(0.001), loss='mean_squared_error',\n",
        "              metrics=['accuracy'])"
      ],
      "metadata": {
        "id": "Jfd6qdt5EDa6"
      },
      "execution_count": 29,
      "outputs": []
    },
    {
      "cell_type": "code",
      "source": [
        "model_2.fit(x_train_noisy_i, x_train_reshaped, epochs=50, batch_size=256, shuffle=True,\n",
        "          validation_data=(x_test_noisy_i, x_test_reshaped))"
      ],
      "metadata": {
        "colab": {
          "base_uri": "https://localhost:8080/"
        },
        "id": "LUx2dOonElfQ",
        "outputId": "bb82a3c1-befd-491b-9cff-e94cc9c226e2"
      },
      "execution_count": 30,
      "outputs": [
        {
          "output_type": "stream",
          "name": "stdout",
          "text": [
            "Epoch 1/50\n",
            "235/235 [==============================] - 10s 32ms/step - loss: 0.0469 - accuracy: 0.8000 - val_loss: 0.0333 - val_accuracy: 0.8058\n",
            "Epoch 2/50\n",
            "235/235 [==============================] - 4s 16ms/step - loss: 0.0294 - accuracy: 0.8048 - val_loss: 0.0265 - val_accuracy: 0.8064\n",
            "Epoch 3/50\n",
            "235/235 [==============================] - 4s 17ms/step - loss: 0.0253 - accuracy: 0.8070 - val_loss: 0.0235 - val_accuracy: 0.8065\n",
            "Epoch 4/50\n",
            "235/235 [==============================] - 4s 17ms/step - loss: 0.0230 - accuracy: 0.8081 - val_loss: 0.0217 - val_accuracy: 0.8080\n",
            "Epoch 5/50\n",
            "235/235 [==============================] - 5s 20ms/step - loss: 0.0216 - accuracy: 0.8088 - val_loss: 0.0208 - val_accuracy: 0.8072\n",
            "Epoch 6/50\n",
            "235/235 [==============================] - 4s 18ms/step - loss: 0.0205 - accuracy: 0.8093 - val_loss: 0.0198 - val_accuracy: 0.8081\n",
            "Epoch 7/50\n",
            "235/235 [==============================] - 3s 14ms/step - loss: 0.0198 - accuracy: 0.8096 - val_loss: 0.0192 - val_accuracy: 0.8082\n",
            "Epoch 8/50\n",
            "235/235 [==============================] - 4s 18ms/step - loss: 0.0192 - accuracy: 0.8099 - val_loss: 0.0185 - val_accuracy: 0.8095\n",
            "Epoch 9/50\n",
            "235/235 [==============================] - 4s 17ms/step - loss: 0.0188 - accuracy: 0.8101 - val_loss: 0.0181 - val_accuracy: 0.8096\n",
            "Epoch 10/50\n",
            "235/235 [==============================] - 5s 20ms/step - loss: 0.0185 - accuracy: 0.8103 - val_loss: 0.0178 - val_accuracy: 0.8091\n",
            "Epoch 11/50\n",
            "235/235 [==============================] - 3s 13ms/step - loss: 0.0180 - accuracy: 0.8105 - val_loss: 0.0175 - val_accuracy: 0.8100\n",
            "Epoch 12/50\n",
            "235/235 [==============================] - 4s 15ms/step - loss: 0.0177 - accuracy: 0.8106 - val_loss: 0.0175 - val_accuracy: 0.8106\n",
            "Epoch 13/50\n",
            "235/235 [==============================] - 4s 16ms/step - loss: 0.0175 - accuracy: 0.8107 - val_loss: 0.0171 - val_accuracy: 0.8094\n",
            "Epoch 14/50\n",
            "235/235 [==============================] - 4s 18ms/step - loss: 0.0173 - accuracy: 0.8108 - val_loss: 0.0169 - val_accuracy: 0.8094\n",
            "Epoch 15/50\n",
            "235/235 [==============================] - 3s 12ms/step - loss: 0.0170 - accuracy: 0.8110 - val_loss: 0.0165 - val_accuracy: 0.8104\n",
            "Epoch 16/50\n",
            "235/235 [==============================] - 3s 14ms/step - loss: 0.0168 - accuracy: 0.8110 - val_loss: 0.0165 - val_accuracy: 0.8099\n",
            "Epoch 17/50\n",
            "235/235 [==============================] - 3s 11ms/step - loss: 0.0167 - accuracy: 0.8111 - val_loss: 0.0165 - val_accuracy: 0.8111\n",
            "Epoch 18/50\n",
            "235/235 [==============================] - 4s 16ms/step - loss: 0.0165 - accuracy: 0.8112 - val_loss: 0.0162 - val_accuracy: 0.8109\n",
            "Epoch 19/50\n",
            "235/235 [==============================] - 4s 18ms/step - loss: 0.0164 - accuracy: 0.8113 - val_loss: 0.0164 - val_accuracy: 0.8113\n",
            "Epoch 20/50\n",
            "235/235 [==============================] - 4s 18ms/step - loss: 0.0162 - accuracy: 0.8113 - val_loss: 0.0158 - val_accuracy: 0.8106\n",
            "Epoch 21/50\n",
            "235/235 [==============================] - 5s 20ms/step - loss: 0.0161 - accuracy: 0.8114 - val_loss: 0.0157 - val_accuracy: 0.8101\n",
            "Epoch 22/50\n",
            "235/235 [==============================] - 5s 23ms/step - loss: 0.0160 - accuracy: 0.8114 - val_loss: 0.0156 - val_accuracy: 0.8105\n",
            "Epoch 23/50\n",
            "235/235 [==============================] - 4s 18ms/step - loss: 0.0159 - accuracy: 0.8115 - val_loss: 0.0157 - val_accuracy: 0.8101\n",
            "Epoch 24/50\n",
            "235/235 [==============================] - 4s 18ms/step - loss: 0.0158 - accuracy: 0.8115 - val_loss: 0.0154 - val_accuracy: 0.8108\n",
            "Epoch 25/50\n",
            "235/235 [==============================] - 4s 17ms/step - loss: 0.0158 - accuracy: 0.8115 - val_loss: 0.0154 - val_accuracy: 0.8102\n",
            "Epoch 26/50\n",
            "235/235 [==============================] - 3s 15ms/step - loss: 0.0155 - accuracy: 0.8116 - val_loss: 0.0152 - val_accuracy: 0.8109\n",
            "Epoch 27/50\n",
            "235/235 [==============================] - 5s 19ms/step - loss: 0.0155 - accuracy: 0.8116 - val_loss: 0.0152 - val_accuracy: 0.8103\n",
            "Epoch 28/50\n",
            "235/235 [==============================] - 4s 17ms/step - loss: 0.0154 - accuracy: 0.8117 - val_loss: 0.0153 - val_accuracy: 0.8115\n",
            "Epoch 29/50\n",
            "235/235 [==============================] - 3s 14ms/step - loss: 0.0154 - accuracy: 0.8117 - val_loss: 0.0154 - val_accuracy: 0.8115\n",
            "Epoch 30/50\n",
            "235/235 [==============================] - 4s 19ms/step - loss: 0.0153 - accuracy: 0.8117 - val_loss: 0.0150 - val_accuracy: 0.8107\n",
            "Epoch 31/50\n",
            "235/235 [==============================] - 4s 15ms/step - loss: 0.0152 - accuracy: 0.8118 - val_loss: 0.0150 - val_accuracy: 0.8104\n",
            "Epoch 32/50\n",
            "235/235 [==============================] - 3s 11ms/step - loss: 0.0152 - accuracy: 0.8118 - val_loss: 0.0160 - val_accuracy: 0.8120\n",
            "Epoch 33/50\n",
            "235/235 [==============================] - 4s 15ms/step - loss: 0.0151 - accuracy: 0.8118 - val_loss: 0.0147 - val_accuracy: 0.8108\n",
            "Epoch 34/50\n",
            "235/235 [==============================] - 4s 16ms/step - loss: 0.0150 - accuracy: 0.8118 - val_loss: 0.0147 - val_accuracy: 0.8114\n",
            "Epoch 35/50\n",
            "235/235 [==============================] - 3s 12ms/step - loss: 0.0149 - accuracy: 0.8119 - val_loss: 0.0148 - val_accuracy: 0.8104\n",
            "Epoch 36/50\n",
            "235/235 [==============================] - 3s 12ms/step - loss: 0.0149 - accuracy: 0.8119 - val_loss: 0.0151 - val_accuracy: 0.8119\n",
            "Epoch 37/50\n",
            "235/235 [==============================] - 3s 11ms/step - loss: 0.0148 - accuracy: 0.8119 - val_loss: 0.0145 - val_accuracy: 0.8109\n",
            "Epoch 38/50\n",
            "235/235 [==============================] - 4s 17ms/step - loss: 0.0148 - accuracy: 0.8119 - val_loss: 0.0144 - val_accuracy: 0.8114\n",
            "Epoch 39/50\n",
            "235/235 [==============================] - 3s 12ms/step - loss: 0.0147 - accuracy: 0.8120 - val_loss: 0.0147 - val_accuracy: 0.8102\n",
            "Epoch 40/50\n",
            "235/235 [==============================] - 3s 12ms/step - loss: 0.0147 - accuracy: 0.8120 - val_loss: 0.0144 - val_accuracy: 0.8114\n",
            "Epoch 41/50\n",
            "235/235 [==============================] - 3s 14ms/step - loss: 0.0146 - accuracy: 0.8120 - val_loss: 0.0144 - val_accuracy: 0.8112\n",
            "Epoch 42/50\n",
            "235/235 [==============================] - 3s 14ms/step - loss: 0.0146 - accuracy: 0.8120 - val_loss: 0.0143 - val_accuracy: 0.8108\n",
            "Epoch 43/50\n",
            "235/235 [==============================] - 6s 25ms/step - loss: 0.0145 - accuracy: 0.8121 - val_loss: 0.0142 - val_accuracy: 0.8110\n",
            "Epoch 44/50\n",
            "235/235 [==============================] - 4s 16ms/step - loss: 0.0145 - accuracy: 0.8121 - val_loss: 0.0144 - val_accuracy: 0.8119\n",
            "Epoch 45/50\n",
            "235/235 [==============================] - 4s 19ms/step - loss: 0.0144 - accuracy: 0.8121 - val_loss: 0.0141 - val_accuracy: 0.8113\n",
            "Epoch 46/50\n",
            "235/235 [==============================] - 2s 11ms/step - loss: 0.0143 - accuracy: 0.8121 - val_loss: 0.0140 - val_accuracy: 0.8113\n",
            "Epoch 47/50\n",
            "235/235 [==============================] - 5s 20ms/step - loss: 0.0143 - accuracy: 0.8121 - val_loss: 0.0139 - val_accuracy: 0.8114\n",
            "Epoch 48/50\n",
            "235/235 [==============================] - 4s 16ms/step - loss: 0.0143 - accuracy: 0.8121 - val_loss: 0.0141 - val_accuracy: 0.8108\n",
            "Epoch 49/50\n",
            "235/235 [==============================] - 3s 12ms/step - loss: 0.0142 - accuracy: 0.8122 - val_loss: 0.0147 - val_accuracy: 0.8122\n",
            "Epoch 50/50\n",
            "235/235 [==============================] - 3s 11ms/step - loss: 0.0142 - accuracy: 0.8122 - val_loss: 0.0139 - val_accuracy: 0.8116\n"
          ]
        },
        {
          "output_type": "execute_result",
          "data": {
            "text/plain": [
              "<keras.src.callbacks.History at 0x7bb9201f3520>"
            ]
          },
          "metadata": {},
          "execution_count": 30
        }
      ]
    },
    {
      "cell_type": "markdown",
      "source": [
        "## **Predictions**"
      ],
      "metadata": {
        "id": "ZHU-jc6Dm3k6"
      }
    },
    {
      "cell_type": "code",
      "source": [
        "res_2 = model_2.predict(x_test_noisy_i)"
      ],
      "metadata": {
        "colab": {
          "base_uri": "https://localhost:8080/"
        },
        "id": "hk9l6qba6aPV",
        "outputId": "0a05f90b-c282-4453-f7aa-2271f065083a"
      },
      "execution_count": 38,
      "outputs": [
        {
          "output_type": "stream",
          "name": "stdout",
          "text": [
            "313/313 [==============================] - 1s 3ms/step\n"
          ]
        }
      ]
    },
    {
      "cell_type": "code",
      "source": [
        "plt.figure(figsize=(8,5))\n",
        "plt.subplot(1,4,1)\n",
        "plt.imshow(x_test_noisy_i[80], cmap='binary')\n",
        "plt.title(\"Noisy image\")\n",
        "plt.axis('off')\n",
        "\n",
        "plt.subplot(1,4,2)\n",
        "plt.imshow(res_2[80].reshape(28,28), cmap='binary')\n",
        "plt.title(\"Prediction-2\")\n",
        "plt.axis('off')\n",
        "\n",
        "plt.subplot(1,4,3)\n",
        "plt.imshow(res_1[80].reshape(28,28), cmap='binary')\n",
        "plt.title(\"Prediction-1\")\n",
        "plt.axis('off')\n",
        "\n",
        "plt.subplot(1,4,4)\n",
        "plt.imshow(x_test_reshaped[80], cmap='binary')\n",
        "plt.title(\"Original image\")\n",
        "plt.axis('off')\n",
        "\n",
        "\n",
        "plt.show()"
      ],
      "metadata": {
        "colab": {
          "base_uri": "https://localhost:8080/",
          "height": 194
        },
        "id": "JDoTjkMppaus",
        "outputId": "ca6d6f26-475f-4bbd-e0d1-377fe8e5fafa"
      },
      "execution_count": 49,
      "outputs": [
        {
          "output_type": "display_data",
          "data": {
            "text/plain": [
              "<Figure size 800x500 with 4 Axes>"
            ],
            "image/png": "[encoded data removed]"
          },
          "metadata": {}
        }
      ]
    },
    {
      "cell_type": "code",
      "source": [
        "plt.figure(figsize=(8,5))\n",
        "plt.subplot(1,4,1)\n",
        "plt.imshow(x_test_noisy_i[800], cmap='binary')\n",
        "plt.title(\"Noisy image\")\n",
        "plt.axis('off')\n",
        "\n",
        "plt.subplot(1,4,2)\n",
        "plt.imshow(res_2[800].reshape(28,28), cmap='binary')\n",
        "plt.title(\"Prediction-2\")\n",
        "plt.axis('off')\n",
        "\n",
        "plt.subplot(1,4,3)\n",
        "plt.imshow(res_1[800].reshape(28,28), cmap='binary')\n",
        "plt.title(\"Prediction-1\")\n",
        "plt.axis('off')\n",
        "\n",
        "plt.subplot(1,4,4)\n",
        "plt.imshow(x_test_reshaped[800], cmap='binary')\n",
        "plt.title(\"Original image\")\n",
        "plt.axis('off')\n",
        "\n",
        "\n",
        "plt.show()"
      ],
      "metadata": {
        "colab": {
          "base_uri": "https://localhost:8080/",
          "height": 194
        },
        "id": "CC_ljQzv6AR-",
        "outputId": "7a5188ce-5fdd-4c13-c1ef-802546fbd494"
      },
      "execution_count": 50,
      "outputs": [
        {
          "output_type": "display_data",
          "data": {
            "text/plain": [
              "<Figure size 800x500 with 4 Axes>"
            ],
            "image/png": "[encoded data removed]"
          },
          "metadata": {}
        }
      ]
    },
    {
      "cell_type": "code",
      "source": [
        "model.evaluate(x_test_noisy_i, x_test_reshaped)"
      ],
      "metadata": {
        "colab": {
          "base_uri": "https://localhost:8080/"
        },
        "id": "KzF5uwPQ675P",
        "outputId": "ad75790e-fef8-474f-c024-4e0b2c6eb1ba"
      },
      "execution_count": 45,
      "outputs": [
        {
          "output_type": "stream",
          "name": "stdout",
          "text": [
            "313/313 [==============================] - 2s 6ms/step - loss: 0.0196 - accuracy: 0.8086\n"
          ]
        },
        {
          "output_type": "execute_result",
          "data": {
            "text/plain": [
              "[0.01959320157766342, 0.8085597157478333]"
            ]
          },
          "metadata": {},
          "execution_count": 45
        }
      ]
    },
    {
      "cell_type": "code",
      "source": [
        "model_2.evaluate(x_test_noisy_i, x_test_reshaped)"
      ],
      "metadata": {
        "colab": {
          "base_uri": "https://localhost:8080/"
        },
        "id": "nBqv9Du17D5U",
        "outputId": "8831a87d-e827-4ab0-fe1b-5b86ffe9cb68"
      },
      "execution_count": 46,
      "outputs": [
        {
          "output_type": "stream",
          "name": "stdout",
          "text": [
            "313/313 [==============================] - 2s 6ms/step - loss: 0.0139 - accuracy: 0.8116\n"
          ]
        },
        {
          "output_type": "execute_result",
          "data": {
            "text/plain": [
              "[0.013900741934776306, 0.81157386302948]"
            ]
          },
          "metadata": {},
          "execution_count": 46
        }
      ]
    }
  ]
}